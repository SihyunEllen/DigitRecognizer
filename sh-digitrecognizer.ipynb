{
 "cells": [
  {
   "cell_type": "code",
   "execution_count": 1,
   "id": "eda84c7c",
   "metadata": {
    "_cell_guid": "b1076dfc-b9ad-4769-8c92-a6c4dae69d19",
    "_uuid": "8f2839f25d086af736a60e9eeb907d3b93b6e0e5",
    "execution": {
     "iopub.execute_input": "2024-03-28T06:40:20.788407Z",
     "iopub.status.busy": "2024-03-28T06:40:20.787898Z",
     "iopub.status.idle": "2024-03-28T06:40:21.801561Z",
     "shell.execute_reply": "2024-03-28T06:40:21.800416Z"
    },
    "papermill": {
     "duration": 1.021354,
     "end_time": "2024-03-28T06:40:21.804527",
     "exception": false,
     "start_time": "2024-03-28T06:40:20.783173",
     "status": "completed"
    },
    "tags": []
   },
   "outputs": [],
   "source": [
    "import numpy as np # linear algebra\n",
    "import pandas as pd # data processing, CSV file I/O (e.g. pd.read_csv)\n",
    "\n",
    "# Input data files are available in the read-only \"../input/\" directory\n",
    "# For example, running this (by clicking run or pressing Shift+Enter) will list all files under the input directory\n",
    "\n",
    "import os\n",
    "for dirname, _, filenames in os.walk('/kaggle/input'):\n",
    "    for filename in filenames:\n",
    "        print(os.path.join(dirname, filename))"
   ]
  },
  {
   "cell_type": "code",
   "execution_count": 2,
   "id": "b8fcba9a",
   "metadata": {
    "execution": {
     "iopub.execute_input": "2024-03-28T06:40:21.811576Z",
     "iopub.status.busy": "2024-03-28T06:40:21.811096Z",
     "iopub.status.idle": "2024-03-28T06:40:25.640170Z",
     "shell.execute_reply": "2024-03-28T06:40:25.638578Z"
    },
    "papermill": {
     "duration": 3.836034,
     "end_time": "2024-03-28T06:40:25.643405",
     "exception": false,
     "start_time": "2024-03-28T06:40:21.807371",
     "status": "completed"
    },
    "tags": []
   },
   "outputs": [],
   "source": [
    "import torch\n",
    "import torch.nn as nn"
   ]
  },
  {
   "cell_type": "code",
   "execution_count": null,
   "id": "5eb73b6d",
   "metadata": {
    "papermill": {
     "duration": 0.002234,
     "end_time": "2024-03-28T06:40:25.648682",
     "exception": false,
     "start_time": "2024-03-28T06:40:25.646448",
     "status": "completed"
    },
    "tags": []
   },
   "outputs": [],
   "source": []
  }
 ],
 "metadata": {
  "kaggle": {
   "accelerator": "none",
   "dataSources": [],
   "dockerImageVersionId": 30673,
   "isGpuEnabled": false,
   "isInternetEnabled": true,
   "language": "python",
   "sourceType": "notebook"
  },
  "kernelspec": {
   "display_name": "Python 3",
   "language": "python",
   "name": "python3"
  },
  "language_info": {
   "codemirror_mode": {
    "name": "ipython",
    "version": 3
   },
   "file_extension": ".py",
   "mimetype": "text/x-python",
   "name": "python",
   "nbconvert_exporter": "python",
   "pygments_lexer": "ipython3",
   "version": "3.10.13"
  },
  "papermill": {
   "default_parameters": {},
   "duration": 8.986421,
   "end_time": "2024-03-28T06:40:26.675108",
   "environment_variables": {},
   "exception": null,
   "input_path": "__notebook__.ipynb",
   "output_path": "__notebook__.ipynb",
   "parameters": {},
   "start_time": "2024-03-28T06:40:17.688687",
   "version": "2.5.0"
  }
 },
 "nbformat": 4,
 "nbformat_minor": 5
}
