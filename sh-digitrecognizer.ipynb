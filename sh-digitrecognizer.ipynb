{
 "cells": [
  {
   "cell_type": "code",
   "execution_count": 1,
   "id": "c77cb678",
   "metadata": {
    "_cell_guid": "b1076dfc-b9ad-4769-8c92-a6c4dae69d19",
    "_uuid": "8f2839f25d086af736a60e9eeb907d3b93b6e0e5",
    "execution": {
     "iopub.execute_input": "2024-04-02T13:49:01.842394Z",
     "iopub.status.busy": "2024-04-02T13:49:01.842008Z",
     "iopub.status.idle": "2024-04-02T13:49:02.599496Z",
     "shell.execute_reply": "2024-04-02T13:49:02.598461Z"
    },
    "papermill": {
     "duration": 0.769319,
     "end_time": "2024-04-02T13:49:02.601665",
     "exception": false,
     "start_time": "2024-04-02T13:49:01.832346",
     "status": "completed"
    },
    "tags": []
   },
   "outputs": [
    {
     "name": "stdout",
     "output_type": "stream",
     "text": [
      "/kaggle/input/digit-recognizer/sample_submission.csv\n",
      "/kaggle/input/digit-recognizer/train.csv\n",
      "/kaggle/input/digit-recognizer/test.csv\n"
     ]
    }
   ],
   "source": [
    "import numpy as np \n",
    "import pandas as pd \n",
    "import os\n",
    "for dirname, _, filenames in os.walk('/kaggle/input'):\n",
    "    for filename in filenames:\n",
    "        print(os.path.join(dirname, filename))"
   ]
  },
  {
   "cell_type": "code",
   "execution_count": 2,
   "id": "3c5b322d",
   "metadata": {
    "execution": {
     "iopub.execute_input": "2024-04-02T13:49:02.619554Z",
     "iopub.status.busy": "2024-04-02T13:49:02.618709Z",
     "iopub.status.idle": "2024-04-02T13:49:10.842578Z",
     "shell.execute_reply": "2024-04-02T13:49:10.841715Z"
    },
    "papermill": {
     "duration": 8.235159,
     "end_time": "2024-04-02T13:49:10.844859",
     "exception": false,
     "start_time": "2024-04-02T13:49:02.609700",
     "status": "completed"
    },
    "tags": []
   },
   "outputs": [],
   "source": [
    "import torch\n",
    "import torch.nn as nn\n",
    "from torch.utils.data import DataLoader, Subset\n",
    "from torchvision import datasets, transforms\n",
    "from sklearn.model_selection import train_test_split\n",
    "import numpy as np\n",
    "from copy import deepcopy # 모델 파라미터값 깊은 복사 (베스트 모델 저장을 위함)\n",
    "from torch.utils.data import TensorDataset"
   ]
  },
  {
   "cell_type": "code",
   "execution_count": 3,
   "id": "bcf0c30c",
   "metadata": {
    "execution": {
     "iopub.execute_input": "2024-04-02T13:49:10.861770Z",
     "iopub.status.busy": "2024-04-02T13:49:10.861300Z",
     "iopub.status.idle": "2024-04-02T13:49:10.919717Z",
     "shell.execute_reply": "2024-04-02T13:49:10.918821Z"
    },
    "papermill": {
     "duration": 0.06884,
     "end_time": "2024-04-02T13:49:10.921606",
     "exception": false,
     "start_time": "2024-04-02T13:49:10.852766",
     "status": "completed"
    },
    "tags": []
   },
   "outputs": [],
   "source": [
    "device = torch.device(\"cuda\" if torch.cuda.is_available() else \"cpu\")"
   ]
  },
  {
   "cell_type": "code",
   "execution_count": 4,
   "id": "a5f772db",
   "metadata": {
    "execution": {
     "iopub.execute_input": "2024-04-02T13:49:10.938235Z",
     "iopub.status.busy": "2024-04-02T13:49:10.937939Z",
     "iopub.status.idle": "2024-04-02T13:49:16.596558Z",
     "shell.execute_reply": "2024-04-02T13:49:16.595528Z"
    },
    "papermill": {
     "duration": 5.669566,
     "end_time": "2024-04-02T13:49:16.598957",
     "exception": false,
     "start_time": "2024-04-02T13:49:10.929391",
     "status": "completed"
    },
    "tags": []
   },
   "outputs": [],
   "source": [
    "train= pd.read_csv(\"/kaggle/input/digit-recognizer/train.csv\")\n",
    "test=pd.read_csv(\"/kaggle/input/digit-recognizer/test.csv\")"
   ]
  },
  {
   "cell_type": "code",
   "execution_count": 5,
   "id": "69ae839d",
   "metadata": {
    "execution": {
     "iopub.execute_input": "2024-04-02T13:49:16.616625Z",
     "iopub.status.busy": "2024-04-02T13:49:16.616328Z",
     "iopub.status.idle": "2024-04-02T13:49:16.645512Z",
     "shell.execute_reply": "2024-04-02T13:49:16.644706Z"
    },
    "jupyter": {
     "source_hidden": true
    },
    "papermill": {
     "duration": 0.040303,
     "end_time": "2024-04-02T13:49:16.647544",
     "exception": false,
     "start_time": "2024-04-02T13:49:16.607241",
     "status": "completed"
    },
    "tags": []
   },
   "outputs": [
    {
     "data": {
      "text/html": [
       "<div>\n",
       "<style scoped>\n",
       "    .dataframe tbody tr th:only-of-type {\n",
       "        vertical-align: middle;\n",
       "    }\n",
       "\n",
       "    .dataframe tbody tr th {\n",
       "        vertical-align: top;\n",
       "    }\n",
       "\n",
       "    .dataframe thead th {\n",
       "        text-align: right;\n",
       "    }\n",
       "</style>\n",
       "<table border=\"1\" class=\"dataframe\">\n",
       "  <thead>\n",
       "    <tr style=\"text-align: right;\">\n",
       "      <th></th>\n",
       "      <th>label</th>\n",
       "      <th>pixel0</th>\n",
       "      <th>pixel1</th>\n",
       "      <th>pixel2</th>\n",
       "      <th>pixel3</th>\n",
       "      <th>pixel4</th>\n",
       "      <th>pixel5</th>\n",
       "      <th>pixel6</th>\n",
       "      <th>pixel7</th>\n",
       "      <th>pixel8</th>\n",
       "      <th>...</th>\n",
       "      <th>pixel774</th>\n",
       "      <th>pixel775</th>\n",
       "      <th>pixel776</th>\n",
       "      <th>pixel777</th>\n",
       "      <th>pixel778</th>\n",
       "      <th>pixel779</th>\n",
       "      <th>pixel780</th>\n",
       "      <th>pixel781</th>\n",
       "      <th>pixel782</th>\n",
       "      <th>pixel783</th>\n",
       "    </tr>\n",
       "  </thead>\n",
       "  <tbody>\n",
       "    <tr>\n",
       "      <th>0</th>\n",
       "      <td>1</td>\n",
       "      <td>0</td>\n",
       "      <td>0</td>\n",
       "      <td>0</td>\n",
       "      <td>0</td>\n",
       "      <td>0</td>\n",
       "      <td>0</td>\n",
       "      <td>0</td>\n",
       "      <td>0</td>\n",
       "      <td>0</td>\n",
       "      <td>...</td>\n",
       "      <td>0</td>\n",
       "      <td>0</td>\n",
       "      <td>0</td>\n",
       "      <td>0</td>\n",
       "      <td>0</td>\n",
       "      <td>0</td>\n",
       "      <td>0</td>\n",
       "      <td>0</td>\n",
       "      <td>0</td>\n",
       "      <td>0</td>\n",
       "    </tr>\n",
       "    <tr>\n",
       "      <th>1</th>\n",
       "      <td>0</td>\n",
       "      <td>0</td>\n",
       "      <td>0</td>\n",
       "      <td>0</td>\n",
       "      <td>0</td>\n",
       "      <td>0</td>\n",
       "      <td>0</td>\n",
       "      <td>0</td>\n",
       "      <td>0</td>\n",
       "      <td>0</td>\n",
       "      <td>...</td>\n",
       "      <td>0</td>\n",
       "      <td>0</td>\n",
       "      <td>0</td>\n",
       "      <td>0</td>\n",
       "      <td>0</td>\n",
       "      <td>0</td>\n",
       "      <td>0</td>\n",
       "      <td>0</td>\n",
       "      <td>0</td>\n",
       "      <td>0</td>\n",
       "    </tr>\n",
       "    <tr>\n",
       "      <th>2</th>\n",
       "      <td>1</td>\n",
       "      <td>0</td>\n",
       "      <td>0</td>\n",
       "      <td>0</td>\n",
       "      <td>0</td>\n",
       "      <td>0</td>\n",
       "      <td>0</td>\n",
       "      <td>0</td>\n",
       "      <td>0</td>\n",
       "      <td>0</td>\n",
       "      <td>...</td>\n",
       "      <td>0</td>\n",
       "      <td>0</td>\n",
       "      <td>0</td>\n",
       "      <td>0</td>\n",
       "      <td>0</td>\n",
       "      <td>0</td>\n",
       "      <td>0</td>\n",
       "      <td>0</td>\n",
       "      <td>0</td>\n",
       "      <td>0</td>\n",
       "    </tr>\n",
       "    <tr>\n",
       "      <th>3</th>\n",
       "      <td>4</td>\n",
       "      <td>0</td>\n",
       "      <td>0</td>\n",
       "      <td>0</td>\n",
       "      <td>0</td>\n",
       "      <td>0</td>\n",
       "      <td>0</td>\n",
       "      <td>0</td>\n",
       "      <td>0</td>\n",
       "      <td>0</td>\n",
       "      <td>...</td>\n",
       "      <td>0</td>\n",
       "      <td>0</td>\n",
       "      <td>0</td>\n",
       "      <td>0</td>\n",
       "      <td>0</td>\n",
       "      <td>0</td>\n",
       "      <td>0</td>\n",
       "      <td>0</td>\n",
       "      <td>0</td>\n",
       "      <td>0</td>\n",
       "    </tr>\n",
       "    <tr>\n",
       "      <th>4</th>\n",
       "      <td>0</td>\n",
       "      <td>0</td>\n",
       "      <td>0</td>\n",
       "      <td>0</td>\n",
       "      <td>0</td>\n",
       "      <td>0</td>\n",
       "      <td>0</td>\n",
       "      <td>0</td>\n",
       "      <td>0</td>\n",
       "      <td>0</td>\n",
       "      <td>...</td>\n",
       "      <td>0</td>\n",
       "      <td>0</td>\n",
       "      <td>0</td>\n",
       "      <td>0</td>\n",
       "      <td>0</td>\n",
       "      <td>0</td>\n",
       "      <td>0</td>\n",
       "      <td>0</td>\n",
       "      <td>0</td>\n",
       "      <td>0</td>\n",
       "    </tr>\n",
       "    <tr>\n",
       "      <th>...</th>\n",
       "      <td>...</td>\n",
       "      <td>...</td>\n",
       "      <td>...</td>\n",
       "      <td>...</td>\n",
       "      <td>...</td>\n",
       "      <td>...</td>\n",
       "      <td>...</td>\n",
       "      <td>...</td>\n",
       "      <td>...</td>\n",
       "      <td>...</td>\n",
       "      <td>...</td>\n",
       "      <td>...</td>\n",
       "      <td>...</td>\n",
       "      <td>...</td>\n",
       "      <td>...</td>\n",
       "      <td>...</td>\n",
       "      <td>...</td>\n",
       "      <td>...</td>\n",
       "      <td>...</td>\n",
       "      <td>...</td>\n",
       "      <td>...</td>\n",
       "    </tr>\n",
       "    <tr>\n",
       "      <th>41995</th>\n",
       "      <td>0</td>\n",
       "      <td>0</td>\n",
       "      <td>0</td>\n",
       "      <td>0</td>\n",
       "      <td>0</td>\n",
       "      <td>0</td>\n",
       "      <td>0</td>\n",
       "      <td>0</td>\n",
       "      <td>0</td>\n",
       "      <td>0</td>\n",
       "      <td>...</td>\n",
       "      <td>0</td>\n",
       "      <td>0</td>\n",
       "      <td>0</td>\n",
       "      <td>0</td>\n",
       "      <td>0</td>\n",
       "      <td>0</td>\n",
       "      <td>0</td>\n",
       "      <td>0</td>\n",
       "      <td>0</td>\n",
       "      <td>0</td>\n",
       "    </tr>\n",
       "    <tr>\n",
       "      <th>41996</th>\n",
       "      <td>1</td>\n",
       "      <td>0</td>\n",
       "      <td>0</td>\n",
       "      <td>0</td>\n",
       "      <td>0</td>\n",
       "      <td>0</td>\n",
       "      <td>0</td>\n",
       "      <td>0</td>\n",
       "      <td>0</td>\n",
       "      <td>0</td>\n",
       "      <td>...</td>\n",
       "      <td>0</td>\n",
       "      <td>0</td>\n",
       "      <td>0</td>\n",
       "      <td>0</td>\n",
       "      <td>0</td>\n",
       "      <td>0</td>\n",
       "      <td>0</td>\n",
       "      <td>0</td>\n",
       "      <td>0</td>\n",
       "      <td>0</td>\n",
       "    </tr>\n",
       "    <tr>\n",
       "      <th>41997</th>\n",
       "      <td>7</td>\n",
       "      <td>0</td>\n",
       "      <td>0</td>\n",
       "      <td>0</td>\n",
       "      <td>0</td>\n",
       "      <td>0</td>\n",
       "      <td>0</td>\n",
       "      <td>0</td>\n",
       "      <td>0</td>\n",
       "      <td>0</td>\n",
       "      <td>...</td>\n",
       "      <td>0</td>\n",
       "      <td>0</td>\n",
       "      <td>0</td>\n",
       "      <td>0</td>\n",
       "      <td>0</td>\n",
       "      <td>0</td>\n",
       "      <td>0</td>\n",
       "      <td>0</td>\n",
       "      <td>0</td>\n",
       "      <td>0</td>\n",
       "    </tr>\n",
       "    <tr>\n",
       "      <th>41998</th>\n",
       "      <td>6</td>\n",
       "      <td>0</td>\n",
       "      <td>0</td>\n",
       "      <td>0</td>\n",
       "      <td>0</td>\n",
       "      <td>0</td>\n",
       "      <td>0</td>\n",
       "      <td>0</td>\n",
       "      <td>0</td>\n",
       "      <td>0</td>\n",
       "      <td>...</td>\n",
       "      <td>0</td>\n",
       "      <td>0</td>\n",
       "      <td>0</td>\n",
       "      <td>0</td>\n",
       "      <td>0</td>\n",
       "      <td>0</td>\n",
       "      <td>0</td>\n",
       "      <td>0</td>\n",
       "      <td>0</td>\n",
       "      <td>0</td>\n",
       "    </tr>\n",
       "    <tr>\n",
       "      <th>41999</th>\n",
       "      <td>9</td>\n",
       "      <td>0</td>\n",
       "      <td>0</td>\n",
       "      <td>0</td>\n",
       "      <td>0</td>\n",
       "      <td>0</td>\n",
       "      <td>0</td>\n",
       "      <td>0</td>\n",
       "      <td>0</td>\n",
       "      <td>0</td>\n",
       "      <td>...</td>\n",
       "      <td>0</td>\n",
       "      <td>0</td>\n",
       "      <td>0</td>\n",
       "      <td>0</td>\n",
       "      <td>0</td>\n",
       "      <td>0</td>\n",
       "      <td>0</td>\n",
       "      <td>0</td>\n",
       "      <td>0</td>\n",
       "      <td>0</td>\n",
       "    </tr>\n",
       "  </tbody>\n",
       "</table>\n",
       "<p>42000 rows × 785 columns</p>\n",
       "</div>"
      ],
      "text/plain": [
       "       label  pixel0  pixel1  pixel2  pixel3  pixel4  pixel5  pixel6  pixel7  \\\n",
       "0          1       0       0       0       0       0       0       0       0   \n",
       "1          0       0       0       0       0       0       0       0       0   \n",
       "2          1       0       0       0       0       0       0       0       0   \n",
       "3          4       0       0       0       0       0       0       0       0   \n",
       "4          0       0       0       0       0       0       0       0       0   \n",
       "...      ...     ...     ...     ...     ...     ...     ...     ...     ...   \n",
       "41995      0       0       0       0       0       0       0       0       0   \n",
       "41996      1       0       0       0       0       0       0       0       0   \n",
       "41997      7       0       0       0       0       0       0       0       0   \n",
       "41998      6       0       0       0       0       0       0       0       0   \n",
       "41999      9       0       0       0       0       0       0       0       0   \n",
       "\n",
       "       pixel8  ...  pixel774  pixel775  pixel776  pixel777  pixel778  \\\n",
       "0           0  ...         0         0         0         0         0   \n",
       "1           0  ...         0         0         0         0         0   \n",
       "2           0  ...         0         0         0         0         0   \n",
       "3           0  ...         0         0         0         0         0   \n",
       "4           0  ...         0         0         0         0         0   \n",
       "...       ...  ...       ...       ...       ...       ...       ...   \n",
       "41995       0  ...         0         0         0         0         0   \n",
       "41996       0  ...         0         0         0         0         0   \n",
       "41997       0  ...         0         0         0         0         0   \n",
       "41998       0  ...         0         0         0         0         0   \n",
       "41999       0  ...         0         0         0         0         0   \n",
       "\n",
       "       pixel779  pixel780  pixel781  pixel782  pixel783  \n",
       "0             0         0         0         0         0  \n",
       "1             0         0         0         0         0  \n",
       "2             0         0         0         0         0  \n",
       "3             0         0         0         0         0  \n",
       "4             0         0         0         0         0  \n",
       "...         ...       ...       ...       ...       ...  \n",
       "41995         0         0         0         0         0  \n",
       "41996         0         0         0         0         0  \n",
       "41997         0         0         0         0         0  \n",
       "41998         0         0         0         0         0  \n",
       "41999         0         0         0         0         0  \n",
       "\n",
       "[42000 rows x 785 columns]"
      ]
     },
     "metadata": {},
     "output_type": "display_data"
    }
   ],
   "source": [
    "display(train)"
   ]
  },
  {
   "cell_type": "code",
   "execution_count": 6,
   "id": "65150d79",
   "metadata": {
    "execution": {
     "iopub.execute_input": "2024-04-02T13:49:16.667114Z",
     "iopub.status.busy": "2024-04-02T13:49:16.666422Z",
     "iopub.status.idle": "2024-04-02T13:49:16.672003Z",
     "shell.execute_reply": "2024-04-02T13:49:16.671076Z"
    },
    "papermill": {
     "duration": 0.017908,
     "end_time": "2024-04-02T13:49:16.674083",
     "exception": false,
     "start_time": "2024-04-02T13:49:16.656175",
     "status": "completed"
    },
    "tags": []
   },
   "outputs": [
    {
     "data": {
      "text/plain": [
       "(42000, 785)"
      ]
     },
     "execution_count": 6,
     "metadata": {},
     "output_type": "execute_result"
    }
   ],
   "source": [
    "train.shape"
   ]
  },
  {
   "cell_type": "code",
   "execution_count": 7,
   "id": "e2fecd09",
   "metadata": {
    "execution": {
     "iopub.execute_input": "2024-04-02T13:49:16.692280Z",
     "iopub.status.busy": "2024-04-02T13:49:16.691471Z",
     "iopub.status.idle": "2024-04-02T13:49:16.774344Z",
     "shell.execute_reply": "2024-04-02T13:49:16.773459Z"
    },
    "papermill": {
     "duration": 0.094583,
     "end_time": "2024-04-02T13:49:16.776826",
     "exception": false,
     "start_time": "2024-04-02T13:49:16.682243",
     "status": "completed"
    },
    "tags": []
   },
   "outputs": [],
   "source": [
    "X_train= train.drop(['label'],axis= 1).values\n",
    "y_train=train['label'].values"
   ]
  },
  {
   "cell_type": "code",
   "execution_count": 8,
   "id": "9b668f46",
   "metadata": {
    "execution": {
     "iopub.execute_input": "2024-04-02T13:49:16.795594Z",
     "iopub.status.busy": "2024-04-02T13:49:16.795273Z",
     "iopub.status.idle": "2024-04-02T13:49:16.875253Z",
     "shell.execute_reply": "2024-04-02T13:49:16.874464Z"
    },
    "papermill": {
     "duration": 0.091879,
     "end_time": "2024-04-02T13:49:16.877833",
     "exception": false,
     "start_time": "2024-04-02T13:49:16.785954",
     "status": "completed"
    },
    "tags": []
   },
   "outputs": [],
   "source": [
    "X_test=train.drop(['label'],axis=1).values"
   ]
  },
  {
   "cell_type": "code",
   "execution_count": 9,
   "id": "af877561",
   "metadata": {
    "execution": {
     "iopub.execute_input": "2024-04-02T13:49:16.896185Z",
     "iopub.status.busy": "2024-04-02T13:49:16.895887Z",
     "iopub.status.idle": "2024-04-02T13:49:16.900365Z",
     "shell.execute_reply": "2024-04-02T13:49:16.899477Z"
    },
    "papermill": {
     "duration": 0.016331,
     "end_time": "2024-04-02T13:49:16.902588",
     "exception": false,
     "start_time": "2024-04-02T13:49:16.886257",
     "status": "completed"
    },
    "tags": []
   },
   "outputs": [
    {
     "name": "stdout",
     "output_type": "stream",
     "text": [
      "(42000, 784) (42000,)\n"
     ]
    }
   ],
   "source": [
    "print(X_train.shape, y_train.shape)\n",
    "#x_train은 2차원 텐서 , y_train은 벡터"
   ]
  },
  {
   "cell_type": "code",
   "execution_count": 10,
   "id": "e47e4eb3",
   "metadata": {
    "execution": {
     "iopub.execute_input": "2024-04-02T13:49:16.920573Z",
     "iopub.status.busy": "2024-04-02T13:49:16.920282Z",
     "iopub.status.idle": "2024-04-02T13:49:16.924148Z",
     "shell.execute_reply": "2024-04-02T13:49:16.923387Z"
    },
    "papermill": {
     "duration": 0.015034,
     "end_time": "2024-04-02T13:49:16.926038",
     "exception": false,
     "start_time": "2024-04-02T13:49:16.911004",
     "status": "completed"
    },
    "tags": []
   },
   "outputs": [],
   "source": [
    "import matplotlib.pyplot as plt\n",
    "import matplotlib.image as mpimg"
   ]
  },
  {
   "cell_type": "code",
   "execution_count": 11,
   "id": "f4edbd40",
   "metadata": {
    "execution": {
     "iopub.execute_input": "2024-04-02T13:49:16.943848Z",
     "iopub.status.busy": "2024-04-02T13:49:16.943562Z",
     "iopub.status.idle": "2024-04-02T13:49:16.949477Z",
     "shell.execute_reply": "2024-04-02T13:49:16.948549Z"
    },
    "papermill": {
     "duration": 0.016957,
     "end_time": "2024-04-02T13:49:16.951333",
     "exception": false,
     "start_time": "2024-04-02T13:49:16.934376",
     "status": "completed"
    },
    "tags": []
   },
   "outputs": [
    {
     "data": {
      "text/plain": [
       "(42000, 1, 28, 28)"
      ]
     },
     "execution_count": 11,
     "metadata": {},
     "output_type": "execute_result"
    }
   ],
   "source": [
    "#픽셀 28*28 \n",
    "X_train=X_train.reshape(-1,1,28,28)\n",
    "X_train.shape"
   ]
  },
  {
   "cell_type": "code",
   "execution_count": 12,
   "id": "909ee20b",
   "metadata": {
    "execution": {
     "iopub.execute_input": "2024-04-02T13:49:16.969908Z",
     "iopub.status.busy": "2024-04-02T13:49:16.969599Z",
     "iopub.status.idle": "2024-04-02T13:49:17.230790Z",
     "shell.execute_reply": "2024-04-02T13:49:17.229923Z"
    },
    "papermill": {
     "duration": 0.27281,
     "end_time": "2024-04-02T13:49:17.232913",
     "exception": false,
     "start_time": "2024-04-02T13:49:16.960103",
     "status": "completed"
    },
    "tags": []
   },
   "outputs": [
    {
     "data": {
      "image/png": "[encoded data removed]",
      "text/plain": [
       "<Figure size 640x480 with 1 Axes>"
      ]
     },
     "metadata": {},
     "output_type": "display_data"
    }
   ],
   "source": [
    "import matplotlib.pyplot as plt\n",
    "\n",
    "# 예시로 첫 번째 이미지를 출력해봅시다.\n",
    "image_index = 0\n",
    "image = X_train[image_index, 0]  # 42000개 중 첫 번째 이미지 선택, 채널 차원 제거\n",
    "plt.imshow(image, cmap='gray')  # 흑백 이미지로 표시\n",
    "plt.show()\n"
   ]
  },
  {
   "cell_type": "code",
   "execution_count": 13,
   "id": "639aaafc",
   "metadata": {
    "execution": {
     "iopub.execute_input": "2024-04-02T13:49:17.251971Z",
     "iopub.status.busy": "2024-04-02T13:49:17.251632Z",
     "iopub.status.idle": "2024-04-02T13:49:17.647517Z",
     "shell.execute_reply": "2024-04-02T13:49:17.646719Z"
    },
    "papermill": {
     "duration": 0.407891,
     "end_time": "2024-04-02T13:49:17.649923",
     "exception": false,
     "start_time": "2024-04-02T13:49:17.242032",
     "status": "completed"
    },
    "tags": []
   },
   "outputs": [],
   "source": [
    "X_train, X_val, y_train, y_val = train_test_split(X_train, y_train, test_size = 0.2, shuffle=True)"
   ]
  },
  {
   "cell_type": "code",
   "execution_count": 14,
   "id": "23c30c2b",
   "metadata": {
    "execution": {
     "iopub.execute_input": "2024-04-02T13:49:17.669168Z",
     "iopub.status.busy": "2024-04-02T13:49:17.668834Z",
     "iopub.status.idle": "2024-04-02T13:49:17.674356Z",
     "shell.execute_reply": "2024-04-02T13:49:17.673543Z"
    },
    "papermill": {
     "duration": 0.017322,
     "end_time": "2024-04-02T13:49:17.676324",
     "exception": false,
     "start_time": "2024-04-02T13:49:17.659002",
     "status": "completed"
    },
    "tags": []
   },
   "outputs": [
    {
     "data": {
      "text/plain": [
       "(33600, 1, 28, 28)"
      ]
     },
     "execution_count": 14,
     "metadata": {},
     "output_type": "execute_result"
    }
   ],
   "source": [
    "X_train.shape"
   ]
  },
  {
   "cell_type": "code",
   "execution_count": 15,
   "id": "25d5cdcb",
   "metadata": {
    "execution": {
     "iopub.execute_input": "2024-04-02T13:49:17.695319Z",
     "iopub.status.busy": "2024-04-02T13:49:17.694992Z",
     "iopub.status.idle": "2024-04-02T13:49:17.778617Z",
     "shell.execute_reply": "2024-04-02T13:49:17.777806Z"
    },
    "papermill": {
     "duration": 0.096059,
     "end_time": "2024-04-02T13:49:17.781095",
     "exception": false,
     "start_time": "2024-04-02T13:49:17.685036",
     "status": "completed"
    },
    "tags": []
   },
   "outputs": [],
   "source": [
    "X_train = torch.tensor(X_train, dtype=torch.float32)  \n",
    "y_train = torch.tensor(y_train, dtype=torch.long)     \n",
    "X_val = torch.tensor(X_val, dtype=torch.float32)     \n",
    "y_val = torch.tensor(y_val, dtype=torch.long)         \n"
   ]
  },
  {
   "cell_type": "code",
   "execution_count": 16,
   "id": "b53c736a",
   "metadata": {
    "execution": {
     "iopub.execute_input": "2024-04-02T13:49:17.800487Z",
     "iopub.status.busy": "2024-04-02T13:49:17.799971Z",
     "iopub.status.idle": "2024-04-02T13:49:17.806519Z",
     "shell.execute_reply": "2024-04-02T13:49:17.805653Z"
    },
    "papermill": {
     "duration": 0.018108,
     "end_time": "2024-04-02T13:49:17.808361",
     "exception": false,
     "start_time": "2024-04-02T13:49:17.790253",
     "status": "completed"
    },
    "tags": []
   },
   "outputs": [],
   "source": [
    "train_dataset=TensorDataset(X_train, y_train)\n",
    "train_batches=DataLoader(train_dataset,batch_size=128,shuffle=True)\n",
    "\n",
    "val_dataset=TensorDataset(X_val, y_val)\n",
    "val_batches=DataLoader(val_dataset,batch_size=128, shuffle=True)"
   ]
  },
  {
   "cell_type": "code",
   "execution_count": 17,
   "id": "a2411904",
   "metadata": {
    "execution": {
     "iopub.execute_input": "2024-04-02T13:49:17.826723Z",
     "iopub.status.busy": "2024-04-02T13:49:17.826429Z",
     "iopub.status.idle": "2024-04-02T13:49:17.831945Z",
     "shell.execute_reply": "2024-04-02T13:49:17.831131Z"
    },
    "papermill": {
     "duration": 0.016895,
     "end_time": "2024-04-02T13:49:17.833875",
     "exception": false,
     "start_time": "2024-04-02T13:49:17.816980",
     "status": "completed"
    },
    "tags": []
   },
   "outputs": [
    {
     "data": {
      "text/plain": [
       "torch.Size([33600, 1, 28, 28])"
      ]
     },
     "execution_count": 17,
     "metadata": {},
     "output_type": "execute_result"
    }
   ],
   "source": [
    "X_train.shape"
   ]
  },
  {
   "cell_type": "code",
   "execution_count": 18,
   "id": "2484f0b5",
   "metadata": {
    "execution": {
     "iopub.execute_input": "2024-04-02T13:49:17.853250Z",
     "iopub.status.busy": "2024-04-02T13:49:17.852943Z",
     "iopub.status.idle": "2024-04-02T13:49:21.066494Z",
     "shell.execute_reply": "2024-04-02T13:49:21.065606Z"
    },
    "papermill": {
     "duration": 3.225747,
     "end_time": "2024-04-02T13:49:21.068724",
     "exception": false,
     "start_time": "2024-04-02T13:49:17.842977",
     "status": "completed"
    },
    "tags": []
   },
   "outputs": [
    {
     "name": "stdout",
     "output_type": "stream",
     "text": [
      "torch.Size([33600, 32, 28, 28])\n"
     ]
    }
   ],
   "source": [
    "m=nn.Conv2d(1,32,kernel_size=3,stride=1,padding=1,bias=False)\n",
    "print(m(X_train).shape)\n"
   ]
  },
  {
   "cell_type": "code",
   "execution_count": 19,
   "id": "97e0bb55",
   "metadata": {
    "execution": {
     "iopub.execute_input": "2024-04-02T13:49:21.088758Z",
     "iopub.status.busy": "2024-04-02T13:49:21.088226Z",
     "iopub.status.idle": "2024-04-02T13:49:21.098120Z",
     "shell.execute_reply": "2024-04-02T13:49:21.097197Z"
    },
    "papermill": {
     "duration": 0.02183,
     "end_time": "2024-04-02T13:49:21.099928",
     "exception": false,
     "start_time": "2024-04-02T13:49:21.078098",
     "status": "completed"
    },
    "tags": []
   },
   "outputs": [],
   "source": [
    "class CNNModel(nn.Module):\n",
    "        \n",
    "    def __init__(self):\n",
    "        super().__init__()\n",
    "        \n",
    "        self.conv_layers = nn.Sequential(\n",
    "            \n",
    "            nn.Conv2d(1, 32, kernel_size=3, stride=1, padding=1, bias=False),\n",
    "            nn.LeakyReLU(0.1),\n",
    "            nn.BatchNorm2d(32),            \n",
    "            nn.AvgPool2d(2),\n",
    "                \n",
    "            nn.Conv2d(32, 64, kernel_size=3, stride=1, padding=1, bias=False),\n",
    "            nn.LeakyReLU(0.1),\n",
    "            nn.BatchNorm2d(64),            \n",
    "            nn.AvgPool2d(2),\n",
    "               \n",
    "            nn.Conv2d(64, 128, kernel_size=3, stride=1, padding=1, bias=False),\n",
    "            nn.LeakyReLU(0.1),\n",
    "            nn.BatchNorm2d(128),            \n",
    "            nn.AvgPool2d(2)\n",
    "        )\n",
    "            \n",
    "        self.linear_layers = nn.Sequential(\n",
    "            nn.Linear(128*3*3, 64),\n",
    "            nn.LeakyReLU(0.1),\n",
    "            nn.BatchNorm1d(64),\n",
    "                \n",
    "            nn.Linear(64, 32),\n",
    "            nn.LeakyReLU(0.1),\n",
    "            nn.BatchNorm1d(32),\n",
    "                \n",
    "            nn.Linear(32, 10), \n",
    "            nn.LeakyReLU(0.1),\n",
    "            nn.Softmax(dim=1)  \n",
    "        )\n",
    "        \n",
    "    def forward(self, x):\n",
    "        x = self.conv_layers(x)\n",
    "        x = x.view(x.size(0), -1)  \n",
    "        x = self.linear_layers(x)\n",
    "        return x\n"
   ]
  },
  {
   "cell_type": "code",
   "execution_count": 20,
   "id": "c75e2b76",
   "metadata": {
    "execution": {
     "iopub.execute_input": "2024-04-02T13:49:21.119163Z",
     "iopub.status.busy": "2024-04-02T13:49:21.118459Z",
     "iopub.status.idle": "2024-04-02T13:49:21.287053Z",
     "shell.execute_reply": "2024-04-02T13:49:21.286187Z"
    },
    "papermill": {
     "duration": 0.180879,
     "end_time": "2024-04-02T13:49:21.289638",
     "exception": false,
     "start_time": "2024-04-02T13:49:21.108759",
     "status": "completed"
    },
    "tags": []
   },
   "outputs": [],
   "source": [
    "model=CNNModel().to(device)\n",
    "minibatch_size=128\n",
    "optimizer= torch.optim.Adam(model.parameters())\n",
    "loss_func=nn.CrossEntropyLoss()\n",
    "\n",
    "nb_epochs=50\n",
    "early_stop=10\n",
    "progress_interval=5"
   ]
  },
  {
   "cell_type": "code",
   "execution_count": 21,
   "id": "8d6d41c4",
   "metadata": {
    "execution": {
     "iopub.execute_input": "2024-04-02T13:49:21.310289Z",
     "iopub.status.busy": "2024-04-02T13:49:21.309488Z",
     "iopub.status.idle": "2024-04-02T13:49:21.320601Z",
     "shell.execute_reply": "2024-04-02T13:49:21.319715Z"
    },
    "papermill": {
     "duration": 0.023587,
     "end_time": "2024-04-02T13:49:21.322669",
     "exception": false,
     "start_time": "2024-04-02T13:49:21.299082",
     "status": "completed"
    },
    "tags": []
   },
   "outputs": [],
   "source": [
    "def train_model(model, early_stop, n_epochs, progress_interval):\n",
    "    \n",
    "    train_losses, valid_losses, lowest_loss = list(), list(), np.inf\n",
    "\n",
    "   \n",
    "    for epoch in range(n_epochs):\n",
    "        \n",
    "        train_loss, valid_loss = 0, 0\n",
    "        \n",
    "        model.train()\n",
    "        \n",
    "        for x_minibatch, y_minibatch in train_batches:\n",
    "            x_minibatch = x_minibatch.to(device)\n",
    "            y_minibatch = y_minibatch.to(device)\n",
    "            y_minibatch_pred = model(x_minibatch)\n",
    "            loss = loss_func(y_minibatch_pred, y_minibatch)\n",
    "\n",
    "            optimizer.zero_grad()\n",
    "            loss.backward()\n",
    "            optimizer.step()\n",
    "            train_loss += loss.item()\n",
    "        \n",
    "        train_loss = train_loss / len(train_batches)\n",
    "        train_losses.append(train_loss)      \n",
    "        \n",
    "    \n",
    "        model.eval()\n",
    "        with torch.no_grad():\n",
    "            for x_minibatch, y_minibatch in val_batches:\n",
    "                x_minibatch = x_minibatch.to(device)\n",
    "                y_minibatch = y_minibatch.to(device)\n",
    "                y_minibatch_pred = model(x_minibatch)\n",
    "                loss = loss_func(y_minibatch_pred, y_minibatch)\n",
    "                valid_loss += loss.item()\n",
    "                \n",
    "        valid_loss = valid_loss / len(val_batches)\n",
    "        valid_losses.append(valid_loss)\n",
    "\n",
    "        if valid_losses[-1] < lowest_loss:\n",
    "            lowest_loss = valid_losses[-1]\n",
    "            lowest_epoch = epoch\n",
    "            best_model = deepcopy(model.state_dict())\n",
    "        else:\n",
    "            if (early_stop > 0) and lowest_epoch + early_stop < epoch:\n",
    "                print (\"Early Stopped\", epoch, \"epochs\")\n",
    "                break\n",
    "                \n",
    "        if (epoch % progress_interval) == 0:\n",
    "            print (train_losses[-1], valid_losses[-1], lowest_loss, lowest_epoch, epoch)\n",
    "            \n",
    "    model.load_state_dict(best_model)        \n",
    "    return model, lowest_loss, train_losses, valid_losses"
   ]
  },
  {
   "cell_type": "code",
   "execution_count": 22,
   "id": "a1802054",
   "metadata": {
    "execution": {
     "iopub.execute_input": "2024-04-02T13:49:21.342094Z",
     "iopub.status.busy": "2024-04-02T13:49:21.341778Z",
     "iopub.status.idle": "2024-04-02T13:50:20.739070Z",
     "shell.execute_reply": "2024-04-02T13:50:20.738098Z"
    },
    "papermill": {
     "duration": 59.409458,
     "end_time": "2024-04-02T13:50:20.741202",
     "exception": false,
     "start_time": "2024-04-02T13:49:21.331744",
     "status": "completed"
    },
    "tags": []
   },
   "outputs": [
    {
     "name": "stdout",
     "output_type": "stream",
     "text": [
      "1.5917443182078606 1.4917769558501965 1.4917769558501965 0 0\n",
      "1.4699612189608382 1.4749732848369714 1.4749732848369714 5 5\n",
      "1.4655363324023924 1.4719726967089104 1.4712511879025083 7 10\n",
      "1.4650305990030557 1.4701572078647036 1.4701572078647036 15 15\n",
      "1.4642395565265032 1.4708201614293186 1.4701572078647036 15 20\n",
      "1.4635866971070322 1.4721686442693074 1.468646324042118 21 25\n",
      "1.4636540988552253 1.4747142719499993 1.468646324042118 21 30\n",
      "Early Stopped 32 epochs\n"
     ]
    }
   ],
   "source": [
    "model, lowest_loss, trian_loss, valid_loss = train_model(model,early_stop,nb_epochs,progress_interval)"
   ]
  },
  {
   "cell_type": "code",
   "execution_count": 23,
   "id": "bb096b77",
   "metadata": {
    "execution": {
     "iopub.execute_input": "2024-04-02T13:50:20.761851Z",
     "iopub.status.busy": "2024-04-02T13:50:20.761499Z",
     "iopub.status.idle": "2024-04-02T13:50:20.828776Z",
     "shell.execute_reply": "2024-04-02T13:50:20.827690Z"
    },
    "papermill": {
     "duration": 0.080248,
     "end_time": "2024-04-02T13:50:20.831247",
     "exception": false,
     "start_time": "2024-04-02T13:50:20.750999",
     "status": "completed"
    },
    "tags": []
   },
   "outputs": [],
   "source": [
    "X_test=X_test.reshape(-1,1,28,28)\n",
    "X_test=torch.tensor(X_test, dtype=torch.float32)\n",
    "test_batches=DataLoader(X_test,batch_size=minibatch_size,shuffle=True)"
   ]
  },
  {
   "cell_type": "code",
   "execution_count": 24,
   "id": "31e79227",
   "metadata": {
    "execution": {
     "iopub.execute_input": "2024-04-02T13:50:20.852988Z",
     "iopub.status.busy": "2024-04-02T13:50:20.852660Z",
     "iopub.status.idle": "2024-04-02T13:50:21.925913Z",
     "shell.execute_reply": "2024-04-02T13:50:21.925085Z"
    },
    "papermill": {
     "duration": 1.08586,
     "end_time": "2024-04-02T13:50:21.928124",
     "exception": false,
     "start_time": "2024-04-02T13:50:20.842264",
     "status": "completed"
    },
    "tags": []
   },
   "outputs": [],
   "source": [
    "model.eval()\n",
    "with torch.no_grad():\n",
    "    for x_minibatch in test_batches:\n",
    "        x_minibatch=x_minibatch.to(device)\n",
    "        y_test_pred = model(x_minibatch)\n",
    "        "
   ]
  },
  {
   "cell_type": "code",
   "execution_count": 25,
   "id": "eec300d0",
   "metadata": {
    "execution": {
     "iopub.execute_input": "2024-04-02T13:50:21.949360Z",
     "iopub.status.busy": "2024-04-02T13:50:21.949077Z",
     "iopub.status.idle": "2024-04-02T13:50:21.974491Z",
     "shell.execute_reply": "2024-04-02T13:50:21.973643Z"
    },
    "papermill": {
     "duration": 0.038096,
     "end_time": "2024-04-02T13:50:21.976446",
     "exception": false,
     "start_time": "2024-04-02T13:50:21.938350",
     "status": "completed"
    },
    "tags": []
   },
   "outputs": [
    {
     "data": {
      "text/plain": [
       "tensor([6, 4, 7, 9, 9, 9, 2, 4, 0, 9, 7, 7, 7, 3, 7, 1], device='cuda:0')"
      ]
     },
     "metadata": {},
     "output_type": "display_data"
    }
   ],
   "source": [
    "predicted_labels = torch.argmax(y_test_pred, dim=1)\n",
    "display(predicted_labels)"
   ]
  },
  {
   "cell_type": "code",
   "execution_count": 26,
   "id": "a8934633",
   "metadata": {
    "execution": {
     "iopub.execute_input": "2024-04-02T13:50:21.997269Z",
     "iopub.status.busy": "2024-04-02T13:50:21.996945Z",
     "iopub.status.idle": "2024-04-02T13:50:22.004727Z",
     "shell.execute_reply": "2024-04-02T13:50:22.004012Z"
    },
    "papermill": {
     "duration": 0.020489,
     "end_time": "2024-04-02T13:50:22.006583",
     "exception": false,
     "start_time": "2024-04-02T13:50:21.986094",
     "status": "completed"
    },
    "tags": []
   },
   "outputs": [],
   "source": [
    "predicted_labels_numpy = predicted_labels.cpu().numpy()  # PyTorch 텐서를 NumPy 배열로 변환\n",
    "\n",
    "submission_df = pd.DataFrame({'ImageId': range(1, len(predicted_labels_numpy) + 1),\n",
    "                              'Label': predicted_labels_numpy})\n",
    "\n",
    "submission_df.to_csv(\"submission.csv\", index=False)"
   ]
  },
  {
   "cell_type": "code",
   "execution_count": 27,
   "id": "a0bb393e",
   "metadata": {
    "execution": {
     "iopub.execute_input": "2024-04-02T13:50:22.026995Z",
     "iopub.status.busy": "2024-04-02T13:50:22.026739Z",
     "iopub.status.idle": "2024-04-02T13:50:22.037543Z",
     "shell.execute_reply": "2024-04-02T13:50:22.036720Z"
    },
    "papermill": {
     "duration": 0.023254,
     "end_time": "2024-04-02T13:50:22.039533",
     "exception": false,
     "start_time": "2024-04-02T13:50:22.016279",
     "status": "completed"
    },
    "tags": []
   },
   "outputs": [
    {
     "data": {
      "text/html": [
       "<div>\n",
       "<style scoped>\n",
       "    .dataframe tbody tr th:only-of-type {\n",
       "        vertical-align: middle;\n",
       "    }\n",
       "\n",
       "    .dataframe tbody tr th {\n",
       "        vertical-align: top;\n",
       "    }\n",
       "\n",
       "    .dataframe thead th {\n",
       "        text-align: right;\n",
       "    }\n",
       "</style>\n",
       "<table border=\"1\" class=\"dataframe\">\n",
       "  <thead>\n",
       "    <tr style=\"text-align: right;\">\n",
       "      <th></th>\n",
       "      <th>ImageId</th>\n",
       "      <th>Label</th>\n",
       "    </tr>\n",
       "  </thead>\n",
       "  <tbody>\n",
       "    <tr>\n",
       "      <th>0</th>\n",
       "      <td>1</td>\n",
       "      <td>6</td>\n",
       "    </tr>\n",
       "    <tr>\n",
       "      <th>1</th>\n",
       "      <td>2</td>\n",
       "      <td>4</td>\n",
       "    </tr>\n",
       "    <tr>\n",
       "      <th>2</th>\n",
       "      <td>3</td>\n",
       "      <td>7</td>\n",
       "    </tr>\n",
       "    <tr>\n",
       "      <th>3</th>\n",
       "      <td>4</td>\n",
       "      <td>9</td>\n",
       "    </tr>\n",
       "    <tr>\n",
       "      <th>4</th>\n",
       "      <td>5</td>\n",
       "      <td>9</td>\n",
       "    </tr>\n",
       "    <tr>\n",
       "      <th>5</th>\n",
       "      <td>6</td>\n",
       "      <td>9</td>\n",
       "    </tr>\n",
       "    <tr>\n",
       "      <th>6</th>\n",
       "      <td>7</td>\n",
       "      <td>2</td>\n",
       "    </tr>\n",
       "    <tr>\n",
       "      <th>7</th>\n",
       "      <td>8</td>\n",
       "      <td>4</td>\n",
       "    </tr>\n",
       "    <tr>\n",
       "      <th>8</th>\n",
       "      <td>9</td>\n",
       "      <td>0</td>\n",
       "    </tr>\n",
       "    <tr>\n",
       "      <th>9</th>\n",
       "      <td>10</td>\n",
       "      <td>9</td>\n",
       "    </tr>\n",
       "    <tr>\n",
       "      <th>10</th>\n",
       "      <td>11</td>\n",
       "      <td>7</td>\n",
       "    </tr>\n",
       "    <tr>\n",
       "      <th>11</th>\n",
       "      <td>12</td>\n",
       "      <td>7</td>\n",
       "    </tr>\n",
       "    <tr>\n",
       "      <th>12</th>\n",
       "      <td>13</td>\n",
       "      <td>7</td>\n",
       "    </tr>\n",
       "    <tr>\n",
       "      <th>13</th>\n",
       "      <td>14</td>\n",
       "      <td>3</td>\n",
       "    </tr>\n",
       "    <tr>\n",
       "      <th>14</th>\n",
       "      <td>15</td>\n",
       "      <td>7</td>\n",
       "    </tr>\n",
       "    <tr>\n",
       "      <th>15</th>\n",
       "      <td>16</td>\n",
       "      <td>1</td>\n",
       "    </tr>\n",
       "  </tbody>\n",
       "</table>\n",
       "</div>"
      ],
      "text/plain": [
       "    ImageId  Label\n",
       "0         1      6\n",
       "1         2      4\n",
       "2         3      7\n",
       "3         4      9\n",
       "4         5      9\n",
       "5         6      9\n",
       "6         7      2\n",
       "7         8      4\n",
       "8         9      0\n",
       "9        10      9\n",
       "10       11      7\n",
       "11       12      7\n",
       "12       13      7\n",
       "13       14      3\n",
       "14       15      7\n",
       "15       16      1"
      ]
     },
     "metadata": {},
     "output_type": "display_data"
    }
   ],
   "source": [
    "pds=pd.read_csv(\"/kaggle/working/submission.csv\")\n",
    "display(pds)"
   ]
  }
 ],
 "metadata": {
  "kaggle": {
   "accelerator": "gpu",
   "dataSources": [
    {
     "databundleVersionId": 861823,
     "sourceId": 3004,
     "sourceType": "competition"
    }
   ],
   "dockerImageVersionId": 30673,
   "isGpuEnabled": true,
   "isInternetEnabled": true,
   "language": "python",
   "sourceType": "notebook"
  },
  "kernelspec": {
   "display_name": "Python 3",
   "language": "python",
   "name": "python3"
  },
  "language_info": {
   "codemirror_mode": {
    "name": "ipython",
    "version": 3
   },
   "file_extension": ".py",
   "mimetype": "text/x-python",
   "name": "python",
   "nbconvert_exporter": "python",
   "pygments_lexer": "ipython3",
   "version": "3.10.13"
  },
  "papermill": {
   "default_parameters": {},
   "duration": 84.892576,
   "end_time": "2024-04-02T13:50:23.873305",
   "environment_variables": {},
   "exception": null,
   "input_path": "__notebook__.ipynb",
   "output_path": "__notebook__.ipynb",
   "parameters": {},
   "start_time": "2024-04-02T13:48:58.980729",
   "version": "2.5.0"
  }
 },
 "nbformat": 4,
 "nbformat_minor": 5
}
