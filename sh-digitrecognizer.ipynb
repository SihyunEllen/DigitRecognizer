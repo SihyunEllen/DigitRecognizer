{
 "cells": [
  {
   "cell_type": "code",
   "execution_count": 1,
   "id": "a3574fa3",
   "metadata": {
    "_cell_guid": "b1076dfc-b9ad-4769-8c92-a6c4dae69d19",
    "_uuid": "8f2839f25d086af736a60e9eeb907d3b93b6e0e5",
    "execution": {
     "iopub.execute_input": "2024-04-02T14:24:42.160292Z",
     "iopub.status.busy": "2024-04-02T14:24:42.159367Z",
     "iopub.status.idle": "2024-04-02T14:24:42.897747Z",
     "shell.execute_reply": "2024-04-02T14:24:42.896875Z"
    },
    "papermill": {
     "duration": 0.750723,
     "end_time": "2024-04-02T14:24:42.899992",
     "exception": false,
     "start_time": "2024-04-02T14:24:42.149269",
     "status": "completed"
    },
    "tags": []
   },
   "outputs": [
    {
     "name": "stdout",
     "output_type": "stream",
     "text": [
      "/kaggle/input/digit-recognizer/sample_submission.csv\n",
      "/kaggle/input/digit-recognizer/train.csv\n",
      "/kaggle/input/digit-recognizer/test.csv\n"
     ]
    }
   ],
   "source": [
    "import numpy as np \n",
    "import pandas as pd \n",
    "import os\n",
    "for dirname, _, filenames in os.walk('/kaggle/input'):\n",
    "    for filename in filenames:\n",
    "        print(os.path.join(dirname, filename))"
   ]
  },
  {
   "cell_type": "code",
   "execution_count": 2,
   "id": "eb0cb0eb",
   "metadata": {
    "execution": {
     "iopub.execute_input": "2024-04-02T14:24:42.918508Z",
     "iopub.status.busy": "2024-04-02T14:24:42.917768Z",
     "iopub.status.idle": "2024-04-02T14:24:50.448333Z",
     "shell.execute_reply": "2024-04-02T14:24:50.447329Z"
    },
    "papermill": {
     "duration": 7.54205,
     "end_time": "2024-04-02T14:24:50.450764",
     "exception": false,
     "start_time": "2024-04-02T14:24:42.908714",
     "status": "completed"
    },
    "tags": []
   },
   "outputs": [],
   "source": [
    "import torch\n",
    "import torch.nn as nn\n",
    "from torch.utils.data import DataLoader, Subset\n",
    "from torchvision import datasets, transforms\n",
    "from sklearn.model_selection import train_test_split\n",
    "import numpy as np\n",
    "from copy import deepcopy # 모델 파라미터값 깊은 복사 (베스트 모델 저장을 위함)\n",
    "from torch.utils.data import TensorDataset"
   ]
  },
  {
   "cell_type": "code",
   "execution_count": 3,
   "id": "9f5b8ef1",
   "metadata": {
    "execution": {
     "iopub.execute_input": "2024-04-02T14:24:50.469118Z",
     "iopub.status.busy": "2024-04-02T14:24:50.468315Z",
     "iopub.status.idle": "2024-04-02T14:24:50.524990Z",
     "shell.execute_reply": "2024-04-02T14:24:50.524053Z"
    },
    "papermill": {
     "duration": 0.067713,
     "end_time": "2024-04-02T14:24:50.526904",
     "exception": false,
     "start_time": "2024-04-02T14:24:50.459191",
     "status": "completed"
    },
    "tags": []
   },
   "outputs": [],
   "source": [
    "device = torch.device(\"cuda\" if torch.cuda.is_available() else \"cpu\")"
   ]
  },
  {
   "cell_type": "code",
   "execution_count": 4,
   "id": "c16c0015",
   "metadata": {
    "execution": {
     "iopub.execute_input": "2024-04-02T14:24:50.544910Z",
     "iopub.status.busy": "2024-04-02T14:24:50.544251Z",
     "iopub.status.idle": "2024-04-02T14:24:56.193794Z",
     "shell.execute_reply": "2024-04-02T14:24:56.192937Z"
    },
    "papermill": {
     "duration": 5.660984,
     "end_time": "2024-04-02T14:24:56.196106",
     "exception": false,
     "start_time": "2024-04-02T14:24:50.535122",
     "status": "completed"
    },
    "tags": []
   },
   "outputs": [],
   "source": [
    "train= pd.read_csv(\"/kaggle/input/digit-recognizer/train.csv\")\n",
    "test=pd.read_csv(\"/kaggle/input/digit-recognizer/test.csv\")"
   ]
  },
  {
   "cell_type": "code",
   "execution_count": 5,
   "id": "34b6c5e3",
   "metadata": {
    "execution": {
     "iopub.execute_input": "2024-04-02T14:24:56.213985Z",
     "iopub.status.busy": "2024-04-02T14:24:56.213306Z",
     "iopub.status.idle": "2024-04-02T14:24:56.241063Z",
     "shell.execute_reply": "2024-04-02T14:24:56.240237Z"
    },
    "papermill": {
     "duration": 0.038587,
     "end_time": "2024-04-02T14:24:56.243035",
     "exception": false,
     "start_time": "2024-04-02T14:24:56.204448",
     "status": "completed"
    },
    "tags": []
   },
   "outputs": [
    {
     "data": {
      "text/html": [
       "<div>\n",
       "<style scoped>\n",
       "    .dataframe tbody tr th:only-of-type {\n",
       "        vertical-align: middle;\n",
       "    }\n",
       "\n",
       "    .dataframe tbody tr th {\n",
       "        vertical-align: top;\n",
       "    }\n",
       "\n",
       "    .dataframe thead th {\n",
       "        text-align: right;\n",
       "    }\n",
       "</style>\n",
       "<table border=\"1\" class=\"dataframe\">\n",
       "  <thead>\n",
       "    <tr style=\"text-align: right;\">\n",
       "      <th></th>\n",
       "      <th>label</th>\n",
       "      <th>pixel0</th>\n",
       "      <th>pixel1</th>\n",
       "      <th>pixel2</th>\n",
       "      <th>pixel3</th>\n",
       "      <th>pixel4</th>\n",
       "      <th>pixel5</th>\n",
       "      <th>pixel6</th>\n",
       "      <th>pixel7</th>\n",
       "      <th>pixel8</th>\n",
       "      <th>...</th>\n",
       "      <th>pixel774</th>\n",
       "      <th>pixel775</th>\n",
       "      <th>pixel776</th>\n",
       "      <th>pixel777</th>\n",
       "      <th>pixel778</th>\n",
       "      <th>pixel779</th>\n",
       "      <th>pixel780</th>\n",
       "      <th>pixel781</th>\n",
       "      <th>pixel782</th>\n",
       "      <th>pixel783</th>\n",
       "    </tr>\n",
       "  </thead>\n",
       "  <tbody>\n",
       "    <tr>\n",
       "      <th>0</th>\n",
       "      <td>1</td>\n",
       "      <td>0</td>\n",
       "      <td>0</td>\n",
       "      <td>0</td>\n",
       "      <td>0</td>\n",
       "      <td>0</td>\n",
       "      <td>0</td>\n",
       "      <td>0</td>\n",
       "      <td>0</td>\n",
       "      <td>0</td>\n",
       "      <td>...</td>\n",
       "      <td>0</td>\n",
       "      <td>0</td>\n",
       "      <td>0</td>\n",
       "      <td>0</td>\n",
       "      <td>0</td>\n",
       "      <td>0</td>\n",
       "      <td>0</td>\n",
       "      <td>0</td>\n",
       "      <td>0</td>\n",
       "      <td>0</td>\n",
       "    </tr>\n",
       "    <tr>\n",
       "      <th>1</th>\n",
       "      <td>0</td>\n",
       "      <td>0</td>\n",
       "      <td>0</td>\n",
       "      <td>0</td>\n",
       "      <td>0</td>\n",
       "      <td>0</td>\n",
       "      <td>0</td>\n",
       "      <td>0</td>\n",
       "      <td>0</td>\n",
       "      <td>0</td>\n",
       "      <td>...</td>\n",
       "      <td>0</td>\n",
       "      <td>0</td>\n",
       "      <td>0</td>\n",
       "      <td>0</td>\n",
       "      <td>0</td>\n",
       "      <td>0</td>\n",
       "      <td>0</td>\n",
       "      <td>0</td>\n",
       "      <td>0</td>\n",
       "      <td>0</td>\n",
       "    </tr>\n",
       "    <tr>\n",
       "      <th>2</th>\n",
       "      <td>1</td>\n",
       "      <td>0</td>\n",
       "      <td>0</td>\n",
       "      <td>0</td>\n",
       "      <td>0</td>\n",
       "      <td>0</td>\n",
       "      <td>0</td>\n",
       "      <td>0</td>\n",
       "      <td>0</td>\n",
       "      <td>0</td>\n",
       "      <td>...</td>\n",
       "      <td>0</td>\n",
       "      <td>0</td>\n",
       "      <td>0</td>\n",
       "      <td>0</td>\n",
       "      <td>0</td>\n",
       "      <td>0</td>\n",
       "      <td>0</td>\n",
       "      <td>0</td>\n",
       "      <td>0</td>\n",
       "      <td>0</td>\n",
       "    </tr>\n",
       "    <tr>\n",
       "      <th>3</th>\n",
       "      <td>4</td>\n",
       "      <td>0</td>\n",
       "      <td>0</td>\n",
       "      <td>0</td>\n",
       "      <td>0</td>\n",
       "      <td>0</td>\n",
       "      <td>0</td>\n",
       "      <td>0</td>\n",
       "      <td>0</td>\n",
       "      <td>0</td>\n",
       "      <td>...</td>\n",
       "      <td>0</td>\n",
       "      <td>0</td>\n",
       "      <td>0</td>\n",
       "      <td>0</td>\n",
       "      <td>0</td>\n",
       "      <td>0</td>\n",
       "      <td>0</td>\n",
       "      <td>0</td>\n",
       "      <td>0</td>\n",
       "      <td>0</td>\n",
       "    </tr>\n",
       "    <tr>\n",
       "      <th>4</th>\n",
       "      <td>0</td>\n",
       "      <td>0</td>\n",
       "      <td>0</td>\n",
       "      <td>0</td>\n",
       "      <td>0</td>\n",
       "      <td>0</td>\n",
       "      <td>0</td>\n",
       "      <td>0</td>\n",
       "      <td>0</td>\n",
       "      <td>0</td>\n",
       "      <td>...</td>\n",
       "      <td>0</td>\n",
       "      <td>0</td>\n",
       "      <td>0</td>\n",
       "      <td>0</td>\n",
       "      <td>0</td>\n",
       "      <td>0</td>\n",
       "      <td>0</td>\n",
       "      <td>0</td>\n",
       "      <td>0</td>\n",
       "      <td>0</td>\n",
       "    </tr>\n",
       "    <tr>\n",
       "      <th>...</th>\n",
       "      <td>...</td>\n",
       "      <td>...</td>\n",
       "      <td>...</td>\n",
       "      <td>...</td>\n",
       "      <td>...</td>\n",
       "      <td>...</td>\n",
       "      <td>...</td>\n",
       "      <td>...</td>\n",
       "      <td>...</td>\n",
       "      <td>...</td>\n",
       "      <td>...</td>\n",
       "      <td>...</td>\n",
       "      <td>...</td>\n",
       "      <td>...</td>\n",
       "      <td>...</td>\n",
       "      <td>...</td>\n",
       "      <td>...</td>\n",
       "      <td>...</td>\n",
       "      <td>...</td>\n",
       "      <td>...</td>\n",
       "      <td>...</td>\n",
       "    </tr>\n",
       "    <tr>\n",
       "      <th>41995</th>\n",
       "      <td>0</td>\n",
       "      <td>0</td>\n",
       "      <td>0</td>\n",
       "      <td>0</td>\n",
       "      <td>0</td>\n",
       "      <td>0</td>\n",
       "      <td>0</td>\n",
       "      <td>0</td>\n",
       "      <td>0</td>\n",
       "      <td>0</td>\n",
       "      <td>...</td>\n",
       "      <td>0</td>\n",
       "      <td>0</td>\n",
       "      <td>0</td>\n",
       "      <td>0</td>\n",
       "      <td>0</td>\n",
       "      <td>0</td>\n",
       "      <td>0</td>\n",
       "      <td>0</td>\n",
       "      <td>0</td>\n",
       "      <td>0</td>\n",
       "    </tr>\n",
       "    <tr>\n",
       "      <th>41996</th>\n",
       "      <td>1</td>\n",
       "      <td>0</td>\n",
       "      <td>0</td>\n",
       "      <td>0</td>\n",
       "      <td>0</td>\n",
       "      <td>0</td>\n",
       "      <td>0</td>\n",
       "      <td>0</td>\n",
       "      <td>0</td>\n",
       "      <td>0</td>\n",
       "      <td>...</td>\n",
       "      <td>0</td>\n",
       "      <td>0</td>\n",
       "      <td>0</td>\n",
       "      <td>0</td>\n",
       "      <td>0</td>\n",
       "      <td>0</td>\n",
       "      <td>0</td>\n",
       "      <td>0</td>\n",
       "      <td>0</td>\n",
       "      <td>0</td>\n",
       "    </tr>\n",
       "    <tr>\n",
       "      <th>41997</th>\n",
       "      <td>7</td>\n",
       "      <td>0</td>\n",
       "      <td>0</td>\n",
       "      <td>0</td>\n",
       "      <td>0</td>\n",
       "      <td>0</td>\n",
       "      <td>0</td>\n",
       "      <td>0</td>\n",
       "      <td>0</td>\n",
       "      <td>0</td>\n",
       "      <td>...</td>\n",
       "      <td>0</td>\n",
       "      <td>0</td>\n",
       "      <td>0</td>\n",
       "      <td>0</td>\n",
       "      <td>0</td>\n",
       "      <td>0</td>\n",
       "      <td>0</td>\n",
       "      <td>0</td>\n",
       "      <td>0</td>\n",
       "      <td>0</td>\n",
       "    </tr>\n",
       "    <tr>\n",
       "      <th>41998</th>\n",
       "      <td>6</td>\n",
       "      <td>0</td>\n",
       "      <td>0</td>\n",
       "      <td>0</td>\n",
       "      <td>0</td>\n",
       "      <td>0</td>\n",
       "      <td>0</td>\n",
       "      <td>0</td>\n",
       "      <td>0</td>\n",
       "      <td>0</td>\n",
       "      <td>...</td>\n",
       "      <td>0</td>\n",
       "      <td>0</td>\n",
       "      <td>0</td>\n",
       "      <td>0</td>\n",
       "      <td>0</td>\n",
       "      <td>0</td>\n",
       "      <td>0</td>\n",
       "      <td>0</td>\n",
       "      <td>0</td>\n",
       "      <td>0</td>\n",
       "    </tr>\n",
       "    <tr>\n",
       "      <th>41999</th>\n",
       "      <td>9</td>\n",
       "      <td>0</td>\n",
       "      <td>0</td>\n",
       "      <td>0</td>\n",
       "      <td>0</td>\n",
       "      <td>0</td>\n",
       "      <td>0</td>\n",
       "      <td>0</td>\n",
       "      <td>0</td>\n",
       "      <td>0</td>\n",
       "      <td>...</td>\n",
       "      <td>0</td>\n",
       "      <td>0</td>\n",
       "      <td>0</td>\n",
       "      <td>0</td>\n",
       "      <td>0</td>\n",
       "      <td>0</td>\n",
       "      <td>0</td>\n",
       "      <td>0</td>\n",
       "      <td>0</td>\n",
       "      <td>0</td>\n",
       "    </tr>\n",
       "  </tbody>\n",
       "</table>\n",
       "<p>42000 rows × 785 columns</p>\n",
       "</div>"
      ],
      "text/plain": [
       "       label  pixel0  pixel1  pixel2  pixel3  pixel4  pixel5  pixel6  pixel7  \\\n",
       "0          1       0       0       0       0       0       0       0       0   \n",
       "1          0       0       0       0       0       0       0       0       0   \n",
       "2          1       0       0       0       0       0       0       0       0   \n",
       "3          4       0       0       0       0       0       0       0       0   \n",
       "4          0       0       0       0       0       0       0       0       0   \n",
       "...      ...     ...     ...     ...     ...     ...     ...     ...     ...   \n",
       "41995      0       0       0       0       0       0       0       0       0   \n",
       "41996      1       0       0       0       0       0       0       0       0   \n",
       "41997      7       0       0       0       0       0       0       0       0   \n",
       "41998      6       0       0       0       0       0       0       0       0   \n",
       "41999      9       0       0       0       0       0       0       0       0   \n",
       "\n",
       "       pixel8  ...  pixel774  pixel775  pixel776  pixel777  pixel778  \\\n",
       "0           0  ...         0         0         0         0         0   \n",
       "1           0  ...         0         0         0         0         0   \n",
       "2           0  ...         0         0         0         0         0   \n",
       "3           0  ...         0         0         0         0         0   \n",
       "4           0  ...         0         0         0         0         0   \n",
       "...       ...  ...       ...       ...       ...       ...       ...   \n",
       "41995       0  ...         0         0         0         0         0   \n",
       "41996       0  ...         0         0         0         0         0   \n",
       "41997       0  ...         0         0         0         0         0   \n",
       "41998       0  ...         0         0         0         0         0   \n",
       "41999       0  ...         0         0         0         0         0   \n",
       "\n",
       "       pixel779  pixel780  pixel781  pixel782  pixel783  \n",
       "0             0         0         0         0         0  \n",
       "1             0         0         0         0         0  \n",
       "2             0         0         0         0         0  \n",
       "3             0         0         0         0         0  \n",
       "4             0         0         0         0         0  \n",
       "...         ...       ...       ...       ...       ...  \n",
       "41995         0         0         0         0         0  \n",
       "41996         0         0         0         0         0  \n",
       "41997         0         0         0         0         0  \n",
       "41998         0         0         0         0         0  \n",
       "41999         0         0         0         0         0  \n",
       "\n",
       "[42000 rows x 785 columns]"
      ]
     },
     "metadata": {},
     "output_type": "display_data"
    }
   ],
   "source": [
    "display(train)"
   ]
  },
  {
   "cell_type": "code",
   "execution_count": 6,
   "id": "26eb9a72",
   "metadata": {
    "execution": {
     "iopub.execute_input": "2024-04-02T14:24:56.262162Z",
     "iopub.status.busy": "2024-04-02T14:24:56.261890Z",
     "iopub.status.idle": "2024-04-02T14:24:56.267126Z",
     "shell.execute_reply": "2024-04-02T14:24:56.266313Z"
    },
    "papermill": {
     "duration": 0.016502,
     "end_time": "2024-04-02T14:24:56.269063",
     "exception": false,
     "start_time": "2024-04-02T14:24:56.252561",
     "status": "completed"
    },
    "tags": []
   },
   "outputs": [
    {
     "data": {
      "text/plain": [
       "(42000, 785)"
      ]
     },
     "execution_count": 6,
     "metadata": {},
     "output_type": "execute_result"
    }
   ],
   "source": [
    "train.shape"
   ]
  },
  {
   "cell_type": "code",
   "execution_count": 7,
   "id": "98114c97",
   "metadata": {
    "execution": {
     "iopub.execute_input": "2024-04-02T14:24:56.287917Z",
     "iopub.status.busy": "2024-04-02T14:24:56.287629Z",
     "iopub.status.idle": "2024-04-02T14:24:56.369901Z",
     "shell.execute_reply": "2024-04-02T14:24:56.369120Z"
    },
    "papermill": {
     "duration": 0.094455,
     "end_time": "2024-04-02T14:24:56.372262",
     "exception": false,
     "start_time": "2024-04-02T14:24:56.277807",
     "status": "completed"
    },
    "tags": []
   },
   "outputs": [],
   "source": [
    "X_train= train.drop(['label'],axis= 1).values\n",
    "y_train=train['label'].values\n",
    "X_test=test"
   ]
  },
  {
   "cell_type": "code",
   "execution_count": 8,
   "id": "2d37f28e",
   "metadata": {
    "execution": {
     "iopub.execute_input": "2024-04-02T14:24:56.391493Z",
     "iopub.status.busy": "2024-04-02T14:24:56.391183Z",
     "iopub.status.idle": "2024-04-02T14:24:56.396020Z",
     "shell.execute_reply": "2024-04-02T14:24:56.395132Z"
    },
    "papermill": {
     "duration": 0.016782,
     "end_time": "2024-04-02T14:24:56.398246",
     "exception": false,
     "start_time": "2024-04-02T14:24:56.381464",
     "status": "completed"
    },
    "tags": []
   },
   "outputs": [
    {
     "name": "stdout",
     "output_type": "stream",
     "text": [
      "(42000, 784) (42000,)\n"
     ]
    }
   ],
   "source": [
    "print(X_train.shape, y_train.shape)\n",
    "#x_train은 2차원 텐서 , y_train은 벡터"
   ]
  },
  {
   "cell_type": "code",
   "execution_count": 9,
   "id": "8f0a0955",
   "metadata": {
    "execution": {
     "iopub.execute_input": "2024-04-02T14:24:56.417423Z",
     "iopub.status.busy": "2024-04-02T14:24:56.416766Z",
     "iopub.status.idle": "2024-04-02T14:24:56.420852Z",
     "shell.execute_reply": "2024-04-02T14:24:56.419991Z"
    },
    "papermill": {
     "duration": 0.015561,
     "end_time": "2024-04-02T14:24:56.422851",
     "exception": false,
     "start_time": "2024-04-02T14:24:56.407290",
     "status": "completed"
    },
    "tags": []
   },
   "outputs": [],
   "source": [
    "import matplotlib.pyplot as plt\n",
    "import matplotlib.image as mpimg"
   ]
  },
  {
   "cell_type": "code",
   "execution_count": 10,
   "id": "6410083a",
   "metadata": {
    "execution": {
     "iopub.execute_input": "2024-04-02T14:24:56.441616Z",
     "iopub.status.busy": "2024-04-02T14:24:56.441065Z",
     "iopub.status.idle": "2024-04-02T14:24:56.446934Z",
     "shell.execute_reply": "2024-04-02T14:24:56.446049Z"
    },
    "papermill": {
     "duration": 0.017247,
     "end_time": "2024-04-02T14:24:56.448908",
     "exception": false,
     "start_time": "2024-04-02T14:24:56.431661",
     "status": "completed"
    },
    "tags": []
   },
   "outputs": [
    {
     "data": {
      "text/plain": [
       "(42000, 1, 28, 28)"
      ]
     },
     "execution_count": 10,
     "metadata": {},
     "output_type": "execute_result"
    }
   ],
   "source": [
    "#픽셀 28*28 \n",
    "X_train=X_train.reshape(-1,1,28,28)\n",
    "X_train.shape"
   ]
  },
  {
   "cell_type": "code",
   "execution_count": 11,
   "id": "d5aa41bd",
   "metadata": {
    "execution": {
     "iopub.execute_input": "2024-04-02T14:24:56.469404Z",
     "iopub.status.busy": "2024-04-02T14:24:56.469107Z",
     "iopub.status.idle": "2024-04-02T14:24:56.734598Z",
     "shell.execute_reply": "2024-04-02T14:24:56.733715Z"
    },
    "papermill": {
     "duration": 0.278834,
     "end_time": "2024-04-02T14:24:56.736669",
     "exception": false,
     "start_time": "2024-04-02T14:24:56.457835",
     "status": "completed"
    },
    "tags": []
   },
   "outputs": [
    {
     "data": {
      "image/png": "[encoded data removed]",
      "text/plain": [
       "<Figure size 640x480 with 1 Axes>"
      ]
     },
     "metadata": {},
     "output_type": "display_data"
    }
   ],
   "source": [
    "import matplotlib.pyplot as plt\n",
    "\n",
    "# 예시로 첫 번째 이미지를 출력해봅시다.\n",
    "image_index = 0\n",
    "image = X_train[image_index, 0]  # 42000개 중 첫 번째 이미지 선택, 채널 차원 제거\n",
    "plt.imshow(image, cmap='gray')  # 흑백 이미지로 표시\n",
    "plt.show()\n"
   ]
  },
  {
   "cell_type": "code",
   "execution_count": 12,
   "id": "95078a49",
   "metadata": {
    "execution": {
     "iopub.execute_input": "2024-04-02T14:24:56.757057Z",
     "iopub.status.busy": "2024-04-02T14:24:56.756261Z",
     "iopub.status.idle": "2024-04-02T14:24:57.143848Z",
     "shell.execute_reply": "2024-04-02T14:24:57.142863Z"
    },
    "papermill": {
     "duration": 0.400442,
     "end_time": "2024-04-02T14:24:57.146224",
     "exception": false,
     "start_time": "2024-04-02T14:24:56.745782",
     "status": "completed"
    },
    "tags": []
   },
   "outputs": [],
   "source": [
    "X_train, X_val, y_train, y_val = train_test_split(X_train, y_train, test_size = 0.2, shuffle=True)"
   ]
  },
  {
   "cell_type": "code",
   "execution_count": 13,
   "id": "39f57de7",
   "metadata": {
    "execution": {
     "iopub.execute_input": "2024-04-02T14:24:57.166051Z",
     "iopub.status.busy": "2024-04-02T14:24:57.165452Z",
     "iopub.status.idle": "2024-04-02T14:24:57.171008Z",
     "shell.execute_reply": "2024-04-02T14:24:57.170215Z"
    },
    "papermill": {
     "duration": 0.017343,
     "end_time": "2024-04-02T14:24:57.172859",
     "exception": false,
     "start_time": "2024-04-02T14:24:57.155516",
     "status": "completed"
    },
    "tags": []
   },
   "outputs": [
    {
     "data": {
      "text/plain": [
       "(33600, 1, 28, 28)"
      ]
     },
     "execution_count": 13,
     "metadata": {},
     "output_type": "execute_result"
    }
   ],
   "source": [
    "X_train.shape"
   ]
  },
  {
   "cell_type": "code",
   "execution_count": 14,
   "id": "79e34de4",
   "metadata": {
    "execution": {
     "iopub.execute_input": "2024-04-02T14:24:57.192000Z",
     "iopub.status.busy": "2024-04-02T14:24:57.191746Z",
     "iopub.status.idle": "2024-04-02T14:24:57.278526Z",
     "shell.execute_reply": "2024-04-02T14:24:57.277568Z"
    },
    "papermill": {
     "duration": 0.099017,
     "end_time": "2024-04-02T14:24:57.280969",
     "exception": false,
     "start_time": "2024-04-02T14:24:57.181952",
     "status": "completed"
    },
    "tags": []
   },
   "outputs": [],
   "source": [
    "X_train = torch.tensor(X_train, dtype=torch.float32)  \n",
    "y_train = torch.tensor(y_train, dtype=torch.long)     \n",
    "X_val = torch.tensor(X_val, dtype=torch.float32)     \n",
    "y_val = torch.tensor(y_val, dtype=torch.long)         \n"
   ]
  },
  {
   "cell_type": "code",
   "execution_count": 15,
   "id": "1278a83f",
   "metadata": {
    "execution": {
     "iopub.execute_input": "2024-04-02T14:24:57.302130Z",
     "iopub.status.busy": "2024-04-02T14:24:57.301825Z",
     "iopub.status.idle": "2024-04-02T14:24:57.307980Z",
     "shell.execute_reply": "2024-04-02T14:24:57.307155Z"
    },
    "papermill": {
     "duration": 0.018211,
     "end_time": "2024-04-02T14:24:57.309883",
     "exception": false,
     "start_time": "2024-04-02T14:24:57.291672",
     "status": "completed"
    },
    "tags": []
   },
   "outputs": [],
   "source": [
    "train_dataset=TensorDataset(X_train, y_train)\n",
    "train_batches=DataLoader(train_dataset,batch_size=128,shuffle=True)\n",
    "\n",
    "val_dataset=TensorDataset(X_val, y_val)\n",
    "val_batches=DataLoader(val_dataset,batch_size=128, shuffle=True)"
   ]
  },
  {
   "cell_type": "code",
   "execution_count": 16,
   "id": "2720e19f",
   "metadata": {
    "execution": {
     "iopub.execute_input": "2024-04-02T14:24:57.329322Z",
     "iopub.status.busy": "2024-04-02T14:24:57.328852Z",
     "iopub.status.idle": "2024-04-02T14:24:57.335293Z",
     "shell.execute_reply": "2024-04-02T14:24:57.334470Z"
    },
    "papermill": {
     "duration": 0.018193,
     "end_time": "2024-04-02T14:24:57.337122",
     "exception": false,
     "start_time": "2024-04-02T14:24:57.318929",
     "status": "completed"
    },
    "tags": []
   },
   "outputs": [
    {
     "data": {
      "text/plain": [
       "torch.Size([33600, 1, 28, 28])"
      ]
     },
     "execution_count": 16,
     "metadata": {},
     "output_type": "execute_result"
    }
   ],
   "source": [
    "X_train.shape"
   ]
  },
  {
   "cell_type": "code",
   "execution_count": 17,
   "id": "2f06b7ce",
   "metadata": {
    "execution": {
     "iopub.execute_input": "2024-04-02T14:24:57.356940Z",
     "iopub.status.busy": "2024-04-02T14:24:57.356411Z",
     "iopub.status.idle": "2024-04-02T14:25:00.737247Z",
     "shell.execute_reply": "2024-04-02T14:25:00.736229Z"
    },
    "papermill": {
     "duration": 3.393067,
     "end_time": "2024-04-02T14:25:00.739371",
     "exception": false,
     "start_time": "2024-04-02T14:24:57.346304",
     "status": "completed"
    },
    "tags": []
   },
   "outputs": [
    {
     "name": "stdout",
     "output_type": "stream",
     "text": [
      "torch.Size([33600, 32, 28, 28])\n"
     ]
    }
   ],
   "source": [
    "m=nn.Conv2d(1,32,kernel_size=3,stride=1,padding=1,bias=False)\n",
    "print(m(X_train).shape)\n"
   ]
  },
  {
   "cell_type": "code",
   "execution_count": 18,
   "id": "57950f68",
   "metadata": {
    "execution": {
     "iopub.execute_input": "2024-04-02T14:25:00.759718Z",
     "iopub.status.busy": "2024-04-02T14:25:00.759378Z",
     "iopub.status.idle": "2024-04-02T14:25:00.768938Z",
     "shell.execute_reply": "2024-04-02T14:25:00.768067Z"
    },
    "papermill": {
     "duration": 0.021918,
     "end_time": "2024-04-02T14:25:00.770845",
     "exception": false,
     "start_time": "2024-04-02T14:25:00.748927",
     "status": "completed"
    },
    "tags": []
   },
   "outputs": [],
   "source": [
    "class CNNModel(nn.Module):\n",
    "        \n",
    "    def __init__(self):\n",
    "        super().__init__()\n",
    "        \n",
    "        self.conv_layers = nn.Sequential(\n",
    "            \n",
    "            nn.Conv2d(1, 32, kernel_size=3, stride=1, padding=1, bias=False),\n",
    "            nn.LeakyReLU(0.1),\n",
    "            nn.BatchNorm2d(32),            \n",
    "            nn.AvgPool2d(2),\n",
    "                \n",
    "            nn.Conv2d(32, 64, kernel_size=3, stride=1, padding=1, bias=False),\n",
    "            nn.LeakyReLU(0.1),\n",
    "            nn.BatchNorm2d(64),            \n",
    "            nn.AvgPool2d(2),\n",
    "               \n",
    "            nn.Conv2d(64, 128, kernel_size=3, stride=1, padding=1, bias=False),\n",
    "            nn.LeakyReLU(0.1),\n",
    "            nn.BatchNorm2d(128),            \n",
    "            nn.AvgPool2d(2)\n",
    "        )\n",
    "            \n",
    "        self.linear_layers = nn.Sequential(\n",
    "            nn.Linear(128*3*3, 64),\n",
    "            nn.LeakyReLU(0.1),\n",
    "            nn.BatchNorm1d(64),\n",
    "                \n",
    "            nn.Linear(64, 32),\n",
    "            nn.LeakyReLU(0.1),\n",
    "            nn.BatchNorm1d(32),\n",
    "                \n",
    "            nn.Linear(32, 10), \n",
    "            nn.LeakyReLU(0.1),\n",
    "            nn.Softmax(dim=1)  \n",
    "        )\n",
    "        \n",
    "    def forward(self, x):\n",
    "        x = self.conv_layers(x)\n",
    "        x = x.view(x.size(0), -1)  \n",
    "        x = self.linear_layers(x)\n",
    "        return x\n"
   ]
  },
  {
   "cell_type": "code",
   "execution_count": 19,
   "id": "936b01ef",
   "metadata": {
    "execution": {
     "iopub.execute_input": "2024-04-02T14:25:00.790731Z",
     "iopub.status.busy": "2024-04-02T14:25:00.790407Z",
     "iopub.status.idle": "2024-04-02T14:25:00.957102Z",
     "shell.execute_reply": "2024-04-02T14:25:00.956115Z"
    },
    "papermill": {
     "duration": 0.179309,
     "end_time": "2024-04-02T14:25:00.959514",
     "exception": false,
     "start_time": "2024-04-02T14:25:00.780205",
     "status": "completed"
    },
    "tags": []
   },
   "outputs": [],
   "source": [
    "model=CNNModel().to(device)\n",
    "minibatch_size=128\n",
    "optimizer= torch.optim.Adam(model.parameters())\n",
    "loss_func=nn.CrossEntropyLoss()\n",
    "\n",
    "nb_epochs=50\n",
    "early_stop=10\n",
    "progress_interval=5"
   ]
  },
  {
   "cell_type": "code",
   "execution_count": 20,
   "id": "2af8515e",
   "metadata": {
    "execution": {
     "iopub.execute_input": "2024-04-02T14:25:00.979801Z",
     "iopub.status.busy": "2024-04-02T14:25:00.979458Z",
     "iopub.status.idle": "2024-04-02T14:25:00.990161Z",
     "shell.execute_reply": "2024-04-02T14:25:00.989318Z"
    },
    "papermill": {
     "duration": 0.022791,
     "end_time": "2024-04-02T14:25:00.991981",
     "exception": false,
     "start_time": "2024-04-02T14:25:00.969190",
     "status": "completed"
    },
    "tags": []
   },
   "outputs": [],
   "source": [
    "def train_model(model, early_stop, n_epochs, progress_interval):\n",
    "    \n",
    "    train_losses, valid_losses, lowest_loss = list(), list(), np.inf\n",
    "\n",
    "   \n",
    "    for epoch in range(n_epochs):\n",
    "        \n",
    "        train_loss, valid_loss = 0, 0\n",
    "        \n",
    "        model.train()\n",
    "        \n",
    "        for x_minibatch, y_minibatch in train_batches:\n",
    "            x_minibatch = x_minibatch.to(device)\n",
    "            y_minibatch = y_minibatch.to(device)\n",
    "            y_minibatch_pred = model(x_minibatch)\n",
    "            loss = loss_func(y_minibatch_pred, y_minibatch)\n",
    "\n",
    "            optimizer.zero_grad()\n",
    "            loss.backward()\n",
    "            optimizer.step()\n",
    "            train_loss += loss.item()\n",
    "        \n",
    "        train_loss = train_loss / len(train_batches)\n",
    "        train_losses.append(train_loss)      \n",
    "        \n",
    "    \n",
    "        model.eval()\n",
    "        with torch.no_grad():\n",
    "            for x_minibatch, y_minibatch in val_batches:\n",
    "                x_minibatch = x_minibatch.to(device)\n",
    "                y_minibatch = y_minibatch.to(device)\n",
    "                y_minibatch_pred = model(x_minibatch)\n",
    "                loss = loss_func(y_minibatch_pred, y_minibatch)\n",
    "                valid_loss += loss.item()\n",
    "                \n",
    "        valid_loss = valid_loss / len(val_batches)\n",
    "        valid_losses.append(valid_loss)\n",
    "\n",
    "        if valid_losses[-1] < lowest_loss:\n",
    "            lowest_loss = valid_losses[-1]\n",
    "            lowest_epoch = epoch\n",
    "            best_model = deepcopy(model.state_dict())\n",
    "        else:\n",
    "            if (early_stop > 0) and lowest_epoch + early_stop < epoch:\n",
    "                print (\"Early Stopped\", epoch, \"epochs\")\n",
    "                break\n",
    "                \n",
    "        if (epoch % progress_interval) == 0:\n",
    "            print (train_losses[-1], valid_losses[-1], lowest_loss, lowest_epoch, epoch)\n",
    "            \n",
    "    model.load_state_dict(best_model)        \n",
    "    return model, lowest_loss, train_losses, valid_losses"
   ]
  },
  {
   "cell_type": "code",
   "execution_count": 21,
   "id": "51c80c5b",
   "metadata": {
    "execution": {
     "iopub.execute_input": "2024-04-02T14:25:01.012175Z",
     "iopub.status.busy": "2024-04-02T14:25:01.011513Z",
     "iopub.status.idle": "2024-04-02T14:25:52.466116Z",
     "shell.execute_reply": "2024-04-02T14:25:52.465012Z"
    },
    "papermill": {
     "duration": 51.467038,
     "end_time": "2024-04-02T14:25:52.468252",
     "exception": false,
     "start_time": "2024-04-02T14:25:01.001214",
     "status": "completed"
    },
    "tags": []
   },
   "outputs": [
    {
     "name": "stdout",
     "output_type": "stream",
     "text": [
      "1.5976955759208011 1.4902147361726472 1.4902147361726472 0 0\n",
      "1.469191364915652 1.4731749585180571 1.4730817946520718 4 5\n",
      "1.4669682965985722 1.471622559157285 1.4709424864162097 6 10\n",
      "1.4644683622135408 1.4709251974568223 1.4700001604629285 14 15\n",
      "1.4641155176742902 1.46984525160356 1.4681384653756113 17 20\n",
      "1.4631432507881195 1.470236902887171 1.4681384653756113 17 25\n",
      "Early Stopped 28 epochs\n"
     ]
    }
   ],
   "source": [
    "model, lowest_loss, trian_loss, valid_loss = train_model(model,early_stop,nb_epochs,progress_interval)"
   ]
  },
  {
   "cell_type": "code",
   "execution_count": 22,
   "id": "77f0c775",
   "metadata": {
    "execution": {
     "iopub.execute_input": "2024-04-02T14:25:52.489404Z",
     "iopub.status.busy": "2024-04-02T14:25:52.489115Z",
     "iopub.status.idle": "2024-04-02T14:25:52.494787Z",
     "shell.execute_reply": "2024-04-02T14:25:52.493869Z"
    },
    "papermill": {
     "duration": 0.018472,
     "end_time": "2024-04-02T14:25:52.496821",
     "exception": false,
     "start_time": "2024-04-02T14:25:52.478349",
     "status": "completed"
    },
    "tags": []
   },
   "outputs": [
    {
     "data": {
      "text/plain": [
       "(28000, 784)"
      ]
     },
     "execution_count": 22,
     "metadata": {},
     "output_type": "execute_result"
    }
   ],
   "source": [
    "X_test.shape"
   ]
  },
  {
   "cell_type": "code",
   "execution_count": 23,
   "id": "fb72e5a4",
   "metadata": {
    "execution": {
     "iopub.execute_input": "2024-04-02T14:25:52.518754Z",
     "iopub.status.busy": "2024-04-02T14:25:52.517917Z",
     "iopub.status.idle": "2024-04-02T14:25:52.560868Z",
     "shell.execute_reply": "2024-04-02T14:25:52.559795Z"
    },
    "papermill": {
     "duration": 0.056267,
     "end_time": "2024-04-02T14:25:52.563372",
     "exception": false,
     "start_time": "2024-04-02T14:25:52.507105",
     "status": "completed"
    },
    "tags": []
   },
   "outputs": [],
   "source": [
    "X_test=X_test.values\n",
    "X_test=X_test.reshape(-1,1,28,28)\n",
    "X_test=torch.tensor(X_test, dtype=torch.float32)\n",
    "test_batches=DataLoader(X_test,batch_size=minibatch_size,shuffle=True)"
   ]
  },
  {
   "cell_type": "code",
   "execution_count": 24,
   "id": "1d4eed19",
   "metadata": {
    "execution": {
     "iopub.execute_input": "2024-04-02T14:25:52.586939Z",
     "iopub.status.busy": "2024-04-02T14:25:52.586499Z",
     "iopub.status.idle": "2024-04-02T14:25:52.592690Z",
     "shell.execute_reply": "2024-04-02T14:25:52.591829Z"
    },
    "papermill": {
     "duration": 0.019713,
     "end_time": "2024-04-02T14:25:52.594677",
     "exception": false,
     "start_time": "2024-04-02T14:25:52.574964",
     "status": "completed"
    },
    "tags": []
   },
   "outputs": [
    {
     "data": {
      "text/plain": [
       "torch.Size([28000, 1, 28, 28])"
      ]
     },
     "execution_count": 24,
     "metadata": {},
     "output_type": "execute_result"
    }
   ],
   "source": [
    "X_test.shape"
   ]
  },
  {
   "cell_type": "code",
   "execution_count": 25,
   "id": "526a0a14",
   "metadata": {
    "execution": {
     "iopub.execute_input": "2024-04-02T14:25:52.616251Z",
     "iopub.status.busy": "2024-04-02T14:25:52.615976Z",
     "iopub.status.idle": "2024-04-02T14:25:53.301355Z",
     "shell.execute_reply": "2024-04-02T14:25:53.300381Z"
    },
    "papermill": {
     "duration": 0.698854,
     "end_time": "2024-04-02T14:25:53.303743",
     "exception": false,
     "start_time": "2024-04-02T14:25:52.604889",
     "status": "completed"
    },
    "tags": []
   },
   "outputs": [],
   "source": [
    "model.eval()\n",
    "all_pred=[]\n",
    "with torch.no_grad():\n",
    "    for x_minibatch in test_batches:\n",
    "        x_minibatch=x_minibatch.to(device)\n",
    "        y_test_pred = model(x_minibatch)\n",
    "        all_pred.append(y_test_pred)\n",
    "y_test_pred = torch.cat(all_pred, dim=0)"
   ]
  },
  {
   "cell_type": "code",
   "execution_count": 26,
   "id": "8e811ada",
   "metadata": {
    "execution": {
     "iopub.execute_input": "2024-04-02T14:25:53.325800Z",
     "iopub.status.busy": "2024-04-02T14:25:53.325452Z",
     "iopub.status.idle": "2024-04-02T14:25:53.331435Z",
     "shell.execute_reply": "2024-04-02T14:25:53.330423Z"
    },
    "papermill": {
     "duration": 0.019251,
     "end_time": "2024-04-02T14:25:53.333575",
     "exception": false,
     "start_time": "2024-04-02T14:25:53.314324",
     "status": "completed"
    },
    "tags": []
   },
   "outputs": [
    {
     "data": {
      "text/plain": [
       "torch.Size([28000, 10])"
      ]
     },
     "execution_count": 26,
     "metadata": {},
     "output_type": "execute_result"
    }
   ],
   "source": [
    "y_test_pred.shape"
   ]
  },
  {
   "cell_type": "code",
   "execution_count": 27,
   "id": "b425ef71",
   "metadata": {
    "execution": {
     "iopub.execute_input": "2024-04-02T14:25:53.355687Z",
     "iopub.status.busy": "2024-04-02T14:25:53.355355Z",
     "iopub.status.idle": "2024-04-02T14:25:53.376039Z",
     "shell.execute_reply": "2024-04-02T14:25:53.375211Z"
    },
    "papermill": {
     "duration": 0.034038,
     "end_time": "2024-04-02T14:25:53.377994",
     "exception": false,
     "start_time": "2024-04-02T14:25:53.343956",
     "status": "completed"
    },
    "tags": []
   },
   "outputs": [
    {
     "data": {
      "text/plain": [
       "tensor([1, 2, 6,  ..., 3, 4, 6], device='cuda:0')"
      ]
     },
     "metadata": {},
     "output_type": "display_data"
    }
   ],
   "source": [
    "predicted_labels = torch.argmax(y_test_pred, dim=1)\n",
    "display(predicted_labels)"
   ]
  },
  {
   "cell_type": "code",
   "execution_count": 28,
   "id": "c3261eab",
   "metadata": {
    "execution": {
     "iopub.execute_input": "2024-04-02T14:25:53.399654Z",
     "iopub.status.busy": "2024-04-02T14:25:53.399354Z",
     "iopub.status.idle": "2024-04-02T14:25:53.439690Z",
     "shell.execute_reply": "2024-04-02T14:25:53.438655Z"
    },
    "papermill": {
     "duration": 0.053562,
     "end_time": "2024-04-02T14:25:53.441826",
     "exception": false,
     "start_time": "2024-04-02T14:25:53.388264",
     "status": "completed"
    },
    "tags": []
   },
   "outputs": [
    {
     "name": "stdout",
     "output_type": "stream",
     "text": [
      "예측된 라벨의 수: 28000\n",
      "저장된 CSV 파일 확인:    ImageId  Label\n",
      "0        1      1\n",
      "1        2      2\n",
      "2        3      6\n",
      "3        4      0\n",
      "4        5      5\n"
     ]
    }
   ],
   "source": [
    "predicted_labels_numpy = predicted_labels.cpu().numpy()  # PyTorch 텐서를 NumPy 배열로 변환\n",
    "\n",
    "print(\"예측된 라벨의 수:\", len(y_test_pred))\n",
    "submission_df = pd.DataFrame({'ImageId': range(1, len(predicted_labels_numpy) + 1),\n",
    "                              'Label': predicted_labels_numpy})\n",
    "\n",
    "submission_df.to_csv(\"submission.csv\", index=False)\n",
    "print(\"저장된 CSV 파일 확인:\", submission_df.head())"
   ]
  },
  {
   "cell_type": "code",
   "execution_count": 29,
   "id": "4a802be3",
   "metadata": {
    "execution": {
     "iopub.execute_input": "2024-04-02T14:25:53.464305Z",
     "iopub.status.busy": "2024-04-02T14:25:53.463975Z",
     "iopub.status.idle": "2024-04-02T14:25:53.479145Z",
     "shell.execute_reply": "2024-04-02T14:25:53.478197Z"
    },
    "papermill": {
     "duration": 0.028533,
     "end_time": "2024-04-02T14:25:53.481146",
     "exception": false,
     "start_time": "2024-04-02T14:25:53.452613",
     "status": "completed"
    },
    "tags": []
   },
   "outputs": [
    {
     "data": {
      "text/html": [
       "<div>\n",
       "<style scoped>\n",
       "    .dataframe tbody tr th:only-of-type {\n",
       "        vertical-align: middle;\n",
       "    }\n",
       "\n",
       "    .dataframe tbody tr th {\n",
       "        vertical-align: top;\n",
       "    }\n",
       "\n",
       "    .dataframe thead th {\n",
       "        text-align: right;\n",
       "    }\n",
       "</style>\n",
       "<table border=\"1\" class=\"dataframe\">\n",
       "  <thead>\n",
       "    <tr style=\"text-align: right;\">\n",
       "      <th></th>\n",
       "      <th>ImageId</th>\n",
       "      <th>Label</th>\n",
       "    </tr>\n",
       "  </thead>\n",
       "  <tbody>\n",
       "    <tr>\n",
       "      <th>0</th>\n",
       "      <td>1</td>\n",
       "      <td>1</td>\n",
       "    </tr>\n",
       "    <tr>\n",
       "      <th>1</th>\n",
       "      <td>2</td>\n",
       "      <td>2</td>\n",
       "    </tr>\n",
       "    <tr>\n",
       "      <th>2</th>\n",
       "      <td>3</td>\n",
       "      <td>6</td>\n",
       "    </tr>\n",
       "    <tr>\n",
       "      <th>3</th>\n",
       "      <td>4</td>\n",
       "      <td>0</td>\n",
       "    </tr>\n",
       "    <tr>\n",
       "      <th>4</th>\n",
       "      <td>5</td>\n",
       "      <td>5</td>\n",
       "    </tr>\n",
       "    <tr>\n",
       "      <th>...</th>\n",
       "      <td>...</td>\n",
       "      <td>...</td>\n",
       "    </tr>\n",
       "    <tr>\n",
       "      <th>27995</th>\n",
       "      <td>27996</td>\n",
       "      <td>5</td>\n",
       "    </tr>\n",
       "    <tr>\n",
       "      <th>27996</th>\n",
       "      <td>27997</td>\n",
       "      <td>0</td>\n",
       "    </tr>\n",
       "    <tr>\n",
       "      <th>27997</th>\n",
       "      <td>27998</td>\n",
       "      <td>3</td>\n",
       "    </tr>\n",
       "    <tr>\n",
       "      <th>27998</th>\n",
       "      <td>27999</td>\n",
       "      <td>4</td>\n",
       "    </tr>\n",
       "    <tr>\n",
       "      <th>27999</th>\n",
       "      <td>28000</td>\n",
       "      <td>6</td>\n",
       "    </tr>\n",
       "  </tbody>\n",
       "</table>\n",
       "<p>28000 rows × 2 columns</p>\n",
       "</div>"
      ],
      "text/plain": [
       "       ImageId  Label\n",
       "0            1      1\n",
       "1            2      2\n",
       "2            3      6\n",
       "3            4      0\n",
       "4            5      5\n",
       "...        ...    ...\n",
       "27995    27996      5\n",
       "27996    27997      0\n",
       "27997    27998      3\n",
       "27998    27999      4\n",
       "27999    28000      6\n",
       "\n",
       "[28000 rows x 2 columns]"
      ]
     },
     "metadata": {},
     "output_type": "display_data"
    }
   ],
   "source": [
    "pds=pd.read_csv(\"/kaggle/working/submission.csv\")\n",
    "display(pds)"
   ]
  }
 ],
 "metadata": {
  "kaggle": {
   "accelerator": "gpu",
   "dataSources": [
    {
     "databundleVersionId": 861823,
     "sourceId": 3004,
     "sourceType": "competition"
    }
   ],
   "dockerImageVersionId": 30673,
   "isGpuEnabled": true,
   "isInternetEnabled": true,
   "language": "python",
   "sourceType": "notebook"
  },
  "kernelspec": {
   "display_name": "Python 3",
   "language": "python",
   "name": "python3"
  },
  "language_info": {
   "codemirror_mode": {
    "name": "ipython",
    "version": 3
   },
   "file_extension": ".py",
   "mimetype": "text/x-python",
   "name": "python",
   "nbconvert_exporter": "python",
   "pygments_lexer": "ipython3",
   "version": "3.10.13"
  },
  "papermill": {
   "default_parameters": {},
   "duration": 75.954829,
   "end_time": "2024-04-02T14:25:55.315913",
   "environment_variables": {},
   "exception": null,
   "input_path": "__notebook__.ipynb",
   "output_path": "__notebook__.ipynb",
   "parameters": {},
   "start_time": "2024-04-02T14:24:39.361084",
   "version": "2.5.0"
  }
 },
 "nbformat": 4,
 "nbformat_minor": 5
}
