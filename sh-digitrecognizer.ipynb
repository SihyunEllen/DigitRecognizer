{
 "cells": [
  {
   "cell_type": "code",
   "execution_count": 1,
   "id": "a11c7334",
   "metadata": {
    "_cell_guid": "b1076dfc-b9ad-4769-8c92-a6c4dae69d19",
    "_uuid": "8f2839f25d086af736a60e9eeb907d3b93b6e0e5",
    "execution": {
     "iopub.execute_input": "2024-04-02T14:04:52.460371Z",
     "iopub.status.busy": "2024-04-02T14:04:52.460069Z",
     "iopub.status.idle": "2024-04-02T14:04:53.194265Z",
     "shell.execute_reply": "2024-04-02T14:04:53.193265Z"
    },
    "papermill": {
     "duration": 0.745751,
     "end_time": "2024-04-02T14:04:53.196421",
     "exception": false,
     "start_time": "2024-04-02T14:04:52.450670",
     "status": "completed"
    },
    "tags": []
   },
   "outputs": [
    {
     "name": "stdout",
     "output_type": "stream",
     "text": [
      "/kaggle/input/digit-recognizer/sample_submission.csv\n",
      "/kaggle/input/digit-recognizer/train.csv\n",
      "/kaggle/input/digit-recognizer/test.csv\n"
     ]
    }
   ],
   "source": [
    "import numpy as np \n",
    "import pandas as pd \n",
    "import os\n",
    "for dirname, _, filenames in os.walk('/kaggle/input'):\n",
    "    for filename in filenames:\n",
    "        print(os.path.join(dirname, filename))"
   ]
  },
  {
   "cell_type": "code",
   "execution_count": 2,
   "id": "3b48f3d1",
   "metadata": {
    "execution": {
     "iopub.execute_input": "2024-04-02T14:04:53.214100Z",
     "iopub.status.busy": "2024-04-02T14:04:53.213248Z",
     "iopub.status.idle": "2024-04-02T14:05:01.151696Z",
     "shell.execute_reply": "2024-04-02T14:05:01.150942Z"
    },
    "papermill": {
     "duration": 7.949303,
     "end_time": "2024-04-02T14:05:01.153916",
     "exception": false,
     "start_time": "2024-04-02T14:04:53.204613",
     "status": "completed"
    },
    "tags": []
   },
   "outputs": [],
   "source": [
    "import torch\n",
    "import torch.nn as nn\n",
    "from torch.utils.data import DataLoader, Subset\n",
    "from torchvision import datasets, transforms\n",
    "from sklearn.model_selection import train_test_split\n",
    "import numpy as np\n",
    "from copy import deepcopy # 모델 파라미터값 깊은 복사 (베스트 모델 저장을 위함)\n",
    "from torch.utils.data import TensorDataset"
   ]
  },
  {
   "cell_type": "code",
   "execution_count": 3,
   "id": "a8e49962",
   "metadata": {
    "execution": {
     "iopub.execute_input": "2024-04-02T14:05:01.171227Z",
     "iopub.status.busy": "2024-04-02T14:05:01.170807Z",
     "iopub.status.idle": "2024-04-02T14:05:01.229292Z",
     "shell.execute_reply": "2024-04-02T14:05:01.228404Z"
    },
    "papermill": {
     "duration": 0.069041,
     "end_time": "2024-04-02T14:05:01.231166",
     "exception": false,
     "start_time": "2024-04-02T14:05:01.162125",
     "status": "completed"
    },
    "tags": []
   },
   "outputs": [],
   "source": [
    "device = torch.device(\"cuda\" if torch.cuda.is_available() else \"cpu\")"
   ]
  },
  {
   "cell_type": "code",
   "execution_count": 4,
   "id": "7746140b",
   "metadata": {
    "execution": {
     "iopub.execute_input": "2024-04-02T14:05:01.247847Z",
     "iopub.status.busy": "2024-04-02T14:05:01.247547Z",
     "iopub.status.idle": "2024-04-02T14:05:06.662813Z",
     "shell.execute_reply": "2024-04-02T14:05:06.661974Z"
    },
    "papermill": {
     "duration": 5.426081,
     "end_time": "2024-04-02T14:05:06.665095",
     "exception": false,
     "start_time": "2024-04-02T14:05:01.239014",
     "status": "completed"
    },
    "tags": []
   },
   "outputs": [],
   "source": [
    "train= pd.read_csv(\"/kaggle/input/digit-recognizer/train.csv\")\n",
    "test=pd.read_csv(\"/kaggle/input/digit-recognizer/test.csv\")"
   ]
  },
  {
   "cell_type": "code",
   "execution_count": 5,
   "id": "4f59e804",
   "metadata": {
    "execution": {
     "iopub.execute_input": "2024-04-02T14:05:06.682546Z",
     "iopub.status.busy": "2024-04-02T14:05:06.682050Z",
     "iopub.status.idle": "2024-04-02T14:05:06.709431Z",
     "shell.execute_reply": "2024-04-02T14:05:06.708634Z"
    },
    "jupyter": {
     "source_hidden": true
    },
    "papermill": {
     "duration": 0.037959,
     "end_time": "2024-04-02T14:05:06.711338",
     "exception": false,
     "start_time": "2024-04-02T14:05:06.673379",
     "status": "completed"
    },
    "tags": []
   },
   "outputs": [
    {
     "data": {
      "text/html": [
       "<div>\n",
       "<style scoped>\n",
       "    .dataframe tbody tr th:only-of-type {\n",
       "        vertical-align: middle;\n",
       "    }\n",
       "\n",
       "    .dataframe tbody tr th {\n",
       "        vertical-align: top;\n",
       "    }\n",
       "\n",
       "    .dataframe thead th {\n",
       "        text-align: right;\n",
       "    }\n",
       "</style>\n",
       "<table border=\"1\" class=\"dataframe\">\n",
       "  <thead>\n",
       "    <tr style=\"text-align: right;\">\n",
       "      <th></th>\n",
       "      <th>label</th>\n",
       "      <th>pixel0</th>\n",
       "      <th>pixel1</th>\n",
       "      <th>pixel2</th>\n",
       "      <th>pixel3</th>\n",
       "      <th>pixel4</th>\n",
       "      <th>pixel5</th>\n",
       "      <th>pixel6</th>\n",
       "      <th>pixel7</th>\n",
       "      <th>pixel8</th>\n",
       "      <th>...</th>\n",
       "      <th>pixel774</th>\n",
       "      <th>pixel775</th>\n",
       "      <th>pixel776</th>\n",
       "      <th>pixel777</th>\n",
       "      <th>pixel778</th>\n",
       "      <th>pixel779</th>\n",
       "      <th>pixel780</th>\n",
       "      <th>pixel781</th>\n",
       "      <th>pixel782</th>\n",
       "      <th>pixel783</th>\n",
       "    </tr>\n",
       "  </thead>\n",
       "  <tbody>\n",
       "    <tr>\n",
       "      <th>0</th>\n",
       "      <td>1</td>\n",
       "      <td>0</td>\n",
       "      <td>0</td>\n",
       "      <td>0</td>\n",
       "      <td>0</td>\n",
       "      <td>0</td>\n",
       "      <td>0</td>\n",
       "      <td>0</td>\n",
       "      <td>0</td>\n",
       "      <td>0</td>\n",
       "      <td>...</td>\n",
       "      <td>0</td>\n",
       "      <td>0</td>\n",
       "      <td>0</td>\n",
       "      <td>0</td>\n",
       "      <td>0</td>\n",
       "      <td>0</td>\n",
       "      <td>0</td>\n",
       "      <td>0</td>\n",
       "      <td>0</td>\n",
       "      <td>0</td>\n",
       "    </tr>\n",
       "    <tr>\n",
       "      <th>1</th>\n",
       "      <td>0</td>\n",
       "      <td>0</td>\n",
       "      <td>0</td>\n",
       "      <td>0</td>\n",
       "      <td>0</td>\n",
       "      <td>0</td>\n",
       "      <td>0</td>\n",
       "      <td>0</td>\n",
       "      <td>0</td>\n",
       "      <td>0</td>\n",
       "      <td>...</td>\n",
       "      <td>0</td>\n",
       "      <td>0</td>\n",
       "      <td>0</td>\n",
       "      <td>0</td>\n",
       "      <td>0</td>\n",
       "      <td>0</td>\n",
       "      <td>0</td>\n",
       "      <td>0</td>\n",
       "      <td>0</td>\n",
       "      <td>0</td>\n",
       "    </tr>\n",
       "    <tr>\n",
       "      <th>2</th>\n",
       "      <td>1</td>\n",
       "      <td>0</td>\n",
       "      <td>0</td>\n",
       "      <td>0</td>\n",
       "      <td>0</td>\n",
       "      <td>0</td>\n",
       "      <td>0</td>\n",
       "      <td>0</td>\n",
       "      <td>0</td>\n",
       "      <td>0</td>\n",
       "      <td>...</td>\n",
       "      <td>0</td>\n",
       "      <td>0</td>\n",
       "      <td>0</td>\n",
       "      <td>0</td>\n",
       "      <td>0</td>\n",
       "      <td>0</td>\n",
       "      <td>0</td>\n",
       "      <td>0</td>\n",
       "      <td>0</td>\n",
       "      <td>0</td>\n",
       "    </tr>\n",
       "    <tr>\n",
       "      <th>3</th>\n",
       "      <td>4</td>\n",
       "      <td>0</td>\n",
       "      <td>0</td>\n",
       "      <td>0</td>\n",
       "      <td>0</td>\n",
       "      <td>0</td>\n",
       "      <td>0</td>\n",
       "      <td>0</td>\n",
       "      <td>0</td>\n",
       "      <td>0</td>\n",
       "      <td>...</td>\n",
       "      <td>0</td>\n",
       "      <td>0</td>\n",
       "      <td>0</td>\n",
       "      <td>0</td>\n",
       "      <td>0</td>\n",
       "      <td>0</td>\n",
       "      <td>0</td>\n",
       "      <td>0</td>\n",
       "      <td>0</td>\n",
       "      <td>0</td>\n",
       "    </tr>\n",
       "    <tr>\n",
       "      <th>4</th>\n",
       "      <td>0</td>\n",
       "      <td>0</td>\n",
       "      <td>0</td>\n",
       "      <td>0</td>\n",
       "      <td>0</td>\n",
       "      <td>0</td>\n",
       "      <td>0</td>\n",
       "      <td>0</td>\n",
       "      <td>0</td>\n",
       "      <td>0</td>\n",
       "      <td>...</td>\n",
       "      <td>0</td>\n",
       "      <td>0</td>\n",
       "      <td>0</td>\n",
       "      <td>0</td>\n",
       "      <td>0</td>\n",
       "      <td>0</td>\n",
       "      <td>0</td>\n",
       "      <td>0</td>\n",
       "      <td>0</td>\n",
       "      <td>0</td>\n",
       "    </tr>\n",
       "    <tr>\n",
       "      <th>...</th>\n",
       "      <td>...</td>\n",
       "      <td>...</td>\n",
       "      <td>...</td>\n",
       "      <td>...</td>\n",
       "      <td>...</td>\n",
       "      <td>...</td>\n",
       "      <td>...</td>\n",
       "      <td>...</td>\n",
       "      <td>...</td>\n",
       "      <td>...</td>\n",
       "      <td>...</td>\n",
       "      <td>...</td>\n",
       "      <td>...</td>\n",
       "      <td>...</td>\n",
       "      <td>...</td>\n",
       "      <td>...</td>\n",
       "      <td>...</td>\n",
       "      <td>...</td>\n",
       "      <td>...</td>\n",
       "      <td>...</td>\n",
       "      <td>...</td>\n",
       "    </tr>\n",
       "    <tr>\n",
       "      <th>41995</th>\n",
       "      <td>0</td>\n",
       "      <td>0</td>\n",
       "      <td>0</td>\n",
       "      <td>0</td>\n",
       "      <td>0</td>\n",
       "      <td>0</td>\n",
       "      <td>0</td>\n",
       "      <td>0</td>\n",
       "      <td>0</td>\n",
       "      <td>0</td>\n",
       "      <td>...</td>\n",
       "      <td>0</td>\n",
       "      <td>0</td>\n",
       "      <td>0</td>\n",
       "      <td>0</td>\n",
       "      <td>0</td>\n",
       "      <td>0</td>\n",
       "      <td>0</td>\n",
       "      <td>0</td>\n",
       "      <td>0</td>\n",
       "      <td>0</td>\n",
       "    </tr>\n",
       "    <tr>\n",
       "      <th>41996</th>\n",
       "      <td>1</td>\n",
       "      <td>0</td>\n",
       "      <td>0</td>\n",
       "      <td>0</td>\n",
       "      <td>0</td>\n",
       "      <td>0</td>\n",
       "      <td>0</td>\n",
       "      <td>0</td>\n",
       "      <td>0</td>\n",
       "      <td>0</td>\n",
       "      <td>...</td>\n",
       "      <td>0</td>\n",
       "      <td>0</td>\n",
       "      <td>0</td>\n",
       "      <td>0</td>\n",
       "      <td>0</td>\n",
       "      <td>0</td>\n",
       "      <td>0</td>\n",
       "      <td>0</td>\n",
       "      <td>0</td>\n",
       "      <td>0</td>\n",
       "    </tr>\n",
       "    <tr>\n",
       "      <th>41997</th>\n",
       "      <td>7</td>\n",
       "      <td>0</td>\n",
       "      <td>0</td>\n",
       "      <td>0</td>\n",
       "      <td>0</td>\n",
       "      <td>0</td>\n",
       "      <td>0</td>\n",
       "      <td>0</td>\n",
       "      <td>0</td>\n",
       "      <td>0</td>\n",
       "      <td>...</td>\n",
       "      <td>0</td>\n",
       "      <td>0</td>\n",
       "      <td>0</td>\n",
       "      <td>0</td>\n",
       "      <td>0</td>\n",
       "      <td>0</td>\n",
       "      <td>0</td>\n",
       "      <td>0</td>\n",
       "      <td>0</td>\n",
       "      <td>0</td>\n",
       "    </tr>\n",
       "    <tr>\n",
       "      <th>41998</th>\n",
       "      <td>6</td>\n",
       "      <td>0</td>\n",
       "      <td>0</td>\n",
       "      <td>0</td>\n",
       "      <td>0</td>\n",
       "      <td>0</td>\n",
       "      <td>0</td>\n",
       "      <td>0</td>\n",
       "      <td>0</td>\n",
       "      <td>0</td>\n",
       "      <td>...</td>\n",
       "      <td>0</td>\n",
       "      <td>0</td>\n",
       "      <td>0</td>\n",
       "      <td>0</td>\n",
       "      <td>0</td>\n",
       "      <td>0</td>\n",
       "      <td>0</td>\n",
       "      <td>0</td>\n",
       "      <td>0</td>\n",
       "      <td>0</td>\n",
       "    </tr>\n",
       "    <tr>\n",
       "      <th>41999</th>\n",
       "      <td>9</td>\n",
       "      <td>0</td>\n",
       "      <td>0</td>\n",
       "      <td>0</td>\n",
       "      <td>0</td>\n",
       "      <td>0</td>\n",
       "      <td>0</td>\n",
       "      <td>0</td>\n",
       "      <td>0</td>\n",
       "      <td>0</td>\n",
       "      <td>...</td>\n",
       "      <td>0</td>\n",
       "      <td>0</td>\n",
       "      <td>0</td>\n",
       "      <td>0</td>\n",
       "      <td>0</td>\n",
       "      <td>0</td>\n",
       "      <td>0</td>\n",
       "      <td>0</td>\n",
       "      <td>0</td>\n",
       "      <td>0</td>\n",
       "    </tr>\n",
       "  </tbody>\n",
       "</table>\n",
       "<p>42000 rows × 785 columns</p>\n",
       "</div>"
      ],
      "text/plain": [
       "       label  pixel0  pixel1  pixel2  pixel3  pixel4  pixel5  pixel6  pixel7  \\\n",
       "0          1       0       0       0       0       0       0       0       0   \n",
       "1          0       0       0       0       0       0       0       0       0   \n",
       "2          1       0       0       0       0       0       0       0       0   \n",
       "3          4       0       0       0       0       0       0       0       0   \n",
       "4          0       0       0       0       0       0       0       0       0   \n",
       "...      ...     ...     ...     ...     ...     ...     ...     ...     ...   \n",
       "41995      0       0       0       0       0       0       0       0       0   \n",
       "41996      1       0       0       0       0       0       0       0       0   \n",
       "41997      7       0       0       0       0       0       0       0       0   \n",
       "41998      6       0       0       0       0       0       0       0       0   \n",
       "41999      9       0       0       0       0       0       0       0       0   \n",
       "\n",
       "       pixel8  ...  pixel774  pixel775  pixel776  pixel777  pixel778  \\\n",
       "0           0  ...         0         0         0         0         0   \n",
       "1           0  ...         0         0         0         0         0   \n",
       "2           0  ...         0         0         0         0         0   \n",
       "3           0  ...         0         0         0         0         0   \n",
       "4           0  ...         0         0         0         0         0   \n",
       "...       ...  ...       ...       ...       ...       ...       ...   \n",
       "41995       0  ...         0         0         0         0         0   \n",
       "41996       0  ...         0         0         0         0         0   \n",
       "41997       0  ...         0         0         0         0         0   \n",
       "41998       0  ...         0         0         0         0         0   \n",
       "41999       0  ...         0         0         0         0         0   \n",
       "\n",
       "       pixel779  pixel780  pixel781  pixel782  pixel783  \n",
       "0             0         0         0         0         0  \n",
       "1             0         0         0         0         0  \n",
       "2             0         0         0         0         0  \n",
       "3             0         0         0         0         0  \n",
       "4             0         0         0         0         0  \n",
       "...         ...       ...       ...       ...       ...  \n",
       "41995         0         0         0         0         0  \n",
       "41996         0         0         0         0         0  \n",
       "41997         0         0         0         0         0  \n",
       "41998         0         0         0         0         0  \n",
       "41999         0         0         0         0         0  \n",
       "\n",
       "[42000 rows x 785 columns]"
      ]
     },
     "metadata": {},
     "output_type": "display_data"
    }
   ],
   "source": [
    "display(train)"
   ]
  },
  {
   "cell_type": "code",
   "execution_count": 6,
   "id": "957cf06b",
   "metadata": {
    "execution": {
     "iopub.execute_input": "2024-04-02T14:05:06.731952Z",
     "iopub.status.busy": "2024-04-02T14:05:06.731257Z",
     "iopub.status.idle": "2024-04-02T14:05:06.736627Z",
     "shell.execute_reply": "2024-04-02T14:05:06.735795Z"
    },
    "papermill": {
     "duration": 0.016739,
     "end_time": "2024-04-02T14:05:06.738630",
     "exception": false,
     "start_time": "2024-04-02T14:05:06.721891",
     "status": "completed"
    },
    "tags": []
   },
   "outputs": [
    {
     "data": {
      "text/plain": [
       "(42000, 785)"
      ]
     },
     "execution_count": 6,
     "metadata": {},
     "output_type": "execute_result"
    }
   ],
   "source": [
    "train.shape"
   ]
  },
  {
   "cell_type": "code",
   "execution_count": 7,
   "id": "27b17cb5",
   "metadata": {
    "execution": {
     "iopub.execute_input": "2024-04-02T14:05:06.756976Z",
     "iopub.status.busy": "2024-04-02T14:05:06.756393Z",
     "iopub.status.idle": "2024-04-02T14:05:06.844792Z",
     "shell.execute_reply": "2024-04-02T14:05:06.843429Z"
    },
    "papermill": {
     "duration": 0.100857,
     "end_time": "2024-04-02T14:05:06.848151",
     "exception": false,
     "start_time": "2024-04-02T14:05:06.747294",
     "status": "completed"
    },
    "tags": []
   },
   "outputs": [],
   "source": [
    "X_train= train.drop(['label'],axis= 1).values\n",
    "y_train=train['label'].values"
   ]
  },
  {
   "cell_type": "code",
   "execution_count": 8,
   "id": "f0cbe14b",
   "metadata": {
    "execution": {
     "iopub.execute_input": "2024-04-02T14:05:06.872048Z",
     "iopub.status.busy": "2024-04-02T14:05:06.871734Z",
     "iopub.status.idle": "2024-04-02T14:05:06.952257Z",
     "shell.execute_reply": "2024-04-02T14:05:06.951191Z"
    },
    "papermill": {
     "duration": 0.096075,
     "end_time": "2024-04-02T14:05:06.954658",
     "exception": false,
     "start_time": "2024-04-02T14:05:06.858583",
     "status": "completed"
    },
    "tags": []
   },
   "outputs": [],
   "source": [
    "X_test=train.drop(['label'],axis=1).values"
   ]
  },
  {
   "cell_type": "code",
   "execution_count": 9,
   "id": "06df3a99",
   "metadata": {
    "execution": {
     "iopub.execute_input": "2024-04-02T14:05:06.973017Z",
     "iopub.status.busy": "2024-04-02T14:05:06.972441Z",
     "iopub.status.idle": "2024-04-02T14:05:06.976913Z",
     "shell.execute_reply": "2024-04-02T14:05:06.976102Z"
    },
    "papermill": {
     "duration": 0.015528,
     "end_time": "2024-04-02T14:05:06.978856",
     "exception": false,
     "start_time": "2024-04-02T14:05:06.963328",
     "status": "completed"
    },
    "tags": []
   },
   "outputs": [
    {
     "name": "stdout",
     "output_type": "stream",
     "text": [
      "(42000, 784) (42000,)\n"
     ]
    }
   ],
   "source": [
    "print(X_train.shape, y_train.shape)\n",
    "#x_train은 2차원 텐서 , y_train은 벡터"
   ]
  },
  {
   "cell_type": "code",
   "execution_count": 10,
   "id": "4f75be34",
   "metadata": {
    "execution": {
     "iopub.execute_input": "2024-04-02T14:05:06.997081Z",
     "iopub.status.busy": "2024-04-02T14:05:06.996583Z",
     "iopub.status.idle": "2024-04-02T14:05:07.000322Z",
     "shell.execute_reply": "2024-04-02T14:05:06.999524Z"
    },
    "papermill": {
     "duration": 0.015093,
     "end_time": "2024-04-02T14:05:07.002242",
     "exception": false,
     "start_time": "2024-04-02T14:05:06.987149",
     "status": "completed"
    },
    "tags": []
   },
   "outputs": [],
   "source": [
    "import matplotlib.pyplot as plt\n",
    "import matplotlib.image as mpimg"
   ]
  },
  {
   "cell_type": "code",
   "execution_count": 11,
   "id": "0575b026",
   "metadata": {
    "execution": {
     "iopub.execute_input": "2024-04-02T14:05:07.020343Z",
     "iopub.status.busy": "2024-04-02T14:05:07.019876Z",
     "iopub.status.idle": "2024-04-02T14:05:07.025534Z",
     "shell.execute_reply": "2024-04-02T14:05:07.024725Z"
    },
    "papermill": {
     "duration": 0.016811,
     "end_time": "2024-04-02T14:05:07.027455",
     "exception": false,
     "start_time": "2024-04-02T14:05:07.010644",
     "status": "completed"
    },
    "tags": []
   },
   "outputs": [
    {
     "data": {
      "text/plain": [
       "(42000, 1, 28, 28)"
      ]
     },
     "execution_count": 11,
     "metadata": {},
     "output_type": "execute_result"
    }
   ],
   "source": [
    "#픽셀 28*28 \n",
    "X_train=X_train.reshape(-1,1,28,28)\n",
    "X_train.shape"
   ]
  },
  {
   "cell_type": "code",
   "execution_count": 12,
   "id": "19cb02bc",
   "metadata": {
    "execution": {
     "iopub.execute_input": "2024-04-02T14:05:07.045367Z",
     "iopub.status.busy": "2024-04-02T14:05:07.045118Z",
     "iopub.status.idle": "2024-04-02T14:05:07.286330Z",
     "shell.execute_reply": "2024-04-02T14:05:07.285512Z"
    },
    "papermill": {
     "duration": 0.252416,
     "end_time": "2024-04-02T14:05:07.288298",
     "exception": false,
     "start_time": "2024-04-02T14:05:07.035882",
     "status": "completed"
    },
    "tags": []
   },
   "outputs": [
    {
     "data": {
      "image/png": "[encoded data removed]",
      "text/plain": [
       "<Figure size 640x480 with 1 Axes>"
      ]
     },
     "metadata": {},
     "output_type": "display_data"
    }
   ],
   "source": [
    "import matplotlib.pyplot as plt\n",
    "\n",
    "# 예시로 첫 번째 이미지를 출력해봅시다.\n",
    "image_index = 0\n",
    "image = X_train[image_index, 0]  # 42000개 중 첫 번째 이미지 선택, 채널 차원 제거\n",
    "plt.imshow(image, cmap='gray')  # 흑백 이미지로 표시\n",
    "plt.show()\n"
   ]
  },
  {
   "cell_type": "code",
   "execution_count": 13,
   "id": "d362a910",
   "metadata": {
    "execution": {
     "iopub.execute_input": "2024-04-02T14:05:07.307049Z",
     "iopub.status.busy": "2024-04-02T14:05:07.306772Z",
     "iopub.status.idle": "2024-04-02T14:05:07.701593Z",
     "shell.execute_reply": "2024-04-02T14:05:07.700808Z"
    },
    "papermill": {
     "duration": 0.406795,
     "end_time": "2024-04-02T14:05:07.704060",
     "exception": false,
     "start_time": "2024-04-02T14:05:07.297265",
     "status": "completed"
    },
    "tags": []
   },
   "outputs": [],
   "source": [
    "X_train, X_val, y_train, y_val = train_test_split(X_train, y_train, test_size = 0.2, shuffle=True)"
   ]
  },
  {
   "cell_type": "code",
   "execution_count": 14,
   "id": "820d1984",
   "metadata": {
    "execution": {
     "iopub.execute_input": "2024-04-02T14:05:07.724192Z",
     "iopub.status.busy": "2024-04-02T14:05:07.723857Z",
     "iopub.status.idle": "2024-04-02T14:05:07.729634Z",
     "shell.execute_reply": "2024-04-02T14:05:07.728775Z"
    },
    "papermill": {
     "duration": 0.018138,
     "end_time": "2024-04-02T14:05:07.731470",
     "exception": false,
     "start_time": "2024-04-02T14:05:07.713332",
     "status": "completed"
    },
    "tags": []
   },
   "outputs": [
    {
     "data": {
      "text/plain": [
       "(33600, 1, 28, 28)"
      ]
     },
     "execution_count": 14,
     "metadata": {},
     "output_type": "execute_result"
    }
   ],
   "source": [
    "X_train.shape"
   ]
  },
  {
   "cell_type": "code",
   "execution_count": 15,
   "id": "fb648c59",
   "metadata": {
    "execution": {
     "iopub.execute_input": "2024-04-02T14:05:07.750880Z",
     "iopub.status.busy": "2024-04-02T14:05:07.750218Z",
     "iopub.status.idle": "2024-04-02T14:05:07.832026Z",
     "shell.execute_reply": "2024-04-02T14:05:07.831065Z"
    },
    "papermill": {
     "duration": 0.093755,
     "end_time": "2024-04-02T14:05:07.834313",
     "exception": false,
     "start_time": "2024-04-02T14:05:07.740558",
     "status": "completed"
    },
    "tags": []
   },
   "outputs": [],
   "source": [
    "X_train = torch.tensor(X_train, dtype=torch.float32)  \n",
    "y_train = torch.tensor(y_train, dtype=torch.long)     \n",
    "X_val = torch.tensor(X_val, dtype=torch.float32)     \n",
    "y_val = torch.tensor(y_val, dtype=torch.long)         \n"
   ]
  },
  {
   "cell_type": "code",
   "execution_count": 16,
   "id": "a9b9f7b9",
   "metadata": {
    "execution": {
     "iopub.execute_input": "2024-04-02T14:05:07.854963Z",
     "iopub.status.busy": "2024-04-02T14:05:07.854669Z",
     "iopub.status.idle": "2024-04-02T14:05:07.860795Z",
     "shell.execute_reply": "2024-04-02T14:05:07.859989Z"
    },
    "papermill": {
     "duration": 0.017616,
     "end_time": "2024-04-02T14:05:07.862585",
     "exception": false,
     "start_time": "2024-04-02T14:05:07.844969",
     "status": "completed"
    },
    "tags": []
   },
   "outputs": [],
   "source": [
    "train_dataset=TensorDataset(X_train, y_train)\n",
    "train_batches=DataLoader(train_dataset,batch_size=128,shuffle=True)\n",
    "\n",
    "val_dataset=TensorDataset(X_val, y_val)\n",
    "val_batches=DataLoader(val_dataset,batch_size=128, shuffle=True)"
   ]
  },
  {
   "cell_type": "code",
   "execution_count": 17,
   "id": "61c4859a",
   "metadata": {
    "execution": {
     "iopub.execute_input": "2024-04-02T14:05:07.881510Z",
     "iopub.status.busy": "2024-04-02T14:05:07.881253Z",
     "iopub.status.idle": "2024-04-02T14:05:07.886383Z",
     "shell.execute_reply": "2024-04-02T14:05:07.885571Z"
    },
    "papermill": {
     "duration": 0.016722,
     "end_time": "2024-04-02T14:05:07.888253",
     "exception": false,
     "start_time": "2024-04-02T14:05:07.871531",
     "status": "completed"
    },
    "tags": []
   },
   "outputs": [
    {
     "data": {
      "text/plain": [
       "torch.Size([33600, 1, 28, 28])"
      ]
     },
     "execution_count": 17,
     "metadata": {},
     "output_type": "execute_result"
    }
   ],
   "source": [
    "X_train.shape"
   ]
  },
  {
   "cell_type": "code",
   "execution_count": 18,
   "id": "a98d3883",
   "metadata": {
    "execution": {
     "iopub.execute_input": "2024-04-02T14:05:07.907476Z",
     "iopub.status.busy": "2024-04-02T14:05:07.907224Z",
     "iopub.status.idle": "2024-04-02T14:05:10.983457Z",
     "shell.execute_reply": "2024-04-02T14:05:10.982273Z"
    },
    "papermill": {
     "duration": 3.0881,
     "end_time": "2024-04-02T14:05:10.985512",
     "exception": false,
     "start_time": "2024-04-02T14:05:07.897412",
     "status": "completed"
    },
    "tags": []
   },
   "outputs": [
    {
     "name": "stdout",
     "output_type": "stream",
     "text": [
      "torch.Size([33600, 32, 28, 28])\n"
     ]
    }
   ],
   "source": [
    "m=nn.Conv2d(1,32,kernel_size=3,stride=1,padding=1,bias=False)\n",
    "print(m(X_train).shape)\n"
   ]
  },
  {
   "cell_type": "code",
   "execution_count": 19,
   "id": "955710f7",
   "metadata": {
    "execution": {
     "iopub.execute_input": "2024-04-02T14:05:11.005694Z",
     "iopub.status.busy": "2024-04-02T14:05:11.005084Z",
     "iopub.status.idle": "2024-04-02T14:05:11.014735Z",
     "shell.execute_reply": "2024-04-02T14:05:11.013879Z"
    },
    "papermill": {
     "duration": 0.021611,
     "end_time": "2024-04-02T14:05:11.016583",
     "exception": false,
     "start_time": "2024-04-02T14:05:10.994972",
     "status": "completed"
    },
    "tags": []
   },
   "outputs": [],
   "source": [
    "class CNNModel(nn.Module):\n",
    "        \n",
    "    def __init__(self):\n",
    "        super().__init__()\n",
    "        \n",
    "        self.conv_layers = nn.Sequential(\n",
    "            \n",
    "            nn.Conv2d(1, 32, kernel_size=3, stride=1, padding=1, bias=False),\n",
    "            nn.LeakyReLU(0.1),\n",
    "            nn.BatchNorm2d(32),            \n",
    "            nn.AvgPool2d(2),\n",
    "                \n",
    "            nn.Conv2d(32, 64, kernel_size=3, stride=1, padding=1, bias=False),\n",
    "            nn.LeakyReLU(0.1),\n",
    "            nn.BatchNorm2d(64),            \n",
    "            nn.AvgPool2d(2),\n",
    "               \n",
    "            nn.Conv2d(64, 128, kernel_size=3, stride=1, padding=1, bias=False),\n",
    "            nn.LeakyReLU(0.1),\n",
    "            nn.BatchNorm2d(128),            \n",
    "            nn.AvgPool2d(2)\n",
    "        )\n",
    "            \n",
    "        self.linear_layers = nn.Sequential(\n",
    "            nn.Linear(128*3*3, 64),\n",
    "            nn.LeakyReLU(0.1),\n",
    "            nn.BatchNorm1d(64),\n",
    "                \n",
    "            nn.Linear(64, 32),\n",
    "            nn.LeakyReLU(0.1),\n",
    "            nn.BatchNorm1d(32),\n",
    "                \n",
    "            nn.Linear(32, 10), \n",
    "            nn.LeakyReLU(0.1),\n",
    "            nn.Softmax(dim=1)  \n",
    "        )\n",
    "        \n",
    "    def forward(self, x):\n",
    "        x = self.conv_layers(x)\n",
    "        x = x.view(x.size(0), -1)  \n",
    "        x = self.linear_layers(x)\n",
    "        return x\n"
   ]
  },
  {
   "cell_type": "code",
   "execution_count": 20,
   "id": "b71e0f52",
   "metadata": {
    "execution": {
     "iopub.execute_input": "2024-04-02T14:05:11.036412Z",
     "iopub.status.busy": "2024-04-02T14:05:11.035690Z",
     "iopub.status.idle": "2024-04-02T14:05:11.198989Z",
     "shell.execute_reply": "2024-04-02T14:05:11.198187Z"
    },
    "papermill": {
     "duration": 0.175218,
     "end_time": "2024-04-02T14:05:11.201148",
     "exception": false,
     "start_time": "2024-04-02T14:05:11.025930",
     "status": "completed"
    },
    "tags": []
   },
   "outputs": [],
   "source": [
    "model=CNNModel().to(device)\n",
    "minibatch_size=128\n",
    "optimizer= torch.optim.Adam(model.parameters())\n",
    "loss_func=nn.CrossEntropyLoss()\n",
    "\n",
    "nb_epochs=50\n",
    "early_stop=10\n",
    "progress_interval=5"
   ]
  },
  {
   "cell_type": "code",
   "execution_count": 21,
   "id": "a3e233f6",
   "metadata": {
    "execution": {
     "iopub.execute_input": "2024-04-02T14:05:11.221047Z",
     "iopub.status.busy": "2024-04-02T14:05:11.220480Z",
     "iopub.status.idle": "2024-04-02T14:05:11.231051Z",
     "shell.execute_reply": "2024-04-02T14:05:11.230204Z"
    },
    "papermill": {
     "duration": 0.022471,
     "end_time": "2024-04-02T14:05:11.232906",
     "exception": false,
     "start_time": "2024-04-02T14:05:11.210435",
     "status": "completed"
    },
    "tags": []
   },
   "outputs": [],
   "source": [
    "def train_model(model, early_stop, n_epochs, progress_interval):\n",
    "    \n",
    "    train_losses, valid_losses, lowest_loss = list(), list(), np.inf\n",
    "\n",
    "   \n",
    "    for epoch in range(n_epochs):\n",
    "        \n",
    "        train_loss, valid_loss = 0, 0\n",
    "        \n",
    "        model.train()\n",
    "        \n",
    "        for x_minibatch, y_minibatch in train_batches:\n",
    "            x_minibatch = x_minibatch.to(device)\n",
    "            y_minibatch = y_minibatch.to(device)\n",
    "            y_minibatch_pred = model(x_minibatch)\n",
    "            loss = loss_func(y_minibatch_pred, y_minibatch)\n",
    "\n",
    "            optimizer.zero_grad()\n",
    "            loss.backward()\n",
    "            optimizer.step()\n",
    "            train_loss += loss.item()\n",
    "        \n",
    "        train_loss = train_loss / len(train_batches)\n",
    "        train_losses.append(train_loss)      \n",
    "        \n",
    "    \n",
    "        model.eval()\n",
    "        with torch.no_grad():\n",
    "            for x_minibatch, y_minibatch in val_batches:\n",
    "                x_minibatch = x_minibatch.to(device)\n",
    "                y_minibatch = y_minibatch.to(device)\n",
    "                y_minibatch_pred = model(x_minibatch)\n",
    "                loss = loss_func(y_minibatch_pred, y_minibatch)\n",
    "                valid_loss += loss.item()\n",
    "                \n",
    "        valid_loss = valid_loss / len(val_batches)\n",
    "        valid_losses.append(valid_loss)\n",
    "\n",
    "        if valid_losses[-1] < lowest_loss:\n",
    "            lowest_loss = valid_losses[-1]\n",
    "            lowest_epoch = epoch\n",
    "            best_model = deepcopy(model.state_dict())\n",
    "        else:\n",
    "            if (early_stop > 0) and lowest_epoch + early_stop < epoch:\n",
    "                print (\"Early Stopped\", epoch, \"epochs\")\n",
    "                break\n",
    "                \n",
    "        if (epoch % progress_interval) == 0:\n",
    "            print (train_losses[-1], valid_losses[-1], lowest_loss, lowest_epoch, epoch)\n",
    "            \n",
    "    model.load_state_dict(best_model)        \n",
    "    return model, lowest_loss, train_losses, valid_losses"
   ]
  },
  {
   "cell_type": "code",
   "execution_count": 22,
   "id": "545aa4ae",
   "metadata": {
    "execution": {
     "iopub.execute_input": "2024-04-02T14:05:11.251863Z",
     "iopub.status.busy": "2024-04-02T14:05:11.251589Z",
     "iopub.status.idle": "2024-04-02T14:05:55.940389Z",
     "shell.execute_reply": "2024-04-02T14:05:55.939352Z"
    },
    "papermill": {
     "duration": 44.700879,
     "end_time": "2024-04-02T14:05:55.942788",
     "exception": false,
     "start_time": "2024-04-02T14:05:11.241909",
     "status": "completed"
    },
    "tags": []
   },
   "outputs": [
    {
     "name": "stdout",
     "output_type": "stream",
     "text": [
      "1.5928195578970383 1.491800925948403 1.491800925948403 0 0\n",
      "1.4688519180500916 1.4724505001848394 1.4724505001848394 5 5\n",
      "1.4654899241806436 1.4731055841301426 1.4714301174337214 8 10\n",
      "1.4643476575952972 1.4693010973207878 1.4686320080901638 14 15\n",
      "1.4637160700083685 1.4699568567853984 1.4686320080901638 14 20\n",
      "Early Stopped 25 epochs\n"
     ]
    }
   ],
   "source": [
    "model, lowest_loss, trian_loss, valid_loss = train_model(model,early_stop,nb_epochs,progress_interval)"
   ]
  },
  {
   "cell_type": "code",
   "execution_count": 23,
   "id": "ad34251b",
   "metadata": {
    "execution": {
     "iopub.execute_input": "2024-04-02T14:05:55.964243Z",
     "iopub.status.busy": "2024-04-02T14:05:55.963473Z",
     "iopub.status.idle": "2024-04-02T14:05:56.024485Z",
     "shell.execute_reply": "2024-04-02T14:05:56.023503Z"
    },
    "papermill": {
     "duration": 0.073863,
     "end_time": "2024-04-02T14:05:56.026764",
     "exception": false,
     "start_time": "2024-04-02T14:05:55.952901",
     "status": "completed"
    },
    "tags": []
   },
   "outputs": [],
   "source": [
    "X_test=X_test.reshape(-1,1,28,28)\n",
    "X_test=torch.tensor(X_test, dtype=torch.float32)\n",
    "test_batches=DataLoader(X_test,batch_size=minibatch_size,shuffle=True)"
   ]
  },
  {
   "cell_type": "code",
   "execution_count": 24,
   "id": "3ff994bb",
   "metadata": {
    "execution": {
     "iopub.execute_input": "2024-04-02T14:05:56.048548Z",
     "iopub.status.busy": "2024-04-02T14:05:56.048250Z",
     "iopub.status.idle": "2024-04-02T14:05:57.109821Z",
     "shell.execute_reply": "2024-04-02T14:05:57.108805Z"
    },
    "papermill": {
     "duration": 1.074192,
     "end_time": "2024-04-02T14:05:57.112196",
     "exception": false,
     "start_time": "2024-04-02T14:05:56.038004",
     "status": "completed"
    },
    "tags": []
   },
   "outputs": [],
   "source": [
    "model.eval()\n",
    "all_pred=[]\n",
    "with torch.no_grad():\n",
    "    for x_minibatch in test_batches:\n",
    "        x_minibatch=x_minibatch.to(device)\n",
    "        y_test_pred = model(x_minibatch)\n",
    "        all_pred.append(y_test_pred)\n",
    "y_test_pred = torch.cat(all_pred, dim=0)"
   ]
  },
  {
   "cell_type": "code",
   "execution_count": 25,
   "id": "b70007ba",
   "metadata": {
    "execution": {
     "iopub.execute_input": "2024-04-02T14:05:57.132966Z",
     "iopub.status.busy": "2024-04-02T14:05:57.132656Z",
     "iopub.status.idle": "2024-04-02T14:05:57.138262Z",
     "shell.execute_reply": "2024-04-02T14:05:57.137363Z"
    },
    "papermill": {
     "duration": 0.017975,
     "end_time": "2024-04-02T14:05:57.140134",
     "exception": false,
     "start_time": "2024-04-02T14:05:57.122159",
     "status": "completed"
    },
    "tags": []
   },
   "outputs": [
    {
     "data": {
      "text/plain": [
       "torch.Size([42000, 10])"
      ]
     },
     "execution_count": 25,
     "metadata": {},
     "output_type": "execute_result"
    }
   ],
   "source": [
    "y_test_pred.shape"
   ]
  },
  {
   "cell_type": "code",
   "execution_count": 26,
   "id": "48f2ad92",
   "metadata": {
    "execution": {
     "iopub.execute_input": "2024-04-02T14:05:57.160138Z",
     "iopub.status.busy": "2024-04-02T14:05:57.159877Z",
     "iopub.status.idle": "2024-04-02T14:05:57.179624Z",
     "shell.execute_reply": "2024-04-02T14:05:57.178762Z"
    },
    "papermill": {
     "duration": 0.031983,
     "end_time": "2024-04-02T14:05:57.181621",
     "exception": false,
     "start_time": "2024-04-02T14:05:57.149638",
     "status": "completed"
    },
    "tags": []
   },
   "outputs": [
    {
     "data": {
      "text/plain": [
       "tensor([7, 5, 4,  ..., 2, 1, 3], device='cuda:0')"
      ]
     },
     "metadata": {},
     "output_type": "display_data"
    }
   ],
   "source": [
    "predicted_labels = torch.argmax(y_test_pred, dim=1)\n",
    "display(predicted_labels)"
   ]
  },
  {
   "cell_type": "code",
   "execution_count": 27,
   "id": "3df558c7",
   "metadata": {
    "execution": {
     "iopub.execute_input": "2024-04-02T14:05:57.202390Z",
     "iopub.status.busy": "2024-04-02T14:05:57.202113Z",
     "iopub.status.idle": "2024-04-02T14:05:57.254768Z",
     "shell.execute_reply": "2024-04-02T14:05:57.253905Z"
    },
    "papermill": {
     "duration": 0.065204,
     "end_time": "2024-04-02T14:05:57.256616",
     "exception": false,
     "start_time": "2024-04-02T14:05:57.191412",
     "status": "completed"
    },
    "tags": []
   },
   "outputs": [],
   "source": [
    "predicted_labels_numpy = predicted_labels.cpu().numpy()  # PyTorch 텐서를 NumPy 배열로 변환\n",
    "\n",
    "submission_df = pd.DataFrame({'ImageId': range(1, len(predicted_labels_numpy) + 1),\n",
    "                              'Label': predicted_labels_numpy})\n",
    "\n",
    "submission_df.to_csv(\"submission.csv\", index=False)"
   ]
  },
  {
   "cell_type": "code",
   "execution_count": 28,
   "id": "66d1bef8",
   "metadata": {
    "execution": {
     "iopub.execute_input": "2024-04-02T14:05:57.277227Z",
     "iopub.status.busy": "2024-04-02T14:05:57.276954Z",
     "iopub.status.idle": "2024-04-02T14:05:57.293980Z",
     "shell.execute_reply": "2024-04-02T14:05:57.293148Z"
    },
    "papermill": {
     "duration": 0.029305,
     "end_time": "2024-04-02T14:05:57.295900",
     "exception": false,
     "start_time": "2024-04-02T14:05:57.266595",
     "status": "completed"
    },
    "tags": []
   },
   "outputs": [
    {
     "data": {
      "text/html": [
       "<div>\n",
       "<style scoped>\n",
       "    .dataframe tbody tr th:only-of-type {\n",
       "        vertical-align: middle;\n",
       "    }\n",
       "\n",
       "    .dataframe tbody tr th {\n",
       "        vertical-align: top;\n",
       "    }\n",
       "\n",
       "    .dataframe thead th {\n",
       "        text-align: right;\n",
       "    }\n",
       "</style>\n",
       "<table border=\"1\" class=\"dataframe\">\n",
       "  <thead>\n",
       "    <tr style=\"text-align: right;\">\n",
       "      <th></th>\n",
       "      <th>ImageId</th>\n",
       "      <th>Label</th>\n",
       "    </tr>\n",
       "  </thead>\n",
       "  <tbody>\n",
       "    <tr>\n",
       "      <th>0</th>\n",
       "      <td>1</td>\n",
       "      <td>7</td>\n",
       "    </tr>\n",
       "    <tr>\n",
       "      <th>1</th>\n",
       "      <td>2</td>\n",
       "      <td>5</td>\n",
       "    </tr>\n",
       "    <tr>\n",
       "      <th>2</th>\n",
       "      <td>3</td>\n",
       "      <td>4</td>\n",
       "    </tr>\n",
       "    <tr>\n",
       "      <th>3</th>\n",
       "      <td>4</td>\n",
       "      <td>0</td>\n",
       "    </tr>\n",
       "    <tr>\n",
       "      <th>4</th>\n",
       "      <td>5</td>\n",
       "      <td>3</td>\n",
       "    </tr>\n",
       "    <tr>\n",
       "      <th>...</th>\n",
       "      <td>...</td>\n",
       "      <td>...</td>\n",
       "    </tr>\n",
       "    <tr>\n",
       "      <th>41995</th>\n",
       "      <td>41996</td>\n",
       "      <td>3</td>\n",
       "    </tr>\n",
       "    <tr>\n",
       "      <th>41996</th>\n",
       "      <td>41997</td>\n",
       "      <td>5</td>\n",
       "    </tr>\n",
       "    <tr>\n",
       "      <th>41997</th>\n",
       "      <td>41998</td>\n",
       "      <td>2</td>\n",
       "    </tr>\n",
       "    <tr>\n",
       "      <th>41998</th>\n",
       "      <td>41999</td>\n",
       "      <td>1</td>\n",
       "    </tr>\n",
       "    <tr>\n",
       "      <th>41999</th>\n",
       "      <td>42000</td>\n",
       "      <td>3</td>\n",
       "    </tr>\n",
       "  </tbody>\n",
       "</table>\n",
       "<p>42000 rows × 2 columns</p>\n",
       "</div>"
      ],
      "text/plain": [
       "       ImageId  Label\n",
       "0            1      7\n",
       "1            2      5\n",
       "2            3      4\n",
       "3            4      0\n",
       "4            5      3\n",
       "...        ...    ...\n",
       "41995    41996      3\n",
       "41996    41997      5\n",
       "41997    41998      2\n",
       "41998    41999      1\n",
       "41999    42000      3\n",
       "\n",
       "[42000 rows x 2 columns]"
      ]
     },
     "metadata": {},
     "output_type": "display_data"
    }
   ],
   "source": [
    "pds=pd.read_csv(\"/kaggle/working/submission.csv\")\n",
    "display(pds)"
   ]
  }
 ],
 "metadata": {
  "kaggle": {
   "accelerator": "gpu",
   "dataSources": [
    {
     "databundleVersionId": 861823,
     "sourceId": 3004,
     "sourceType": "competition"
    }
   ],
   "dockerImageVersionId": 30673,
   "isGpuEnabled": true,
   "isInternetEnabled": true,
   "language": "python",
   "sourceType": "notebook"
  },
  "kernelspec": {
   "display_name": "Python 3",
   "language": "python",
   "name": "python3"
  },
  "language_info": {
   "codemirror_mode": {
    "name": "ipython",
    "version": 3
   },
   "file_extension": ".py",
   "mimetype": "text/x-python",
   "name": "python",
   "nbconvert_exporter": "python",
   "pygments_lexer": "ipython3",
   "version": "3.10.13"
  },
  "papermill": {
   "default_parameters": {},
   "duration": 70.194257,
   "end_time": "2024-04-02T14:05:59.902841",
   "environment_variables": {},
   "exception": null,
   "input_path": "__notebook__.ipynb",
   "output_path": "__notebook__.ipynb",
   "parameters": {},
   "start_time": "2024-04-02T14:04:49.708584",
   "version": "2.5.0"
  }
 },
 "nbformat": 4,
 "nbformat_minor": 5
}
