{
 "cells": [
  {
   "cell_type": "code",
   "execution_count": 1,
   "id": "869ed8d7",
   "metadata": {
    "_cell_guid": "b1076dfc-b9ad-4769-8c92-a6c4dae69d19",
    "_uuid": "8f2839f25d086af736a60e9eeb907d3b93b6e0e5",
    "execution": {
     "iopub.execute_input": "2024-04-05T05:57:48.147089Z",
     "iopub.status.busy": "2024-04-05T05:57:48.146757Z",
     "iopub.status.idle": "2024-04-05T05:57:48.852413Z",
     "shell.execute_reply": "2024-04-05T05:57:48.851395Z"
    },
    "papermill": {
     "duration": 0.718109,
     "end_time": "2024-04-05T05:57:48.854555",
     "exception": false,
     "start_time": "2024-04-05T05:57:48.136446",
     "status": "completed"
    },
    "tags": []
   },
   "outputs": [
    {
     "name": "stdout",
     "output_type": "stream",
     "text": [
      "/kaggle/input/digit-recognizer/sample_submission.csv\n",
      "/kaggle/input/digit-recognizer/train.csv\n",
      "/kaggle/input/digit-recognizer/test.csv\n"
     ]
    }
   ],
   "source": [
    "import numpy as np \n",
    "import pandas as pd \n",
    "import os\n",
    "for dirname, _, filenames in os.walk('/kaggle/input'):\n",
    "    for filename in filenames:\n",
    "        print(os.path.join(dirname, filename))"
   ]
  },
  {
   "cell_type": "code",
   "execution_count": 2,
   "id": "0a57f22a",
   "metadata": {
    "execution": {
     "iopub.execute_input": "2024-04-05T05:57:48.873548Z",
     "iopub.status.busy": "2024-04-05T05:57:48.873180Z",
     "iopub.status.idle": "2024-04-05T05:57:56.174036Z",
     "shell.execute_reply": "2024-04-05T05:57:56.173062Z"
    },
    "papermill": {
     "duration": 7.312945,
     "end_time": "2024-04-05T05:57:56.176472",
     "exception": false,
     "start_time": "2024-04-05T05:57:48.863527",
     "status": "completed"
    },
    "tags": []
   },
   "outputs": [],
   "source": [
    "import torch\n",
    "import torch.nn as nn\n",
    "from torch.utils.data import DataLoader, Subset\n",
    "from torchvision import datasets, transforms\n",
    "from sklearn.model_selection import train_test_split\n",
    "import numpy as np\n",
    "from copy import deepcopy # 모델 파라미터값 깊은 복사 (베스트 모델 저장을 위함)\n",
    "from torch.utils.data import TensorDataset"
   ]
  },
  {
   "cell_type": "code",
   "execution_count": 3,
   "id": "ed6335e3",
   "metadata": {
    "execution": {
     "iopub.execute_input": "2024-04-05T05:57:56.195699Z",
     "iopub.status.busy": "2024-04-05T05:57:56.195263Z",
     "iopub.status.idle": "2024-04-05T05:57:56.253812Z",
     "shell.execute_reply": "2024-04-05T05:57:56.253033Z"
    },
    "papermill": {
     "duration": 0.070422,
     "end_time": "2024-04-05T05:57:56.255852",
     "exception": false,
     "start_time": "2024-04-05T05:57:56.185430",
     "status": "completed"
    },
    "tags": []
   },
   "outputs": [],
   "source": [
    "device = torch.device(\"cuda\" if torch.cuda.is_available() else \"cpu\")"
   ]
  },
  {
   "cell_type": "code",
   "execution_count": 4,
   "id": "e7387a5c",
   "metadata": {
    "execution": {
     "iopub.execute_input": "2024-04-05T05:57:56.274627Z",
     "iopub.status.busy": "2024-04-05T05:57:56.273957Z",
     "iopub.status.idle": "2024-04-05T05:58:02.028959Z",
     "shell.execute_reply": "2024-04-05T05:58:02.028014Z"
    },
    "papermill": {
     "duration": 5.766798,
     "end_time": "2024-04-05T05:58:02.031433",
     "exception": false,
     "start_time": "2024-04-05T05:57:56.264635",
     "status": "completed"
    },
    "tags": []
   },
   "outputs": [],
   "source": [
    "train= pd.read_csv(\"/kaggle/input/digit-recognizer/train.csv\")\n",
    "test=pd.read_csv(\"/kaggle/input/digit-recognizer/test.csv\")"
   ]
  },
  {
   "cell_type": "code",
   "execution_count": 5,
   "id": "e205cde1",
   "metadata": {
    "execution": {
     "iopub.execute_input": "2024-04-05T05:58:02.050410Z",
     "iopub.status.busy": "2024-04-05T05:58:02.049877Z",
     "iopub.status.idle": "2024-04-05T05:58:02.078384Z",
     "shell.execute_reply": "2024-04-05T05:58:02.077454Z"
    },
    "papermill": {
     "duration": 0.039887,
     "end_time": "2024-04-05T05:58:02.080267",
     "exception": false,
     "start_time": "2024-04-05T05:58:02.040380",
     "status": "completed"
    },
    "tags": []
   },
   "outputs": [
    {
     "data": {
      "text/html": [
       "<div>\n",
       "<style scoped>\n",
       "    .dataframe tbody tr th:only-of-type {\n",
       "        vertical-align: middle;\n",
       "    }\n",
       "\n",
       "    .dataframe tbody tr th {\n",
       "        vertical-align: top;\n",
       "    }\n",
       "\n",
       "    .dataframe thead th {\n",
       "        text-align: right;\n",
       "    }\n",
       "</style>\n",
       "<table border=\"1\" class=\"dataframe\">\n",
       "  <thead>\n",
       "    <tr style=\"text-align: right;\">\n",
       "      <th></th>\n",
       "      <th>label</th>\n",
       "      <th>pixel0</th>\n",
       "      <th>pixel1</th>\n",
       "      <th>pixel2</th>\n",
       "      <th>pixel3</th>\n",
       "      <th>pixel4</th>\n",
       "      <th>pixel5</th>\n",
       "      <th>pixel6</th>\n",
       "      <th>pixel7</th>\n",
       "      <th>pixel8</th>\n",
       "      <th>...</th>\n",
       "      <th>pixel774</th>\n",
       "      <th>pixel775</th>\n",
       "      <th>pixel776</th>\n",
       "      <th>pixel777</th>\n",
       "      <th>pixel778</th>\n",
       "      <th>pixel779</th>\n",
       "      <th>pixel780</th>\n",
       "      <th>pixel781</th>\n",
       "      <th>pixel782</th>\n",
       "      <th>pixel783</th>\n",
       "    </tr>\n",
       "  </thead>\n",
       "  <tbody>\n",
       "    <tr>\n",
       "      <th>0</th>\n",
       "      <td>1</td>\n",
       "      <td>0</td>\n",
       "      <td>0</td>\n",
       "      <td>0</td>\n",
       "      <td>0</td>\n",
       "      <td>0</td>\n",
       "      <td>0</td>\n",
       "      <td>0</td>\n",
       "      <td>0</td>\n",
       "      <td>0</td>\n",
       "      <td>...</td>\n",
       "      <td>0</td>\n",
       "      <td>0</td>\n",
       "      <td>0</td>\n",
       "      <td>0</td>\n",
       "      <td>0</td>\n",
       "      <td>0</td>\n",
       "      <td>0</td>\n",
       "      <td>0</td>\n",
       "      <td>0</td>\n",
       "      <td>0</td>\n",
       "    </tr>\n",
       "    <tr>\n",
       "      <th>1</th>\n",
       "      <td>0</td>\n",
       "      <td>0</td>\n",
       "      <td>0</td>\n",
       "      <td>0</td>\n",
       "      <td>0</td>\n",
       "      <td>0</td>\n",
       "      <td>0</td>\n",
       "      <td>0</td>\n",
       "      <td>0</td>\n",
       "      <td>0</td>\n",
       "      <td>...</td>\n",
       "      <td>0</td>\n",
       "      <td>0</td>\n",
       "      <td>0</td>\n",
       "      <td>0</td>\n",
       "      <td>0</td>\n",
       "      <td>0</td>\n",
       "      <td>0</td>\n",
       "      <td>0</td>\n",
       "      <td>0</td>\n",
       "      <td>0</td>\n",
       "    </tr>\n",
       "    <tr>\n",
       "      <th>2</th>\n",
       "      <td>1</td>\n",
       "      <td>0</td>\n",
       "      <td>0</td>\n",
       "      <td>0</td>\n",
       "      <td>0</td>\n",
       "      <td>0</td>\n",
       "      <td>0</td>\n",
       "      <td>0</td>\n",
       "      <td>0</td>\n",
       "      <td>0</td>\n",
       "      <td>...</td>\n",
       "      <td>0</td>\n",
       "      <td>0</td>\n",
       "      <td>0</td>\n",
       "      <td>0</td>\n",
       "      <td>0</td>\n",
       "      <td>0</td>\n",
       "      <td>0</td>\n",
       "      <td>0</td>\n",
       "      <td>0</td>\n",
       "      <td>0</td>\n",
       "    </tr>\n",
       "    <tr>\n",
       "      <th>3</th>\n",
       "      <td>4</td>\n",
       "      <td>0</td>\n",
       "      <td>0</td>\n",
       "      <td>0</td>\n",
       "      <td>0</td>\n",
       "      <td>0</td>\n",
       "      <td>0</td>\n",
       "      <td>0</td>\n",
       "      <td>0</td>\n",
       "      <td>0</td>\n",
       "      <td>...</td>\n",
       "      <td>0</td>\n",
       "      <td>0</td>\n",
       "      <td>0</td>\n",
       "      <td>0</td>\n",
       "      <td>0</td>\n",
       "      <td>0</td>\n",
       "      <td>0</td>\n",
       "      <td>0</td>\n",
       "      <td>0</td>\n",
       "      <td>0</td>\n",
       "    </tr>\n",
       "    <tr>\n",
       "      <th>4</th>\n",
       "      <td>0</td>\n",
       "      <td>0</td>\n",
       "      <td>0</td>\n",
       "      <td>0</td>\n",
       "      <td>0</td>\n",
       "      <td>0</td>\n",
       "      <td>0</td>\n",
       "      <td>0</td>\n",
       "      <td>0</td>\n",
       "      <td>0</td>\n",
       "      <td>...</td>\n",
       "      <td>0</td>\n",
       "      <td>0</td>\n",
       "      <td>0</td>\n",
       "      <td>0</td>\n",
       "      <td>0</td>\n",
       "      <td>0</td>\n",
       "      <td>0</td>\n",
       "      <td>0</td>\n",
       "      <td>0</td>\n",
       "      <td>0</td>\n",
       "    </tr>\n",
       "    <tr>\n",
       "      <th>...</th>\n",
       "      <td>...</td>\n",
       "      <td>...</td>\n",
       "      <td>...</td>\n",
       "      <td>...</td>\n",
       "      <td>...</td>\n",
       "      <td>...</td>\n",
       "      <td>...</td>\n",
       "      <td>...</td>\n",
       "      <td>...</td>\n",
       "      <td>...</td>\n",
       "      <td>...</td>\n",
       "      <td>...</td>\n",
       "      <td>...</td>\n",
       "      <td>...</td>\n",
       "      <td>...</td>\n",
       "      <td>...</td>\n",
       "      <td>...</td>\n",
       "      <td>...</td>\n",
       "      <td>...</td>\n",
       "      <td>...</td>\n",
       "      <td>...</td>\n",
       "    </tr>\n",
       "    <tr>\n",
       "      <th>41995</th>\n",
       "      <td>0</td>\n",
       "      <td>0</td>\n",
       "      <td>0</td>\n",
       "      <td>0</td>\n",
       "      <td>0</td>\n",
       "      <td>0</td>\n",
       "      <td>0</td>\n",
       "      <td>0</td>\n",
       "      <td>0</td>\n",
       "      <td>0</td>\n",
       "      <td>...</td>\n",
       "      <td>0</td>\n",
       "      <td>0</td>\n",
       "      <td>0</td>\n",
       "      <td>0</td>\n",
       "      <td>0</td>\n",
       "      <td>0</td>\n",
       "      <td>0</td>\n",
       "      <td>0</td>\n",
       "      <td>0</td>\n",
       "      <td>0</td>\n",
       "    </tr>\n",
       "    <tr>\n",
       "      <th>41996</th>\n",
       "      <td>1</td>\n",
       "      <td>0</td>\n",
       "      <td>0</td>\n",
       "      <td>0</td>\n",
       "      <td>0</td>\n",
       "      <td>0</td>\n",
       "      <td>0</td>\n",
       "      <td>0</td>\n",
       "      <td>0</td>\n",
       "      <td>0</td>\n",
       "      <td>...</td>\n",
       "      <td>0</td>\n",
       "      <td>0</td>\n",
       "      <td>0</td>\n",
       "      <td>0</td>\n",
       "      <td>0</td>\n",
       "      <td>0</td>\n",
       "      <td>0</td>\n",
       "      <td>0</td>\n",
       "      <td>0</td>\n",
       "      <td>0</td>\n",
       "    </tr>\n",
       "    <tr>\n",
       "      <th>41997</th>\n",
       "      <td>7</td>\n",
       "      <td>0</td>\n",
       "      <td>0</td>\n",
       "      <td>0</td>\n",
       "      <td>0</td>\n",
       "      <td>0</td>\n",
       "      <td>0</td>\n",
       "      <td>0</td>\n",
       "      <td>0</td>\n",
       "      <td>0</td>\n",
       "      <td>...</td>\n",
       "      <td>0</td>\n",
       "      <td>0</td>\n",
       "      <td>0</td>\n",
       "      <td>0</td>\n",
       "      <td>0</td>\n",
       "      <td>0</td>\n",
       "      <td>0</td>\n",
       "      <td>0</td>\n",
       "      <td>0</td>\n",
       "      <td>0</td>\n",
       "    </tr>\n",
       "    <tr>\n",
       "      <th>41998</th>\n",
       "      <td>6</td>\n",
       "      <td>0</td>\n",
       "      <td>0</td>\n",
       "      <td>0</td>\n",
       "      <td>0</td>\n",
       "      <td>0</td>\n",
       "      <td>0</td>\n",
       "      <td>0</td>\n",
       "      <td>0</td>\n",
       "      <td>0</td>\n",
       "      <td>...</td>\n",
       "      <td>0</td>\n",
       "      <td>0</td>\n",
       "      <td>0</td>\n",
       "      <td>0</td>\n",
       "      <td>0</td>\n",
       "      <td>0</td>\n",
       "      <td>0</td>\n",
       "      <td>0</td>\n",
       "      <td>0</td>\n",
       "      <td>0</td>\n",
       "    </tr>\n",
       "    <tr>\n",
       "      <th>41999</th>\n",
       "      <td>9</td>\n",
       "      <td>0</td>\n",
       "      <td>0</td>\n",
       "      <td>0</td>\n",
       "      <td>0</td>\n",
       "      <td>0</td>\n",
       "      <td>0</td>\n",
       "      <td>0</td>\n",
       "      <td>0</td>\n",
       "      <td>0</td>\n",
       "      <td>...</td>\n",
       "      <td>0</td>\n",
       "      <td>0</td>\n",
       "      <td>0</td>\n",
       "      <td>0</td>\n",
       "      <td>0</td>\n",
       "      <td>0</td>\n",
       "      <td>0</td>\n",
       "      <td>0</td>\n",
       "      <td>0</td>\n",
       "      <td>0</td>\n",
       "    </tr>\n",
       "  </tbody>\n",
       "</table>\n",
       "<p>42000 rows × 785 columns</p>\n",
       "</div>"
      ],
      "text/plain": [
       "       label  pixel0  pixel1  pixel2  pixel3  pixel4  pixel5  pixel6  pixel7  \\\n",
       "0          1       0       0       0       0       0       0       0       0   \n",
       "1          0       0       0       0       0       0       0       0       0   \n",
       "2          1       0       0       0       0       0       0       0       0   \n",
       "3          4       0       0       0       0       0       0       0       0   \n",
       "4          0       0       0       0       0       0       0       0       0   \n",
       "...      ...     ...     ...     ...     ...     ...     ...     ...     ...   \n",
       "41995      0       0       0       0       0       0       0       0       0   \n",
       "41996      1       0       0       0       0       0       0       0       0   \n",
       "41997      7       0       0       0       0       0       0       0       0   \n",
       "41998      6       0       0       0       0       0       0       0       0   \n",
       "41999      9       0       0       0       0       0       0       0       0   \n",
       "\n",
       "       pixel8  ...  pixel774  pixel775  pixel776  pixel777  pixel778  \\\n",
       "0           0  ...         0         0         0         0         0   \n",
       "1           0  ...         0         0         0         0         0   \n",
       "2           0  ...         0         0         0         0         0   \n",
       "3           0  ...         0         0         0         0         0   \n",
       "4           0  ...         0         0         0         0         0   \n",
       "...       ...  ...       ...       ...       ...       ...       ...   \n",
       "41995       0  ...         0         0         0         0         0   \n",
       "41996       0  ...         0         0         0         0         0   \n",
       "41997       0  ...         0         0         0         0         0   \n",
       "41998       0  ...         0         0         0         0         0   \n",
       "41999       0  ...         0         0         0         0         0   \n",
       "\n",
       "       pixel779  pixel780  pixel781  pixel782  pixel783  \n",
       "0             0         0         0         0         0  \n",
       "1             0         0         0         0         0  \n",
       "2             0         0         0         0         0  \n",
       "3             0         0         0         0         0  \n",
       "4             0         0         0         0         0  \n",
       "...         ...       ...       ...       ...       ...  \n",
       "41995         0         0         0         0         0  \n",
       "41996         0         0         0         0         0  \n",
       "41997         0         0         0         0         0  \n",
       "41998         0         0         0         0         0  \n",
       "41999         0         0         0         0         0  \n",
       "\n",
       "[42000 rows x 785 columns]"
      ]
     },
     "metadata": {},
     "output_type": "display_data"
    }
   ],
   "source": [
    "display(train)"
   ]
  },
  {
   "cell_type": "code",
   "execution_count": 6,
   "id": "cc915407",
   "metadata": {
    "execution": {
     "iopub.execute_input": "2024-04-05T05:58:02.100493Z",
     "iopub.status.busy": "2024-04-05T05:58:02.100231Z",
     "iopub.status.idle": "2024-04-05T05:58:02.106477Z",
     "shell.execute_reply": "2024-04-05T05:58:02.104732Z"
    },
    "papermill": {
     "duration": 0.018585,
     "end_time": "2024-04-05T05:58:02.108977",
     "exception": false,
     "start_time": "2024-04-05T05:58:02.090392",
     "status": "completed"
    },
    "tags": []
   },
   "outputs": [
    {
     "data": {
      "text/plain": [
       "(42000, 785)"
      ]
     },
     "execution_count": 6,
     "metadata": {},
     "output_type": "execute_result"
    }
   ],
   "source": [
    "train.shape"
   ]
  },
  {
   "cell_type": "code",
   "execution_count": 7,
   "id": "a504a0c1",
   "metadata": {
    "execution": {
     "iopub.execute_input": "2024-04-05T05:58:02.128394Z",
     "iopub.status.busy": "2024-04-05T05:58:02.128123Z",
     "iopub.status.idle": "2024-04-05T05:58:02.277542Z",
     "shell.execute_reply": "2024-04-05T05:58:02.276735Z"
    },
    "papermill": {
     "duration": 0.161995,
     "end_time": "2024-04-05T05:58:02.280206",
     "exception": false,
     "start_time": "2024-04-05T05:58:02.118211",
     "status": "completed"
    },
    "tags": []
   },
   "outputs": [],
   "source": [
    "X_train= train.drop(['label'],axis= 1).values\n",
    "y_train=train['label'].values\n",
    "X_test=test.copy()"
   ]
  },
  {
   "cell_type": "code",
   "execution_count": 8,
   "id": "b80f1349",
   "metadata": {
    "execution": {
     "iopub.execute_input": "2024-04-05T05:58:02.301533Z",
     "iopub.status.busy": "2024-04-05T05:58:02.301219Z",
     "iopub.status.idle": "2024-04-05T05:58:02.305923Z",
     "shell.execute_reply": "2024-04-05T05:58:02.305008Z"
    },
    "papermill": {
     "duration": 0.017307,
     "end_time": "2024-04-05T05:58:02.307820",
     "exception": false,
     "start_time": "2024-04-05T05:58:02.290513",
     "status": "completed"
    },
    "tags": []
   },
   "outputs": [
    {
     "name": "stdout",
     "output_type": "stream",
     "text": [
      "(42000, 784) (42000,)\n"
     ]
    }
   ],
   "source": [
    "print(X_train.shape, y_train.shape)\n",
    "#x_train은 2차원 텐서 , y_train은 벡터"
   ]
  },
  {
   "cell_type": "code",
   "execution_count": 9,
   "id": "322e81f4",
   "metadata": {
    "execution": {
     "iopub.execute_input": "2024-04-05T05:58:02.328297Z",
     "iopub.status.busy": "2024-04-05T05:58:02.328018Z",
     "iopub.status.idle": "2024-04-05T05:58:02.467091Z",
     "shell.execute_reply": "2024-04-05T05:58:02.466071Z"
    },
    "papermill": {
     "duration": 0.15202,
     "end_time": "2024-04-05T05:58:02.469512",
     "exception": false,
     "start_time": "2024-04-05T05:58:02.317492",
     "status": "completed"
    },
    "tags": []
   },
   "outputs": [],
   "source": [
    "X_train = X_train / 255.0\n",
    "X_test = X_test / 255.0"
   ]
  },
  {
   "cell_type": "code",
   "execution_count": 10,
   "id": "a2b9693e",
   "metadata": {
    "execution": {
     "iopub.execute_input": "2024-04-05T05:58:02.489552Z",
     "iopub.status.busy": "2024-04-05T05:58:02.489237Z",
     "iopub.status.idle": "2024-04-05T05:58:02.493227Z",
     "shell.execute_reply": "2024-04-05T05:58:02.492392Z"
    },
    "papermill": {
     "duration": 0.016099,
     "end_time": "2024-04-05T05:58:02.495118",
     "exception": false,
     "start_time": "2024-04-05T05:58:02.479019",
     "status": "completed"
    },
    "tags": []
   },
   "outputs": [],
   "source": [
    "import matplotlib.pyplot as plt\n",
    "import matplotlib.image as mpimg"
   ]
  },
  {
   "cell_type": "code",
   "execution_count": 11,
   "id": "f9e21cdd",
   "metadata": {
    "execution": {
     "iopub.execute_input": "2024-04-05T05:58:02.514556Z",
     "iopub.status.busy": "2024-04-05T05:58:02.514288Z",
     "iopub.status.idle": "2024-04-05T05:58:02.519865Z",
     "shell.execute_reply": "2024-04-05T05:58:02.519089Z"
    },
    "papermill": {
     "duration": 0.017507,
     "end_time": "2024-04-05T05:58:02.521784",
     "exception": false,
     "start_time": "2024-04-05T05:58:02.504277",
     "status": "completed"
    },
    "tags": []
   },
   "outputs": [
    {
     "data": {
      "text/plain": [
       "(42000, 1, 28, 28)"
      ]
     },
     "execution_count": 11,
     "metadata": {},
     "output_type": "execute_result"
    }
   ],
   "source": [
    "#픽셀 28*28 , 흑백이기 때문에 한 개의 채널\n",
    "X_train=X_train.reshape(-1,1,28,28)\n",
    "X_train.shape"
   ]
  },
  {
   "cell_type": "code",
   "execution_count": 12,
   "id": "996bf8a5",
   "metadata": {
    "execution": {
     "iopub.execute_input": "2024-04-05T05:58:02.541390Z",
     "iopub.status.busy": "2024-04-05T05:58:02.541129Z",
     "iopub.status.idle": "2024-04-05T05:58:02.789219Z",
     "shell.execute_reply": "2024-04-05T05:58:02.788333Z"
    },
    "papermill": {
     "duration": 0.260359,
     "end_time": "2024-04-05T05:58:02.791421",
     "exception": false,
     "start_time": "2024-04-05T05:58:02.531062",
     "status": "completed"
    },
    "tags": []
   },
   "outputs": [
    {
     "data": {
      "image/png": "[encoded data removed]",
      "text/plain": [
       "<Figure size 640x480 with 1 Axes>"
      ]
     },
     "metadata": {},
     "output_type": "display_data"
    }
   ],
   "source": [
    "import matplotlib.pyplot as plt\n",
    "image_index = 2\n",
    "image = X_train[image_index, 0]  # 42000개 중 두 번째 이미지 선택, 채널 차원 제거\n",
    "plt.imshow(image, cmap='gray')  # 흑백 이미지로 표시\n",
    "plt.show()\n"
   ]
  },
  {
   "cell_type": "code",
   "execution_count": 13,
   "id": "239258ae",
   "metadata": {
    "execution": {
     "iopub.execute_input": "2024-04-05T05:58:02.811943Z",
     "iopub.status.busy": "2024-04-05T05:58:02.811621Z",
     "iopub.status.idle": "2024-04-05T05:58:03.219223Z",
     "shell.execute_reply": "2024-04-05T05:58:03.218363Z"
    },
    "papermill": {
     "duration": 0.420491,
     "end_time": "2024-04-05T05:58:03.221704",
     "exception": false,
     "start_time": "2024-04-05T05:58:02.801213",
     "status": "completed"
    },
    "tags": []
   },
   "outputs": [],
   "source": [
    "X_train, X_val, y_train, y_val = train_test_split(X_train, y_train, test_size = 0.2, shuffle=True)"
   ]
  },
  {
   "cell_type": "code",
   "execution_count": 14,
   "id": "00373113",
   "metadata": {
    "execution": {
     "iopub.execute_input": "2024-04-05T05:58:03.242624Z",
     "iopub.status.busy": "2024-04-05T05:58:03.242358Z",
     "iopub.status.idle": "2024-04-05T05:58:03.247844Z",
     "shell.execute_reply": "2024-04-05T05:58:03.247023Z"
    },
    "papermill": {
     "duration": 0.018001,
     "end_time": "2024-04-05T05:58:03.249790",
     "exception": false,
     "start_time": "2024-04-05T05:58:03.231789",
     "status": "completed"
    },
    "tags": []
   },
   "outputs": [
    {
     "data": {
      "text/plain": [
       "(33600, 1, 28, 28)"
      ]
     },
     "execution_count": 14,
     "metadata": {},
     "output_type": "execute_result"
    }
   ],
   "source": [
    "X_train.shape"
   ]
  },
  {
   "cell_type": "code",
   "execution_count": 15,
   "id": "6dc92635",
   "metadata": {
    "execution": {
     "iopub.execute_input": "2024-04-05T05:58:03.270065Z",
     "iopub.status.busy": "2024-04-05T05:58:03.269820Z",
     "iopub.status.idle": "2024-04-05T05:58:03.342782Z",
     "shell.execute_reply": "2024-04-05T05:58:03.341968Z"
    },
    "papermill": {
     "duration": 0.085706,
     "end_time": "2024-04-05T05:58:03.345072",
     "exception": false,
     "start_time": "2024-04-05T05:58:03.259366",
     "status": "completed"
    },
    "tags": []
   },
   "outputs": [],
   "source": [
    "X_train = torch.tensor(X_train, dtype=torch.float32)  \n",
    "y_train = torch.tensor(y_train, dtype=torch.long)     \n",
    "X_val = torch.tensor(X_val, dtype=torch.float32)     \n",
    "y_val = torch.tensor(y_val, dtype=torch.long)         "
   ]
  },
  {
   "cell_type": "code",
   "execution_count": 16,
   "id": "e33cf69e",
   "metadata": {
    "execution": {
     "iopub.execute_input": "2024-04-05T05:58:03.366090Z",
     "iopub.status.busy": "2024-04-05T05:58:03.365526Z",
     "iopub.status.idle": "2024-04-05T05:58:03.371741Z",
     "shell.execute_reply": "2024-04-05T05:58:03.370858Z"
    },
    "papermill": {
     "duration": 0.018638,
     "end_time": "2024-04-05T05:58:03.373517",
     "exception": false,
     "start_time": "2024-04-05T05:58:03.354879",
     "status": "completed"
    },
    "tags": []
   },
   "outputs": [],
   "source": [
    "train_dataset=TensorDataset(X_train, y_train)\n",
    "train_batches=DataLoader(train_dataset,batch_size=128,shuffle=True)\n",
    "\n",
    "val_dataset=TensorDataset(X_val, y_val)\n",
    "val_batches=DataLoader(val_dataset,batch_size=128, shuffle=True)"
   ]
  },
  {
   "cell_type": "code",
   "execution_count": 17,
   "id": "283e749d",
   "metadata": {
    "execution": {
     "iopub.execute_input": "2024-04-05T05:58:03.394145Z",
     "iopub.status.busy": "2024-04-05T05:58:03.393870Z",
     "iopub.status.idle": "2024-04-05T05:58:03.403082Z",
     "shell.execute_reply": "2024-04-05T05:58:03.402219Z"
    },
    "papermill": {
     "duration": 0.021605,
     "end_time": "2024-04-05T05:58:03.404889",
     "exception": false,
     "start_time": "2024-04-05T05:58:03.383284",
     "status": "completed"
    },
    "tags": []
   },
   "outputs": [
    {
     "data": {
      "text/plain": [
       "torch.Size([33600, 784])"
      ]
     },
     "execution_count": 17,
     "metadata": {},
     "output_type": "execute_result"
    }
   ],
   "source": [
    "flatten=nn.Flatten()\n",
    "t=flatten(X_train)\n",
    "t.shape"
   ]
  },
  {
   "cell_type": "code",
   "execution_count": 18,
   "id": "8f7217c8",
   "metadata": {
    "execution": {
     "iopub.execute_input": "2024-04-05T05:58:03.426403Z",
     "iopub.status.busy": "2024-04-05T05:58:03.425619Z",
     "iopub.status.idle": "2024-04-05T05:58:06.570488Z",
     "shell.execute_reply": "2024-04-05T05:58:06.569407Z"
    },
    "papermill": {
     "duration": 3.15806,
     "end_time": "2024-04-05T05:58:06.572602",
     "exception": false,
     "start_time": "2024-04-05T05:58:03.414542",
     "status": "completed"
    },
    "tags": []
   },
   "outputs": [
    {
     "name": "stdout",
     "output_type": "stream",
     "text": [
      "torch.Size([33600, 32, 28, 28])\n"
     ]
    }
   ],
   "source": [
    "m=nn.Conv2d(1,32,kernel_size=3,stride=1,padding=1,bias=False)\n",
    "print(m(X_train).shape)"
   ]
  },
  {
   "cell_type": "code",
   "execution_count": null,
   "id": "2802187f",
   "metadata": {
    "papermill": {
     "duration": 0.009714,
     "end_time": "2024-04-05T05:58:06.592887",
     "exception": false,
     "start_time": "2024-04-05T05:58:06.583173",
     "status": "completed"
    },
    "tags": []
   },
   "outputs": [],
   "source": []
  },
  {
   "cell_type": "code",
   "execution_count": 19,
   "id": "3bace125",
   "metadata": {
    "execution": {
     "iopub.execute_input": "2024-04-05T05:58:06.614120Z",
     "iopub.status.busy": "2024-04-05T05:58:06.613588Z",
     "iopub.status.idle": "2024-04-05T05:58:06.624841Z",
     "shell.execute_reply": "2024-04-05T05:58:06.623979Z"
    },
    "papermill": {
     "duration": 0.024003,
     "end_time": "2024-04-05T05:58:06.626706",
     "exception": false,
     "start_time": "2024-04-05T05:58:06.602703",
     "status": "completed"
    },
    "tags": []
   },
   "outputs": [],
   "source": [
    "class CNNModel(nn.Module):\n",
    "        \n",
    "    def __init__(self):\n",
    "        super().__init__()\n",
    "        \n",
    "        self.conv_layers = nn.Sequential(\n",
    "            \n",
    "            nn.Conv2d(1, 32, kernel_size=3, stride=1, padding=1, bias=False),\n",
    "            nn.LeakyReLU(0.1),\n",
    "            nn.BatchNorm2d(32),            \n",
    "            nn.AvgPool2d(2),\n",
    "                \n",
    "            nn.Conv2d(32, 64, kernel_size=3, stride=1, padding=1, bias=False),\n",
    "            nn.LeakyReLU(0.1),\n",
    "            nn.BatchNorm2d(64),            \n",
    "            nn.AvgPool2d(2),\n",
    "               \n",
    "            nn.Conv2d(64, 128, kernel_size=3, stride=1, padding=1, bias=False),\n",
    "            nn.LeakyReLU(0.1),\n",
    "            nn.BatchNorm2d(128),            \n",
    "            nn.AvgPool2d(2)\n",
    "        )\n",
    "            \n",
    "        self.linear_layers = nn.Sequential(\n",
    "            \n",
    "            nn.Linear(1152, 64),\n",
    "            nn.LeakyReLU(0.1),\n",
    "            nn.BatchNorm1d(64),\n",
    "            \n",
    "            nn.Linear(64,64),\n",
    "            nn.LeakyReLU(0.1),\n",
    "            nn.Dropout(0.2),\n",
    "                \n",
    "            nn.Linear(64, 32),\n",
    "            nn.LeakyReLU(0.1),\n",
    "            nn.BatchNorm1d(32),\n",
    "            \n",
    "            nn.Linear(32,32),\n",
    "            nn.LeakyReLU(0.1),\n",
    "            nn.Dropout(0.2),\n",
    "                \n",
    "            nn.Linear(32, 10), \n",
    "            nn.LeakyReLU(0.1),\n",
    "            nn.Softmax(dim=-1)  \n",
    "        )\n",
    "        \n",
    "        self.dropout = nn.Dropout(0.25)\n",
    "        self.flatten=nn.Flatten()\n",
    "    \n",
    "    def forward(self, x):\n",
    "        x = self.conv_layers(x)\n",
    "        x=  self.flatten(x)\n",
    "        x=  self.dropout(x)\n",
    "        x = self.linear_layers(x)\n",
    "        return x\n"
   ]
  },
  {
   "cell_type": "code",
   "execution_count": 20,
   "id": "2c0c44cb",
   "metadata": {
    "execution": {
     "iopub.execute_input": "2024-04-05T05:58:06.647589Z",
     "iopub.status.busy": "2024-04-05T05:58:06.647339Z",
     "iopub.status.idle": "2024-04-05T05:58:06.665596Z",
     "shell.execute_reply": "2024-04-05T05:58:06.664729Z"
    },
    "papermill": {
     "duration": 0.031139,
     "end_time": "2024-04-05T05:58:06.667573",
     "exception": false,
     "start_time": "2024-04-05T05:58:06.636434",
     "status": "completed"
    },
    "tags": []
   },
   "outputs": [
    {
     "data": {
      "text/plain": [
       "CNNModel(\n",
       "  (conv_layers): Sequential(\n",
       "    (0): Conv2d(1, 32, kernel_size=(3, 3), stride=(1, 1), padding=(1, 1), bias=False)\n",
       "    (1): LeakyReLU(negative_slope=0.1)\n",
       "    (2): BatchNorm2d(32, eps=1e-05, momentum=0.1, affine=True, track_running_stats=True)\n",
       "    (3): AvgPool2d(kernel_size=2, stride=2, padding=0)\n",
       "    (4): Conv2d(32, 64, kernel_size=(3, 3), stride=(1, 1), padding=(1, 1), bias=False)\n",
       "    (5): LeakyReLU(negative_slope=0.1)\n",
       "    (6): BatchNorm2d(64, eps=1e-05, momentum=0.1, affine=True, track_running_stats=True)\n",
       "    (7): AvgPool2d(kernel_size=2, stride=2, padding=0)\n",
       "    (8): Conv2d(64, 128, kernel_size=(3, 3), stride=(1, 1), padding=(1, 1), bias=False)\n",
       "    (9): LeakyReLU(negative_slope=0.1)\n",
       "    (10): BatchNorm2d(128, eps=1e-05, momentum=0.1, affine=True, track_running_stats=True)\n",
       "    (11): AvgPool2d(kernel_size=2, stride=2, padding=0)\n",
       "  )\n",
       "  (linear_layers): Sequential(\n",
       "    (0): Linear(in_features=1152, out_features=64, bias=True)\n",
       "    (1): LeakyReLU(negative_slope=0.1)\n",
       "    (2): BatchNorm1d(64, eps=1e-05, momentum=0.1, affine=True, track_running_stats=True)\n",
       "    (3): Linear(in_features=64, out_features=64, bias=True)\n",
       "    (4): LeakyReLU(negative_slope=0.1)\n",
       "    (5): Dropout(p=0.2, inplace=False)\n",
       "    (6): Linear(in_features=64, out_features=32, bias=True)\n",
       "    (7): LeakyReLU(negative_slope=0.1)\n",
       "    (8): BatchNorm1d(32, eps=1e-05, momentum=0.1, affine=True, track_running_stats=True)\n",
       "    (9): Linear(in_features=32, out_features=32, bias=True)\n",
       "    (10): LeakyReLU(negative_slope=0.1)\n",
       "    (11): Dropout(p=0.2, inplace=False)\n",
       "    (12): Linear(in_features=32, out_features=10, bias=True)\n",
       "    (13): LeakyReLU(negative_slope=0.1)\n",
       "    (14): Softmax(dim=-1)\n",
       "  )\n",
       "  (dropout): Dropout(p=0.25, inplace=False)\n",
       "  (flatten): Flatten(start_dim=1, end_dim=-1)\n",
       ")"
      ]
     },
     "execution_count": 20,
     "metadata": {},
     "output_type": "execute_result"
    }
   ],
   "source": [
    "CNNModel()"
   ]
  },
  {
   "cell_type": "code",
   "execution_count": 21,
   "id": "b21d6900",
   "metadata": {
    "execution": {
     "iopub.execute_input": "2024-04-05T05:58:06.688811Z",
     "iopub.status.busy": "2024-04-05T05:58:06.688505Z",
     "iopub.status.idle": "2024-04-05T05:58:06.842444Z",
     "shell.execute_reply": "2024-04-05T05:58:06.841605Z"
    },
    "papermill": {
     "duration": 0.167168,
     "end_time": "2024-04-05T05:58:06.844729",
     "exception": false,
     "start_time": "2024-04-05T05:58:06.677561",
     "status": "completed"
    },
    "tags": []
   },
   "outputs": [],
   "source": [
    "model=CNNModel().to(device)\n",
    "minibatch_size=128\n",
    "optimizer= torch.optim.Adam(model.parameters(),lr=0.001)\n",
    "loss_func=nn.CrossEntropyLoss()\n",
    "\n",
    "nb_epochs=100\n",
    "early_stop=10\n",
    "progress_interval=5"
   ]
  },
  {
   "cell_type": "code",
   "execution_count": 22,
   "id": "510d784c",
   "metadata": {
    "execution": {
     "iopub.execute_input": "2024-04-05T05:58:06.866842Z",
     "iopub.status.busy": "2024-04-05T05:58:06.866393Z",
     "iopub.status.idle": "2024-04-05T05:58:06.877566Z",
     "shell.execute_reply": "2024-04-05T05:58:06.876706Z"
    },
    "papermill": {
     "duration": 0.024186,
     "end_time": "2024-04-05T05:58:06.879326",
     "exception": false,
     "start_time": "2024-04-05T05:58:06.855140",
     "status": "completed"
    },
    "tags": []
   },
   "outputs": [],
   "source": [
    "def train_model(model, early_stop, n_epochs, progress_interval):\n",
    "    \n",
    "    train_losses, valid_losses, lowest_loss = list(), list(), np.inf\n",
    "\n",
    "   \n",
    "    for epoch in range(n_epochs):\n",
    "        \n",
    "        train_loss, valid_loss = 0, 0\n",
    "        \n",
    "        model.train()\n",
    "        \n",
    "        for x_minibatch, y_minibatch in train_batches:\n",
    "            x_minibatch = x_minibatch.to(device)\n",
    "            y_minibatch = y_minibatch.to(device)\n",
    "            y_minibatch_pred = model(x_minibatch)\n",
    "            loss = loss_func(y_minibatch_pred, y_minibatch)\n",
    "\n",
    "            optimizer.zero_grad()\n",
    "            loss.backward()\n",
    "            optimizer.step()\n",
    "            train_loss += loss.item()\n",
    "        \n",
    "        train_loss = train_loss / len(train_batches)\n",
    "        train_losses.append(train_loss)      \n",
    "        \n",
    "    \n",
    "        model.eval()\n",
    "        with torch.no_grad():\n",
    "            for x_minibatch, y_minibatch in val_batches:\n",
    "                x_minibatch = x_minibatch.to(device)\n",
    "                y_minibatch = y_minibatch.to(device)\n",
    "                y_minibatch_pred = model(x_minibatch)\n",
    "                loss = loss_func(y_minibatch_pred, y_minibatch)\n",
    "                valid_loss += loss.item()\n",
    "                \n",
    "        valid_loss = valid_loss / len(val_batches)\n",
    "        valid_losses.append(valid_loss)\n",
    "\n",
    "        if valid_losses[-1] < lowest_loss:\n",
    "            lowest_loss = valid_losses[-1]\n",
    "            lowest_epoch = epoch\n",
    "            best_model = deepcopy(model.state_dict())\n",
    "        else:\n",
    "            if (early_stop > 0) and lowest_epoch + early_stop < epoch:\n",
    "                print (\"Early Stopped\", epoch, \"epochs\")\n",
    "                break\n",
    "                \n",
    "        if (epoch % progress_interval) == 0:\n",
    "            print (train_losses[-1], valid_losses[-1], lowest_loss, lowest_epoch, epoch)\n",
    "            \n",
    "    model.load_state_dict(best_model)        \n",
    "    return model, lowest_loss, train_losses, valid_losses"
   ]
  },
  {
   "cell_type": "code",
   "execution_count": 23,
   "id": "72863a6a",
   "metadata": {
    "execution": {
     "iopub.execute_input": "2024-04-05T05:58:06.900459Z",
     "iopub.status.busy": "2024-04-05T05:58:06.900201Z",
     "iopub.status.idle": "2024-04-05T05:59:10.035554Z",
     "shell.execute_reply": "2024-04-05T05:59:10.034517Z"
    },
    "papermill": {
     "duration": 63.15984,
     "end_time": "2024-04-05T05:59:10.049152",
     "exception": false,
     "start_time": "2024-04-05T05:58:06.889312",
     "status": "completed"
    },
    "tags": []
   },
   "outputs": [
    {
     "name": "stdout",
     "output_type": "stream",
     "text": [
      "1.7231967036715026 1.483084833983219 1.483084833983219 0 0\n",
      "1.4762439537410954 1.4761720552588955 1.4752525091171265 2 5\n",
      "1.4721784351443157 1.4743642536076633 1.4711983817996401 8 10\n",
      "1.4706411008145872 1.4706845120950178 1.4702293836709224 13 15\n",
      "1.4707546941227787 1.4717185280539773 1.4702293836709224 13 20\n",
      "1.4690344247527902 1.4703823346080203 1.4689596566286953 22 25\n",
      "1.4703672190582797 1.47103243524378 1.4689596566286953 22 30\n",
      "Early Stopped 33 epochs\n"
     ]
    }
   ],
   "source": [
    "model, lowest_loss, trian_loss, valid_loss = train_model(model,early_stop,nb_epochs,progress_interval)"
   ]
  },
  {
   "cell_type": "code",
   "execution_count": 24,
   "id": "17ffbfe6",
   "metadata": {
    "execution": {
     "iopub.execute_input": "2024-04-05T05:59:10.073213Z",
     "iopub.status.busy": "2024-04-05T05:59:10.072917Z",
     "iopub.status.idle": "2024-04-05T05:59:10.122286Z",
     "shell.execute_reply": "2024-04-05T05:59:10.121275Z"
    },
    "papermill": {
     "duration": 0.064276,
     "end_time": "2024-04-05T05:59:10.124822",
     "exception": false,
     "start_time": "2024-04-05T05:59:10.060546",
     "status": "completed"
    },
    "tags": []
   },
   "outputs": [],
   "source": [
    "X_test=test.values\n",
    "X_test=X_test.reshape(-1,1,28,28)\n",
    "X_test=torch.tensor(X_test, dtype=torch.float32)\n",
    "test_batches=DataLoader(X_test,batch_size=minibatch_size,shuffle=True)"
   ]
  },
  {
   "cell_type": "code",
   "execution_count": 25,
   "id": "80b30d5c",
   "metadata": {
    "execution": {
     "iopub.execute_input": "2024-04-05T05:59:10.150308Z",
     "iopub.status.busy": "2024-04-05T05:59:10.150013Z",
     "iopub.status.idle": "2024-04-05T05:59:10.155545Z",
     "shell.execute_reply": "2024-04-05T05:59:10.154712Z"
    },
    "papermill": {
     "duration": 0.019875,
     "end_time": "2024-04-05T05:59:10.157588",
     "exception": false,
     "start_time": "2024-04-05T05:59:10.137713",
     "status": "completed"
    },
    "tags": []
   },
   "outputs": [
    {
     "data": {
      "text/plain": [
       "torch.Size([28000, 1, 28, 28])"
      ]
     },
     "execution_count": 25,
     "metadata": {},
     "output_type": "execute_result"
    }
   ],
   "source": [
    "X_test.shape"
   ]
  },
  {
   "cell_type": "code",
   "execution_count": 26,
   "id": "c1992f5a",
   "metadata": {
    "execution": {
     "iopub.execute_input": "2024-04-05T05:59:10.181864Z",
     "iopub.status.busy": "2024-04-05T05:59:10.180462Z",
     "iopub.status.idle": "2024-04-05T05:59:10.882529Z",
     "shell.execute_reply": "2024-04-05T05:59:10.881640Z"
    },
    "papermill": {
     "duration": 0.716471,
     "end_time": "2024-04-05T05:59:10.884839",
     "exception": false,
     "start_time": "2024-04-05T05:59:10.168368",
     "status": "completed"
    },
    "tags": []
   },
   "outputs": [],
   "source": [
    "model.eval()\n",
    "all_pred=[]\n",
    "with torch.no_grad():\n",
    "    for x_minibatch in test_batches:\n",
    "        x_minibatch=x_minibatch.to(device)\n",
    "        y_test_pred = model(x_minibatch)\n",
    "        all_pred.append(y_test_pred)\n",
    "y_test_pred = torch.cat(all_pred, dim=0)"
   ]
  },
  {
   "cell_type": "code",
   "execution_count": 27,
   "id": "23a1d9a9",
   "metadata": {
    "execution": {
     "iopub.execute_input": "2024-04-05T05:59:10.908214Z",
     "iopub.status.busy": "2024-04-05T05:59:10.907869Z",
     "iopub.status.idle": "2024-04-05T05:59:10.913762Z",
     "shell.execute_reply": "2024-04-05T05:59:10.912759Z"
    },
    "papermill": {
     "duration": 0.019873,
     "end_time": "2024-04-05T05:59:10.915788",
     "exception": false,
     "start_time": "2024-04-05T05:59:10.895915",
     "status": "completed"
    },
    "tags": []
   },
   "outputs": [
    {
     "data": {
      "text/plain": [
       "torch.Size([28000, 10])"
      ]
     },
     "execution_count": 27,
     "metadata": {},
     "output_type": "execute_result"
    }
   ],
   "source": [
    "y_test_pred.shape"
   ]
  },
  {
   "cell_type": "code",
   "execution_count": 28,
   "id": "7c602821",
   "metadata": {
    "execution": {
     "iopub.execute_input": "2024-04-05T05:59:10.940447Z",
     "iopub.status.busy": "2024-04-05T05:59:10.940130Z",
     "iopub.status.idle": "2024-04-05T05:59:10.959458Z",
     "shell.execute_reply": "2024-04-05T05:59:10.958598Z"
    },
    "papermill": {
     "duration": 0.033726,
     "end_time": "2024-04-05T05:59:10.961342",
     "exception": false,
     "start_time": "2024-04-05T05:59:10.927616",
     "status": "completed"
    },
    "tags": []
   },
   "outputs": [
    {
     "data": {
      "text/plain": [
       "tensor([1, 2, 7,  ..., 4, 8, 2], device='cuda:0')"
      ]
     },
     "metadata": {},
     "output_type": "display_data"
    }
   ],
   "source": [
    "predicted_labels = torch.argmax(y_test_pred, dim=1)\n",
    "display(predicted_labels)"
   ]
  },
  {
   "cell_type": "code",
   "execution_count": 29,
   "id": "e420a255",
   "metadata": {
    "execution": {
     "iopub.execute_input": "2024-04-05T05:59:10.984453Z",
     "iopub.status.busy": "2024-04-05T05:59:10.984154Z",
     "iopub.status.idle": "2024-04-05T05:59:11.021744Z",
     "shell.execute_reply": "2024-04-05T05:59:11.021003Z"
    },
    "papermill": {
     "duration": 0.05157,
     "end_time": "2024-04-05T05:59:11.023832",
     "exception": false,
     "start_time": "2024-04-05T05:59:10.972262",
     "status": "completed"
    },
    "tags": []
   },
   "outputs": [],
   "source": [
    "predicted_labels_numpy = predicted_labels.cpu().numpy()  # PyTorch 텐서를 NumPy 배열로 변환\n",
    "\n",
    "submission_df = pd.DataFrame({'ImageId': range(1, len(predicted_labels_numpy) + 1),\n",
    "                              'Label': predicted_labels_numpy})\n",
    "\n",
    "submission_df.to_csv(\"submission.csv\", index=False)"
   ]
  },
  {
   "cell_type": "code",
   "execution_count": 30,
   "id": "9230e683",
   "metadata": {
    "execution": {
     "iopub.execute_input": "2024-04-05T05:59:11.047375Z",
     "iopub.status.busy": "2024-04-05T05:59:11.047081Z",
     "iopub.status.idle": "2024-04-05T05:59:11.280111Z",
     "shell.execute_reply": "2024-04-05T05:59:11.279021Z"
    },
    "papermill": {
     "duration": 0.247264,
     "end_time": "2024-04-05T05:59:11.282314",
     "exception": false,
     "start_time": "2024-04-05T05:59:11.035050",
     "status": "completed"
    },
    "tags": []
   },
   "outputs": [
    {
     "name": "stdout",
     "output_type": "stream",
     "text": [
      "Average Test Loss: 0.0115\n",
      "Accuracy: 8334/8400 (99.21%)\n"
     ]
    }
   ],
   "source": [
    "test_loss = 0\n",
    "correct = 0\n",
    "wrong_samples, wrong_preds, actual_preds = list(), list(), list()\n",
    "\n",
    "model.eval()\n",
    "with torch.no_grad():\n",
    "    for x_minibatch, y_minibatch in val_batches:\n",
    "        x_minibatch = x_minibatch.to(device)\n",
    "        y_minibatch = y_minibatch.to(device)      \n",
    "        y_test_pred = model(x_minibatch)\n",
    "        test_loss += loss_func(y_test_pred, y_minibatch)  \n",
    "        pred = torch.argmax(y_test_pred, dim=1)\n",
    "        correct += pred.eq(y_minibatch).sum().item()\n",
    "        \n",
    "        wrong_idx = pred.ne(y_minibatch).nonzero()[:, 0].cpu().numpy().tolist()\n",
    "        for index in wrong_idx:\n",
    "            wrong_samples.append(x_minibatch[index].cpu())\n",
    "            wrong_preds.append(pred[index].cpu())\n",
    "            actual_preds.append(y_minibatch[index].cpu())\n",
    "            \n",
    "test_loss /= len(val_batches.dataset)#validation batches로 해야하는데 test로  했었음\n",
    "print('Average Test Loss: {:.4f}'.format( test_loss ))\n",
    "print('Accuracy: {}/{} ({:.2f}%)'.format( correct, len(val_batches.dataset), 100 * correct / len(val_batches.dataset) ))"
   ]
  },
  {
   "cell_type": "code",
   "execution_count": 31,
   "id": "2b8defcf",
   "metadata": {
    "execution": {
     "iopub.execute_input": "2024-04-05T05:59:11.306402Z",
     "iopub.status.busy": "2024-04-05T05:59:11.306089Z",
     "iopub.status.idle": "2024-04-05T05:59:11.322343Z",
     "shell.execute_reply": "2024-04-05T05:59:11.321452Z"
    },
    "papermill": {
     "duration": 0.030471,
     "end_time": "2024-04-05T05:59:11.324428",
     "exception": false,
     "start_time": "2024-04-05T05:59:11.293957",
     "status": "completed"
    },
    "tags": []
   },
   "outputs": [
    {
     "data": {
      "text/html": [
       "<div>\n",
       "<style scoped>\n",
       "    .dataframe tbody tr th:only-of-type {\n",
       "        vertical-align: middle;\n",
       "    }\n",
       "\n",
       "    .dataframe tbody tr th {\n",
       "        vertical-align: top;\n",
       "    }\n",
       "\n",
       "    .dataframe thead th {\n",
       "        text-align: right;\n",
       "    }\n",
       "</style>\n",
       "<table border=\"1\" class=\"dataframe\">\n",
       "  <thead>\n",
       "    <tr style=\"text-align: right;\">\n",
       "      <th></th>\n",
       "      <th>ImageId</th>\n",
       "      <th>Label</th>\n",
       "    </tr>\n",
       "  </thead>\n",
       "  <tbody>\n",
       "    <tr>\n",
       "      <th>0</th>\n",
       "      <td>1</td>\n",
       "      <td>1</td>\n",
       "    </tr>\n",
       "    <tr>\n",
       "      <th>1</th>\n",
       "      <td>2</td>\n",
       "      <td>2</td>\n",
       "    </tr>\n",
       "    <tr>\n",
       "      <th>2</th>\n",
       "      <td>3</td>\n",
       "      <td>7</td>\n",
       "    </tr>\n",
       "    <tr>\n",
       "      <th>3</th>\n",
       "      <td>4</td>\n",
       "      <td>8</td>\n",
       "    </tr>\n",
       "    <tr>\n",
       "      <th>4</th>\n",
       "      <td>5</td>\n",
       "      <td>9</td>\n",
       "    </tr>\n",
       "    <tr>\n",
       "      <th>...</th>\n",
       "      <td>...</td>\n",
       "      <td>...</td>\n",
       "    </tr>\n",
       "    <tr>\n",
       "      <th>27995</th>\n",
       "      <td>27996</td>\n",
       "      <td>7</td>\n",
       "    </tr>\n",
       "    <tr>\n",
       "      <th>27996</th>\n",
       "      <td>27997</td>\n",
       "      <td>6</td>\n",
       "    </tr>\n",
       "    <tr>\n",
       "      <th>27997</th>\n",
       "      <td>27998</td>\n",
       "      <td>4</td>\n",
       "    </tr>\n",
       "    <tr>\n",
       "      <th>27998</th>\n",
       "      <td>27999</td>\n",
       "      <td>8</td>\n",
       "    </tr>\n",
       "    <tr>\n",
       "      <th>27999</th>\n",
       "      <td>28000</td>\n",
       "      <td>2</td>\n",
       "    </tr>\n",
       "  </tbody>\n",
       "</table>\n",
       "<p>28000 rows × 2 columns</p>\n",
       "</div>"
      ],
      "text/plain": [
       "       ImageId  Label\n",
       "0            1      1\n",
       "1            2      2\n",
       "2            3      7\n",
       "3            4      8\n",
       "4            5      9\n",
       "...        ...    ...\n",
       "27995    27996      7\n",
       "27996    27997      6\n",
       "27997    27998      4\n",
       "27998    27999      8\n",
       "27999    28000      2\n",
       "\n",
       "[28000 rows x 2 columns]"
      ]
     },
     "metadata": {},
     "output_type": "display_data"
    }
   ],
   "source": [
    "pds=pd.read_csv(\"/kaggle/working/submission.csv\")\n",
    "display(pds)"
   ]
  }
 ],
 "metadata": {
  "kaggle": {
   "accelerator": "gpu",
   "dataSources": [
    {
     "databundleVersionId": 861823,
     "sourceId": 3004,
     "sourceType": "competition"
    }
   ],
   "dockerImageVersionId": 30673,
   "isGpuEnabled": true,
   "isInternetEnabled": true,
   "language": "python",
   "sourceType": "notebook"
  },
  "kernelspec": {
   "display_name": "Python 3",
   "language": "python",
   "name": "python3"
  },
  "language_info": {
   "codemirror_mode": {
    "name": "ipython",
    "version": 3
   },
   "file_extension": ".py",
   "mimetype": "text/x-python",
   "name": "python",
   "nbconvert_exporter": "python",
   "pygments_lexer": "ipython3",
   "version": "3.10.13"
  },
  "papermill": {
   "default_parameters": {},
   "duration": 88.267349,
   "end_time": "2024-04-05T05:59:13.612064",
   "environment_variables": {},
   "exception": null,
   "input_path": "__notebook__.ipynb",
   "output_path": "__notebook__.ipynb",
   "parameters": {},
   "start_time": "2024-04-05T05:57:45.344715",
   "version": "2.5.0"
  }
 },
 "nbformat": 4,
 "nbformat_minor": 5
}
